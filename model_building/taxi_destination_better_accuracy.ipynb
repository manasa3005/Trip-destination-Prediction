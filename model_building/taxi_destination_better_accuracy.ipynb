{
 "cells": [
  {
   "cell_type": "code",
   "execution_count": 3,
   "id": "be7c9171",
   "metadata": {},
   "outputs": [],
   "source": [
    "import pandas as pd\n",
    "data=pd.read_csv('/Geolife Trajectories 1.3/geolife.csv')"
   ]
  },
  {
   "cell_type": "code",
   "execution_count": 4,
   "id": "02a505a0",
   "metadata": {},
   "outputs": [],
   "source": [
    "import numpy as np\n",
    "from sklearn.preprocessing import StandardScaler\n",
    "import matplotlib.pyplot as plt\n",
    "from sklearn.cluster import KMeans\n",
    "from sklearn.model_selection import train_test_split"
   ]
  },
  {
   "cell_type": "code",
   "execution_count": 5,
   "id": "f951175f",
   "metadata": {},
   "outputs": [
    {
     "data": {
      "text/plain": [
       "Index(['lat', 'lon', 'alt', 'time', 'destination', 'mode_of_transport',\n",
       "       'start_time', 'end_time', 'tid', 'time_diff', 'distance', 'speed',\n",
       "       'acceleration', 'user'],\n",
       "      dtype='object')"
      ]
     },
     "execution_count": 5,
     "metadata": {},
     "output_type": "execute_result"
    }
   ],
   "source": [
    "data.columns"
   ]
  },
  {
   "cell_type": "code",
   "execution_count": 6,
   "id": "28fe8857",
   "metadata": {},
   "outputs": [],
   "source": [
    "filtered_data = data[data['mode_of_transport'].isin([10, 3])]"
   ]
  },
  {
   "cell_type": "code",
   "execution_count": 7,
   "id": "eb046290",
   "metadata": {},
   "outputs": [
    {
     "name": "stderr",
     "output_type": "stream",
     "text": [
      "C:\\Users\\z044971\\AppData\\Local\\Temp/ipykernel_14412/3314771656.py:1: SettingWithCopyWarning: \n",
      "A value is trying to be set on a copy of a slice from a DataFrame.\n",
      "Try using .loc[row_indexer,col_indexer] = value instead\n",
      "\n",
      "See the caveats in the documentation: https://pandas.pydata.org/pandas-docs/stable/user_guide/indexing.html#returning-a-view-versus-a-copy\n",
      "  filtered_data[['lat_destination', 'lon_destination']] = pd.DataFrame(filtered_data['destination'].apply(eval).tolist(), index=filtered_data.index)\n",
      "C:\\Users\\z044971\\AppData\\Local\\Temp/ipykernel_14412/3314771656.py:1: SettingWithCopyWarning: \n",
      "A value is trying to be set on a copy of a slice from a DataFrame.\n",
      "Try using .loc[row_indexer,col_indexer] = value instead\n",
      "\n",
      "See the caveats in the documentation: https://pandas.pydata.org/pandas-docs/stable/user_guide/indexing.html#returning-a-view-versus-a-copy\n",
      "  filtered_data[['lat_destination', 'lon_destination']] = pd.DataFrame(filtered_data['destination'].apply(eval).tolist(), index=filtered_data.index)\n"
     ]
    }
   ],
   "source": [
    "filtered_data[['lat_destination', 'lon_destination']] = pd.DataFrame(filtered_data['destination'].apply(eval).tolist(), index=filtered_data.index)"
   ]
  },
  {
   "cell_type": "code",
   "execution_count": 8,
   "id": "57d5ed41",
   "metadata": {},
   "outputs": [
    {
     "name": "stderr",
     "output_type": "stream",
     "text": [
      "C:\\Users\\z044971\\AppData\\Local\\Temp/ipykernel_14412/2729726634.py:2: SettingWithCopyWarning: \n",
      "A value is trying to be set on a copy of a slice from a DataFrame.\n",
      "Try using .loc[row_indexer,col_indexer] = value instead\n",
      "\n",
      "See the caveats in the documentation: https://pandas.pydata.org/pandas-docs/stable/user_guide/indexing.html#returning-a-view-versus-a-copy\n",
      "  filtered_data['time'] = pd.to_datetime(filtered_data['time'])\n",
      "C:\\Users\\z044971\\AppData\\Local\\Temp/ipykernel_14412/2729726634.py:5: SettingWithCopyWarning: \n",
      "A value is trying to be set on a copy of a slice from a DataFrame.\n",
      "Try using .loc[row_indexer,col_indexer] = value instead\n",
      "\n",
      "See the caveats in the documentation: https://pandas.pydata.org/pandas-docs/stable/user_guide/indexing.html#returning-a-view-versus-a-copy\n",
      "  filtered_data['hour'] = filtered_data['time'].dt.hour\n",
      "C:\\Users\\z044971\\AppData\\Local\\Temp/ipykernel_14412/2729726634.py:6: SettingWithCopyWarning: \n",
      "A value is trying to be set on a copy of a slice from a DataFrame.\n",
      "Try using .loc[row_indexer,col_indexer] = value instead\n",
      "\n",
      "See the caveats in the documentation: https://pandas.pydata.org/pandas-docs/stable/user_guide/indexing.html#returning-a-view-versus-a-copy\n",
      "  filtered_data['day'] = filtered_data['time'].dt.day  # Day of the month\n",
      "C:\\Users\\z044971\\AppData\\Local\\Temp/ipykernel_14412/2729726634.py:7: SettingWithCopyWarning: \n",
      "A value is trying to be set on a copy of a slice from a DataFrame.\n",
      "Try using .loc[row_indexer,col_indexer] = value instead\n",
      "\n",
      "See the caveats in the documentation: https://pandas.pydata.org/pandas-docs/stable/user_guide/indexing.html#returning-a-view-versus-a-copy\n",
      "  filtered_data['week'] = filtered_data['time'].dt.isocalendar().week  # ISO week number\n"
     ]
    }
   ],
   "source": [
    "# Convert the time column to datetime\n",
    "filtered_data['time'] = pd.to_datetime(filtered_data['time'])\n",
    "\n",
    "# Extract hour, day, weekday, and week number\n",
    "filtered_data['hour'] = filtered_data['time'].dt.hour\n",
    "filtered_data['day'] = filtered_data['time'].dt.day  # Day of the month\n",
    "filtered_data['week'] = filtered_data['time'].dt.isocalendar().week  # ISO week number\n"
   ]
  },
  {
   "cell_type": "code",
   "execution_count": 9,
   "id": "fe925fad",
   "metadata": {},
   "outputs": [],
   "source": [
    "# Group by 'user' and 'tid', then take the first 'lat' and 'lon' for each trip as the departure coordinates\n",
    "df_departure = filtered_data.groupby(['user', 'tid']).first().reset_index()\n",
    "\n",
    "# Merge the departure coordinates back into the original dataframe\n",
    "filtered_data = filtered_data.merge(df_departure[['user', 'tid', 'lat', 'lon']], on=['user', 'tid'], suffixes=('', '_departure'))\n",
    "\n",
    "# Rename the columns for clarity\n",
    "filtered_data.rename(columns={'lat_departure': 'departure_lat', 'lon_departure': 'departure_lon'}, inplace=True)"
   ]
  },
  {
   "cell_type": "code",
   "execution_count": 10,
   "id": "ad3b8899",
   "metadata": {},
   "outputs": [],
   "source": [
    "##partial data"
   ]
  },
  {
   "cell_type": "code",
   "execution_count": 12,
   "id": "31d33e7d",
   "metadata": {},
   "outputs": [
    {
     "data": {
      "text/html": [
       "<div>\n",
       "<style scoped>\n",
       "    .dataframe tbody tr th:only-of-type {\n",
       "        vertical-align: middle;\n",
       "    }\n",
       "\n",
       "    .dataframe tbody tr th {\n",
       "        vertical-align: top;\n",
       "    }\n",
       "\n",
       "    .dataframe thead th {\n",
       "        text-align: right;\n",
       "    }\n",
       "</style>\n",
       "<table border=\"1\" class=\"dataframe\">\n",
       "  <thead>\n",
       "    <tr style=\"text-align: right;\">\n",
       "      <th></th>\n",
       "      <th>lat</th>\n",
       "      <th>lon</th>\n",
       "      <th>alt</th>\n",
       "      <th>time</th>\n",
       "      <th>destination</th>\n",
       "      <th>mode_of_transport</th>\n",
       "      <th>start_time</th>\n",
       "      <th>end_time</th>\n",
       "      <th>tid</th>\n",
       "      <th>time_diff</th>\n",
       "      <th>...</th>\n",
       "      <th>acceleration</th>\n",
       "      <th>user</th>\n",
       "      <th>lat_destination</th>\n",
       "      <th>lon_destination</th>\n",
       "      <th>hour</th>\n",
       "      <th>day</th>\n",
       "      <th>week</th>\n",
       "      <th>departure_lat</th>\n",
       "      <th>departure_lon</th>\n",
       "      <th>partial</th>\n",
       "    </tr>\n",
       "  </thead>\n",
       "  <tbody>\n",
       "    <tr>\n",
       "      <th>0</th>\n",
       "      <td>39.995196</td>\n",
       "      <td>116.327816</td>\n",
       "      <td>181.0512</td>\n",
       "      <td>2008-09-27 11:42:13</td>\n",
       "      <td>(39.135816, 117.216816)</td>\n",
       "      <td>3</td>\n",
       "      <td>2008-09-27 11:42:13</td>\n",
       "      <td>2008-09-27 12:29:29</td>\n",
       "      <td>Data\\010_207</td>\n",
       "      <td>-6136872.0</td>\n",
       "      <td>...</td>\n",
       "      <td>8.185101e-07</td>\n",
       "      <td>10</td>\n",
       "      <td>39.135816</td>\n",
       "      <td>117.216816</td>\n",
       "      <td>11</td>\n",
       "      <td>27</td>\n",
       "      <td>39</td>\n",
       "      <td>39.995196</td>\n",
       "      <td>116.327816</td>\n",
       "      <td>0</td>\n",
       "    </tr>\n",
       "    <tr>\n",
       "      <th>1</th>\n",
       "      <td>39.995223</td>\n",
       "      <td>116.327865</td>\n",
       "      <td>181.0512</td>\n",
       "      <td>2008-09-27 11:42:14</td>\n",
       "      <td>(39.135816, 117.216816)</td>\n",
       "      <td>3</td>\n",
       "      <td>2008-09-27 11:42:13</td>\n",
       "      <td>2008-09-27 12:29:29</td>\n",
       "      <td>Data\\010_207</td>\n",
       "      <td>1.0</td>\n",
       "      <td>...</td>\n",
       "      <td>5.142371e+00</td>\n",
       "      <td>10</td>\n",
       "      <td>39.135816</td>\n",
       "      <td>117.216816</td>\n",
       "      <td>11</td>\n",
       "      <td>27</td>\n",
       "      <td>39</td>\n",
       "      <td>39.995196</td>\n",
       "      <td>116.327816</td>\n",
       "      <td>0</td>\n",
       "    </tr>\n",
       "    <tr>\n",
       "      <th>2</th>\n",
       "      <td>39.995258</td>\n",
       "      <td>116.327906</td>\n",
       "      <td>181.9656</td>\n",
       "      <td>2008-09-27 11:42:15</td>\n",
       "      <td>(39.135816, 117.216816)</td>\n",
       "      <td>3</td>\n",
       "      <td>2008-09-27 11:42:13</td>\n",
       "      <td>2008-09-27 12:29:29</td>\n",
       "      <td>Data\\010_207</td>\n",
       "      <td>1.0</td>\n",
       "      <td>...</td>\n",
       "      <td>1.668855e-01</td>\n",
       "      <td>10</td>\n",
       "      <td>39.135816</td>\n",
       "      <td>117.216816</td>\n",
       "      <td>11</td>\n",
       "      <td>27</td>\n",
       "      <td>39</td>\n",
       "      <td>39.995196</td>\n",
       "      <td>116.327816</td>\n",
       "      <td>0</td>\n",
       "    </tr>\n",
       "    <tr>\n",
       "      <th>3</th>\n",
       "      <td>39.995293</td>\n",
       "      <td>116.327940</td>\n",
       "      <td>181.9656</td>\n",
       "      <td>2008-09-27 11:42:16</td>\n",
       "      <td>(39.135816, 117.216816)</td>\n",
       "      <td>3</td>\n",
       "      <td>2008-09-27 11:42:13</td>\n",
       "      <td>2008-09-27 12:29:29</td>\n",
       "      <td>Data\\010_207</td>\n",
       "      <td>1.0</td>\n",
       "      <td>...</td>\n",
       "      <td>-4.572797e-01</td>\n",
       "      <td>10</td>\n",
       "      <td>39.135816</td>\n",
       "      <td>117.216816</td>\n",
       "      <td>11</td>\n",
       "      <td>27</td>\n",
       "      <td>39</td>\n",
       "      <td>39.995196</td>\n",
       "      <td>116.327816</td>\n",
       "      <td>0</td>\n",
       "    </tr>\n",
       "    <tr>\n",
       "      <th>4</th>\n",
       "      <td>39.995334</td>\n",
       "      <td>116.327954</td>\n",
       "      <td>181.9656</td>\n",
       "      <td>2008-09-27 11:42:17</td>\n",
       "      <td>(39.135816, 117.216816)</td>\n",
       "      <td>3</td>\n",
       "      <td>2008-09-27 11:42:13</td>\n",
       "      <td>2008-09-27 12:29:29</td>\n",
       "      <td>Data\\010_207</td>\n",
       "      <td>1.0</td>\n",
       "      <td>...</td>\n",
       "      <td>-1.388887e-01</td>\n",
       "      <td>10</td>\n",
       "      <td>39.135816</td>\n",
       "      <td>117.216816</td>\n",
       "      <td>11</td>\n",
       "      <td>27</td>\n",
       "      <td>39</td>\n",
       "      <td>39.995196</td>\n",
       "      <td>116.327816</td>\n",
       "      <td>0</td>\n",
       "    </tr>\n",
       "    <tr>\n",
       "      <th>...</th>\n",
       "      <td>...</td>\n",
       "      <td>...</td>\n",
       "      <td>...</td>\n",
       "      <td>...</td>\n",
       "      <td>...</td>\n",
       "      <td>...</td>\n",
       "      <td>...</td>\n",
       "      <td>...</td>\n",
       "      <td>...</td>\n",
       "      <td>...</td>\n",
       "      <td>...</td>\n",
       "      <td>...</td>\n",
       "      <td>...</td>\n",
       "      <td>...</td>\n",
       "      <td>...</td>\n",
       "      <td>...</td>\n",
       "      <td>...</td>\n",
       "      <td>...</td>\n",
       "      <td>...</td>\n",
       "      <td>...</td>\n",
       "      <td>...</td>\n",
       "    </tr>\n",
       "    <tr>\n",
       "      <th>715049</th>\n",
       "      <td>39.992520</td>\n",
       "      <td>116.326051</td>\n",
       "      <td>55.7784</td>\n",
       "      <td>2008-11-07 10:21:56</td>\n",
       "      <td>(40.08931, 116.298673)</td>\n",
       "      <td>10</td>\n",
       "      <td>2008-11-07 09:11:06</td>\n",
       "      <td>2008-11-07 10:22:06</td>\n",
       "      <td>Data\\179_478</td>\n",
       "      <td>2.0</td>\n",
       "      <td>...</td>\n",
       "      <td>-6.673431e-02</td>\n",
       "      <td>179</td>\n",
       "      <td>40.089310</td>\n",
       "      <td>116.298673</td>\n",
       "      <td>10</td>\n",
       "      <td>7</td>\n",
       "      <td>45</td>\n",
       "      <td>39.996471</td>\n",
       "      <td>116.308879</td>\n",
       "      <td>[39.996471, 116.308879, 39.996368, 116.308919,...</td>\n",
       "    </tr>\n",
       "    <tr>\n",
       "      <th>715050</th>\n",
       "      <td>39.992491</td>\n",
       "      <td>116.325979</td>\n",
       "      <td>55.1688</td>\n",
       "      <td>2008-11-07 10:21:58</td>\n",
       "      <td>(40.08931, 116.298673)</td>\n",
       "      <td>10</td>\n",
       "      <td>2008-11-07 09:11:06</td>\n",
       "      <td>2008-11-07 10:22:06</td>\n",
       "      <td>Data\\179_478</td>\n",
       "      <td>2.0</td>\n",
       "      <td>...</td>\n",
       "      <td>1.623379e-01</td>\n",
       "      <td>179</td>\n",
       "      <td>40.089310</td>\n",
       "      <td>116.298673</td>\n",
       "      <td>10</td>\n",
       "      <td>7</td>\n",
       "      <td>45</td>\n",
       "      <td>39.996471</td>\n",
       "      <td>116.308879</td>\n",
       "      <td>[39.996471, 116.308879, 39.996368, 116.308919,...</td>\n",
       "    </tr>\n",
       "    <tr>\n",
       "      <th>715051</th>\n",
       "      <td>39.992405</td>\n",
       "      <td>116.325812</td>\n",
       "      <td>55.1688</td>\n",
       "      <td>2008-11-07 10:22:00</td>\n",
       "      <td>(40.08931, 116.298673)</td>\n",
       "      <td>10</td>\n",
       "      <td>2008-11-07 09:11:06</td>\n",
       "      <td>2008-11-07 10:22:06</td>\n",
       "      <td>Data\\179_478</td>\n",
       "      <td>2.0</td>\n",
       "      <td>...</td>\n",
       "      <td>2.546372e+00</td>\n",
       "      <td>179</td>\n",
       "      <td>40.089310</td>\n",
       "      <td>116.298673</td>\n",
       "      <td>10</td>\n",
       "      <td>7</td>\n",
       "      <td>45</td>\n",
       "      <td>39.996471</td>\n",
       "      <td>116.308879</td>\n",
       "      <td>[39.996471, 116.308879, 39.996368, 116.308919,...</td>\n",
       "    </tr>\n",
       "    <tr>\n",
       "      <th>715052</th>\n",
       "      <td>39.992402</td>\n",
       "      <td>116.325784</td>\n",
       "      <td>55.1688</td>\n",
       "      <td>2008-11-07 10:22:02</td>\n",
       "      <td>(40.08931, 116.298673)</td>\n",
       "      <td>10</td>\n",
       "      <td>2008-11-07 09:11:06</td>\n",
       "      <td>2008-11-07 10:22:06</td>\n",
       "      <td>Data\\179_478</td>\n",
       "      <td>2.0</td>\n",
       "      <td>...</td>\n",
       "      <td>-3.683344e+00</td>\n",
       "      <td>179</td>\n",
       "      <td>40.089310</td>\n",
       "      <td>116.298673</td>\n",
       "      <td>10</td>\n",
       "      <td>7</td>\n",
       "      <td>45</td>\n",
       "      <td>39.996471</td>\n",
       "      <td>116.308879</td>\n",
       "      <td>[39.996471, 116.308879, 39.996368, 116.308919,...</td>\n",
       "    </tr>\n",
       "    <tr>\n",
       "      <th>715053</th>\n",
       "      <td>39.992363</td>\n",
       "      <td>116.325729</td>\n",
       "      <td>54.8640</td>\n",
       "      <td>2008-11-07 10:22:04</td>\n",
       "      <td>(40.08931, 116.298673)</td>\n",
       "      <td>10</td>\n",
       "      <td>2008-11-07 09:11:06</td>\n",
       "      <td>2008-11-07 10:22:06</td>\n",
       "      <td>Data\\179_478</td>\n",
       "      <td>2.0</td>\n",
       "      <td>...</td>\n",
       "      <td>9.957645e-01</td>\n",
       "      <td>179</td>\n",
       "      <td>40.089310</td>\n",
       "      <td>116.298673</td>\n",
       "      <td>10</td>\n",
       "      <td>7</td>\n",
       "      <td>45</td>\n",
       "      <td>39.996471</td>\n",
       "      <td>116.308879</td>\n",
       "      <td>[39.996471, 116.308879, 39.996368, 116.308919,...</td>\n",
       "    </tr>\n",
       "  </tbody>\n",
       "</table>\n",
       "<p>715054 rows × 22 columns</p>\n",
       "</div>"
      ],
      "text/plain": [
       "              lat         lon       alt                time  \\\n",
       "0       39.995196  116.327816  181.0512 2008-09-27 11:42:13   \n",
       "1       39.995223  116.327865  181.0512 2008-09-27 11:42:14   \n",
       "2       39.995258  116.327906  181.9656 2008-09-27 11:42:15   \n",
       "3       39.995293  116.327940  181.9656 2008-09-27 11:42:16   \n",
       "4       39.995334  116.327954  181.9656 2008-09-27 11:42:17   \n",
       "...           ...         ...       ...                 ...   \n",
       "715049  39.992520  116.326051   55.7784 2008-11-07 10:21:56   \n",
       "715050  39.992491  116.325979   55.1688 2008-11-07 10:21:58   \n",
       "715051  39.992405  116.325812   55.1688 2008-11-07 10:22:00   \n",
       "715052  39.992402  116.325784   55.1688 2008-11-07 10:22:02   \n",
       "715053  39.992363  116.325729   54.8640 2008-11-07 10:22:04   \n",
       "\n",
       "                    destination  mode_of_transport           start_time  \\\n",
       "0       (39.135816, 117.216816)                  3  2008-09-27 11:42:13   \n",
       "1       (39.135816, 117.216816)                  3  2008-09-27 11:42:13   \n",
       "2       (39.135816, 117.216816)                  3  2008-09-27 11:42:13   \n",
       "3       (39.135816, 117.216816)                  3  2008-09-27 11:42:13   \n",
       "4       (39.135816, 117.216816)                  3  2008-09-27 11:42:13   \n",
       "...                         ...                ...                  ...   \n",
       "715049   (40.08931, 116.298673)                 10  2008-11-07 09:11:06   \n",
       "715050   (40.08931, 116.298673)                 10  2008-11-07 09:11:06   \n",
       "715051   (40.08931, 116.298673)                 10  2008-11-07 09:11:06   \n",
       "715052   (40.08931, 116.298673)                 10  2008-11-07 09:11:06   \n",
       "715053   (40.08931, 116.298673)                 10  2008-11-07 09:11:06   \n",
       "\n",
       "                   end_time           tid  time_diff  ...  acceleration  user  \\\n",
       "0       2008-09-27 12:29:29  Data\\010_207 -6136872.0  ...  8.185101e-07    10   \n",
       "1       2008-09-27 12:29:29  Data\\010_207        1.0  ...  5.142371e+00    10   \n",
       "2       2008-09-27 12:29:29  Data\\010_207        1.0  ...  1.668855e-01    10   \n",
       "3       2008-09-27 12:29:29  Data\\010_207        1.0  ... -4.572797e-01    10   \n",
       "4       2008-09-27 12:29:29  Data\\010_207        1.0  ... -1.388887e-01    10   \n",
       "...                     ...           ...        ...  ...           ...   ...   \n",
       "715049  2008-11-07 10:22:06  Data\\179_478        2.0  ... -6.673431e-02   179   \n",
       "715050  2008-11-07 10:22:06  Data\\179_478        2.0  ...  1.623379e-01   179   \n",
       "715051  2008-11-07 10:22:06  Data\\179_478        2.0  ...  2.546372e+00   179   \n",
       "715052  2008-11-07 10:22:06  Data\\179_478        2.0  ... -3.683344e+00   179   \n",
       "715053  2008-11-07 10:22:06  Data\\179_478        2.0  ...  9.957645e-01   179   \n",
       "\n",
       "        lat_destination  lon_destination  hour  day  week  departure_lat  \\\n",
       "0             39.135816       117.216816    11   27    39      39.995196   \n",
       "1             39.135816       117.216816    11   27    39      39.995196   \n",
       "2             39.135816       117.216816    11   27    39      39.995196   \n",
       "3             39.135816       117.216816    11   27    39      39.995196   \n",
       "4             39.135816       117.216816    11   27    39      39.995196   \n",
       "...                 ...              ...   ...  ...   ...            ...   \n",
       "715049        40.089310       116.298673    10    7    45      39.996471   \n",
       "715050        40.089310       116.298673    10    7    45      39.996471   \n",
       "715051        40.089310       116.298673    10    7    45      39.996471   \n",
       "715052        40.089310       116.298673    10    7    45      39.996471   \n",
       "715053        40.089310       116.298673    10    7    45      39.996471   \n",
       "\n",
       "        departure_lon                                            partial  \n",
       "0          116.327816                                                  0  \n",
       "1          116.327816                                                  0  \n",
       "2          116.327816                                                  0  \n",
       "3          116.327816                                                  0  \n",
       "4          116.327816                                                  0  \n",
       "...               ...                                                ...  \n",
       "715049     116.308879  [39.996471, 116.308879, 39.996368, 116.308919,...  \n",
       "715050     116.308879  [39.996471, 116.308879, 39.996368, 116.308919,...  \n",
       "715051     116.308879  [39.996471, 116.308879, 39.996368, 116.308919,...  \n",
       "715052     116.308879  [39.996471, 116.308879, 39.996368, 116.308919,...  \n",
       "715053     116.308879  [39.996471, 116.308879, 39.996368, 116.308919,...  \n",
       "\n",
       "[715054 rows x 22 columns]"
      ]
     },
     "execution_count": 12,
     "metadata": {},
     "output_type": "execute_result"
    }
   ],
   "source": [
    "def first_prediction(gps_data):\n",
    "    partial_data_list = []\n",
    "    \n",
    "    if len(gps_data) < 10:\n",
    "        # If there are less than 10 points, return partial data list filled with 0s\n",
    "        partial_data_list = [0] * len(gps_data)\n",
    "    else:\n",
    "        # For the first 10 points, partial data is set to 0\n",
    "        partial_data_list = [0] * 10\n",
    "    \n",
    "    return partial_data_list\n",
    "\n",
    "# Function to get 5 first points + 5 points up to the current position\n",
    "def current_position_prediction(gps_data, current_index):\n",
    "    # First 5 points from the start\n",
    "    first_5_points = gps_data.iloc[:5]\n",
    "    \n",
    "    # Last 5 points from the current position\n",
    "    current_5_points = gps_data.iloc[current_index-5:current_index]\n",
    "    \n",
    "    # Combine both sets into a flat list\n",
    "    partial_list = first_5_points[['lat', 'lon']].values.flatten().tolist() + \\\n",
    "                   current_5_points[['lat', 'lon']].values.flatten().tolist()\n",
    "    \n",
    "    return partial_list\n",
    "\n",
    "# Main function to generate partial data column for the whole trip\n",
    "def generate_partial_data(gps_data):\n",
    "    # First 10 points get partial data set to 0\n",
    "    partial_data_list = first_prediction(gps_data)\n",
    "    \n",
    "    # Loop through data starting from position 10 to calculate partial data\n",
    "    for current_index in range(10, len(gps_data)):\n",
    "        partial_list = current_position_prediction(gps_data, current_index)\n",
    "        partial_data_list.append(partial_list)\n",
    "    \n",
    "    return partial_data_list\n",
    "\n",
    "# Main function to process all trips and update the original filtered_data with the 'partial' column\n",
    "def process_trips(filtered_data):\n",
    "    # Group data by trip id 'tid'\n",
    "    grouped = filtered_data.groupby('tid')\n",
    "\n",
    "    # Initialize an empty list to store partial data for all trips\n",
    "    partial_data_all_trips = []\n",
    "\n",
    "    # Iterate over each trip group\n",
    "    for tid, trip_data in grouped:\n",
    "        #print(f\"Processing trip {tid}...\")\n",
    "\n",
    "        # Extract the lat, lon columns for this trip\n",
    "        gps_data = trip_data[['lat', 'lon']]\n",
    "\n",
    "        # Generate partial data for this trip\n",
    "        partial_data_list = generate_partial_data(gps_data)\n",
    "\n",
    "        # Append the partial data list to the partial_data_all_trips list\n",
    "        partial_data_all_trips.extend(partial_data_list)\n",
    "\n",
    "    # Assign the complete list of partial data as a new column in the filtered_data DataFrame\n",
    "    filtered_data['partial'] = partial_data_all_trips\n",
    "\n",
    "    return filtered_data\n",
    "process_trips(filtered_data)"
   ]
  },
  {
   "cell_type": "code",
   "execution_count": 13,
   "id": "14191c58",
   "metadata": {},
   "outputs": [],
   "source": [
    "##historical data grouped by departure zone"
   ]
  },
  {
   "cell_type": "code",
   "execution_count": 14,
   "id": "5212cdda",
   "metadata": {},
   "outputs": [],
   "source": [
    "import pandas as pd\n",
    "from sklearn.cluster import DBSCAN\n",
    "from sklearn.preprocessing import StandardScaler\n",
    "scaler = StandardScaler()\n",
    "# Deduplicate the DataFrame to unique coordinates\n",
    "unique_coords = filtered_data[['departure_lat', 'departure_lon']].drop_duplicates()\n",
    "\n",
    "# Apply DBSCAN to unique coordinates\n",
    "dbscan = DBSCAN(eps=0.5, min_samples=5)\n",
    "unique_coords['cluster'] = dbscan.fit_predict(scaler.fit_transform(unique_coords))\n",
    "\n",
    "# Now, you can map back the cluster labels to the original DataFrame if needed\n",
    "filtered_data = filtered_data.merge(unique_coords[['departure_lat', 'departure_lon', 'cluster']], \n",
    "                          on=['departure_lat', 'departure_lon'], \n",
    "                          how='left', \n",
    "                          suffixes=('', '_unique'))"
   ]
  },
  {
   "cell_type": "code",
   "execution_count": 15,
   "id": "9e454207",
   "metadata": {},
   "outputs": [
    {
     "data": {
      "text/plain": [
       " 0    666443\n",
       " 3     17486\n",
       " 4     17103\n",
       "-1      5562\n",
       " 1      5490\n",
       " 2      2020\n",
       " 5       950\n",
       "Name: cluster, dtype: int64"
      ]
     },
     "execution_count": 15,
     "metadata": {},
     "output_type": "execute_result"
    }
   ],
   "source": [
    "filtered_data['cluster'].value_counts()"
   ]
  },
  {
   "cell_type": "code",
   "execution_count": 32,
   "id": "7e23863f",
   "metadata": {},
   "outputs": [],
   "source": [
    "df = filtered_data[filtered_data['partial'] != 0]"
   ]
  },
  {
   "cell_type": "code",
   "execution_count": 49,
   "id": "829beebd",
   "metadata": {},
   "outputs": [],
   "source": [
    "from sklearn.preprocessing import MinMaxScaler\n",
    "time_feature=['hour','day','week']\n",
    "categorical=df[time_feature]\n",
    "sc = MinMaxScaler(feature_range=(-1,1))\n",
    "\n",
    "categorical_scaled = sc.fit_transform(categorical)"
   ]
  },
  {
   "cell_type": "code",
   "execution_count": 50,
   "id": "108bcb88",
   "metadata": {},
   "outputs": [],
   "source": [
    "partial=np.array(df['partial'].tolist())\n",
    "partial_scaled = scaler.fit_transform(partial)"
   ]
  },
  {
   "cell_type": "code",
   "execution_count": 54,
   "id": "982e1484",
   "metadata": {},
   "outputs": [
    {
     "name": "stdout",
     "output_type": "stream",
     "text": [
      "(689634, 3)\n",
      "(689634, 20)\n"
     ]
    }
   ],
   "source": [
    "print(categorical_scaled.shape)\n",
    "print(partial_scaled.shape)\n",
    "#print(historical_scaled.shape)"
   ]
  },
  {
   "cell_type": "code",
   "execution_count": 55,
   "id": "7c98fab2",
   "metadata": {},
   "outputs": [],
   "source": [
    "scaled_target = scaler.fit_transform(df[['lat_destination', 'lon_destination']])"
   ]
  },
  {
   "cell_type": "code",
   "execution_count": 56,
   "id": "ef07e273",
   "metadata": {},
   "outputs": [],
   "source": [
    "categorical_train, categorical_test, partial_train, partial_test, y_train, y_test = train_test_split(\n",
    "    categorical_scaled,\n",
    "    partial_scaled,\n",
    "    scaled_target,  \n",
    "    test_size=0.2,  \n",
    "    random_state=42  \n",
    ")"
   ]
  },
  {
   "cell_type": "code",
   "execution_count": 57,
   "id": "616878ee",
   "metadata": {},
   "outputs": [
    {
     "name": "stdout",
     "output_type": "stream",
     "text": [
      "(551707, 3)\n",
      "(551707, 20)\n",
      "(551707, 2)\n"
     ]
    }
   ],
   "source": [
    "print(categorical_train.shape)\n",
    "print(partial_train.shape)\n",
    "print(y_train.shape)"
   ]
  },
  {
   "cell_type": "code",
   "execution_count": 58,
   "id": "ad58af6c",
   "metadata": {},
   "outputs": [
    {
     "name": "stdout",
     "output_type": "stream",
     "text": [
      "(137927, 3)\n",
      "(137927, 20)\n",
      "(137927, 2)\n"
     ]
    }
   ],
   "source": [
    "print(categorical_test.shape)\n",
    "print(partial_test.shape)\n",
    "print(y_test.shape)"
   ]
  },
  {
   "cell_type": "code",
   "execution_count": 75,
   "id": "a579c8dd",
   "metadata": {},
   "outputs": [],
   "source": [
    "categorical_reshape = categorical_train.reshape((551707, 1, 3)) \n",
    "partial_reshape = partial_train.reshape((551707, 1, 20)) \n",
    "y_reshape=y_train.reshape((551707, 1, 2))"
   ]
  },
  {
   "cell_type": "code",
   "execution_count": 76,
   "id": "2dc65555",
   "metadata": {},
   "outputs": [],
   "source": [
    "categorical_test_reshape = categorical_test.reshape((137927, 1, 3)) \n",
    "partial_test_reshape = partial_test.reshape((137927, 1, 20)) \n",
    "y_test_reshape=y_test.reshape((137927, 1, 2))"
   ]
  },
  {
   "cell_type": "code",
   "execution_count": 77,
   "id": "27b7fed6",
   "metadata": {},
   "outputs": [],
   "source": [
    "\n",
    "def haversine_distance(y_true, y_pred):\n",
    "    # Earth's radius in kilometers\n",
    "    R = 6371.0\n",
    "    \n",
    "    # Reshape if necessary to ensure [batch_size, 2]\n",
    "    y_true = tf.reshape(y_true, (-1, 2))\n",
    "    y_pred = tf.reshape(y_pred, (-1, 2))\n",
    "    \n",
    "    # Convert degrees to radians manually\n",
    "    pi_div_180 = tf.constant(np.pi / 180.0, dtype=tf.float32)\n",
    "    \n",
    "    y_true_rad = tf.multiply(y_true, pi_div_180)\n",
    "    y_pred_rad = tf.multiply(y_pred, pi_div_180)\n",
    "    \n",
    "    lat_true, lon_true = tf.split(y_true_rad, num_or_size_splits=2, axis=1)\n",
    "    lat_pred, lon_pred = tf.split(y_pred_rad, num_or_size_splits=2, axis=1)\n",
    "    \n",
    "    # Calculate the differences between true and predicted coordinates\n",
    "    delta_lat = lat_pred - lat_true\n",
    "    delta_lon = lon_pred - lon_true\n",
    "    \n",
    "    # Apply the Haversine formula\n",
    "    a = tf.sin(delta_lat / 2.0) ** 2 + tf.cos(lat_true) * tf.cos(lat_pred) * tf.sin(delta_lon / 2.0) ** 2\n",
    "    c = 2 * tf.atan2(tf.sqrt(a), tf.sqrt(1 - a))\n",
    "    # Calculate distance in kilometers\n",
    "    distance = R * c\n",
    "    \n",
    "    # Return mean distance over the batch\n",
    "    return tf.reduce_mean(distance)"
   ]
  },
  {
   "cell_type": "code",
   "execution_count": 71,
   "id": "9fe82c07",
   "metadata": {},
   "outputs": [
    {
     "name": "stderr",
     "output_type": "stream",
     "text": [
      "[I 2024-10-16 19:28:38,769] A new study created in memory with name: no-name-d8a35ff9-7f0d-42a8-830b-3b7da9032305\n",
      "C:\\Users\\z044971\\AppData\\Local\\Temp/ipykernel_14412/458408859.py:15: FutureWarning: suggest_loguniform has been deprecated in v3.0.0. This feature will be removed in v6.0.0. See https://github.com/optuna/optuna/releases/tag/v3.0.0. Use suggest_float(..., log=True) instead.\n",
      "  learning_rate = trial.suggest_loguniform('learning_rate', 1e-5, 1e-2)\n",
      "[I 2024-10-16 21:11:51,014] Trial 0 finished with value: 12.613141059875488 and parameters: {'lstm_units': 133, 'n_dense_layers': 1, 'learning_rate': 4.907982969290445e-05, 'dense_units_0': 221}. Best is trial 0 with value: 12.613141059875488.\n",
      "[I 2024-10-16 22:55:13,191] Trial 1 finished with value: 0.5218044519424438 and parameters: {'lstm_units': 65, 'n_dense_layers': 2, 'learning_rate': 0.0004744778508755346, 'dense_units_0': 183, 'dense_units_1': 145}. Best is trial 1 with value: 0.5218044519424438.\n",
      "[I 2024-10-17 00:31:32,825] Trial 2 finished with value: 2.2987887859344482 and parameters: {'lstm_units': 60, 'n_dense_layers': 2, 'learning_rate': 0.00012014951438130417, 'dense_units_0': 196, 'dense_units_1': 70}. Best is trial 1 with value: 0.5218044519424438.\n",
      "[I 2024-10-17 02:04:38,471] Trial 3 finished with value: 21.1536922454834 and parameters: {'lstm_units': 94, 'n_dense_layers': 1, 'learning_rate': 1.4847999875317412e-05, 'dense_units_0': 170}. Best is trial 1 with value: 0.5218044519424438.\n",
      "[I 2024-10-17 03:55:24,979] Trial 4 finished with value: 12.95460033416748 and parameters: {'lstm_units': 95, 'n_dense_layers': 3, 'learning_rate': 0.005001598184746383, 'dense_units_0': 229, 'dense_units_1': 158, 'dense_units_2': 93}. Best is trial 1 with value: 0.5218044519424438.\n",
      "[I 2024-10-17 05:34:22,222] Trial 5 finished with value: 5.553949356079102 and parameters: {'lstm_units': 105, 'n_dense_layers': 2, 'learning_rate': 0.004475971932218983, 'dense_units_0': 170, 'dense_units_1': 120}. Best is trial 1 with value: 0.5218044519424438.\n",
      "[I 2024-10-17 07:18:01,355] Trial 6 finished with value: 2.817861557006836 and parameters: {'lstm_units': 139, 'n_dense_layers': 1, 'learning_rate': 0.002197953757809848, 'dense_units_0': 118}. Best is trial 1 with value: 0.5218044519424438.\n",
      "[W 2024-10-17 08:27:05,208] Trial 7 failed with parameters: {'lstm_units': 110, 'n_dense_layers': 1, 'learning_rate': 2.3033403996388475e-05, 'dense_units_0': 102} because of the following error: KeyboardInterrupt().\n",
      "Traceback (most recent call last):\n",
      "  File \"C:\\Users\\z044971\\AppData\\Roaming\\Python\\Python39\\site-packages\\optuna\\study\\_optimize.py\", line 197, in _run_trial\n",
      "    value_or_values = func(trial)\n",
      "  File \"C:\\Users\\z044971\\AppData\\Local\\Temp/ipykernel_14412/458408859.py\", line 54, in objective\n",
      "    model.fit([partial_reshape, categorical_reshape], y_reshape,\n",
      "  File \"C:\\Users\\z044971\\AppData\\Roaming\\Python\\Python39\\site-packages\\keras\\src\\utils\\traceback_utils.py\", line 117, in error_handler\n",
      "    return fn(*args, **kwargs)\n",
      "  File \"C:\\Users\\z044971\\AppData\\Roaming\\Python\\Python39\\site-packages\\keras\\src\\backend\\tensorflow\\trainer.py\", line 320, in fit\n",
      "    logs = self.train_function(iterator)\n",
      "  File \"C:\\Users\\z044971\\AppData\\Roaming\\Python\\Python39\\site-packages\\tensorflow\\python\\util\\traceback_utils.py\", line 150, in error_handler\n",
      "    return fn(*args, **kwargs)\n",
      "  File \"C:\\Users\\z044971\\AppData\\Roaming\\Python\\Python39\\site-packages\\tensorflow\\python\\eager\\polymorphic_function\\polymorphic_function.py\", line 833, in __call__\n",
      "    result = self._call(*args, **kwds)\n",
      "  File \"C:\\Users\\z044971\\AppData\\Roaming\\Python\\Python39\\site-packages\\tensorflow\\python\\eager\\polymorphic_function\\polymorphic_function.py\", line 878, in _call\n",
      "    results = tracing_compilation.call_function(\n",
      "  File \"C:\\Users\\z044971\\AppData\\Roaming\\Python\\Python39\\site-packages\\tensorflow\\python\\eager\\polymorphic_function\\tracing_compilation.py\", line 139, in call_function\n",
      "    return function._call_flat(  # pylint: disable=protected-access\n",
      "  File \"C:\\Users\\z044971\\AppData\\Roaming\\Python\\Python39\\site-packages\\tensorflow\\python\\eager\\polymorphic_function\\concrete_function.py\", line 1322, in _call_flat\n",
      "    return self._inference_function.call_preflattened(args)\n",
      "  File \"C:\\Users\\z044971\\AppData\\Roaming\\Python\\Python39\\site-packages\\tensorflow\\python\\eager\\polymorphic_function\\atomic_function.py\", line 216, in call_preflattened\n",
      "    flat_outputs = self.call_flat(*args)\n",
      "  File \"C:\\Users\\z044971\\AppData\\Roaming\\Python\\Python39\\site-packages\\tensorflow\\python\\eager\\polymorphic_function\\atomic_function.py\", line 251, in call_flat\n",
      "    outputs = self._bound_context.call_function(\n",
      "  File \"C:\\Users\\z044971\\AppData\\Roaming\\Python\\Python39\\site-packages\\tensorflow\\python\\eager\\context.py\", line 1552, in call_function\n",
      "    outputs = execute.execute(\n",
      "  File \"C:\\Users\\z044971\\AppData\\Roaming\\Python\\Python39\\site-packages\\tensorflow\\python\\eager\\execute.py\", line 53, in quick_execute\n",
      "    tensors = pywrap_tfe.TFE_Py_Execute(ctx._handle, device_name, op_name,\n",
      "KeyboardInterrupt\n",
      "[W 2024-10-17 08:27:05,211] Trial 7 failed with value None.\n"
     ]
    },
    {
     "ename": "KeyboardInterrupt",
     "evalue": "",
     "output_type": "error",
     "traceback": [
      "\u001b[1;31m---------------------------------------------------------------------------\u001b[0m",
      "\u001b[1;31mKeyboardInterrupt\u001b[0m                         Traceback (most recent call last)",
      "\u001b[1;32m~\\AppData\\Local\\Temp/ipykernel_14412/458408859.py\u001b[0m in \u001b[0;36m<module>\u001b[1;34m\u001b[0m\n\u001b[0;32m     68\u001b[0m \u001b[1;31m# Create a study and optimize it\u001b[0m\u001b[1;33m\u001b[0m\u001b[1;33m\u001b[0m\u001b[0m\n\u001b[0;32m     69\u001b[0m \u001b[0mstudy\u001b[0m \u001b[1;33m=\u001b[0m \u001b[0moptuna\u001b[0m\u001b[1;33m.\u001b[0m\u001b[0mcreate_study\u001b[0m\u001b[1;33m(\u001b[0m\u001b[0mdirection\u001b[0m\u001b[1;33m=\u001b[0m\u001b[1;34m'minimize'\u001b[0m\u001b[1;33m)\u001b[0m\u001b[1;33m\u001b[0m\u001b[1;33m\u001b[0m\u001b[0m\n\u001b[1;32m---> 70\u001b[1;33m \u001b[0mstudy\u001b[0m\u001b[1;33m.\u001b[0m\u001b[0moptimize\u001b[0m\u001b[1;33m(\u001b[0m\u001b[0mobjective\u001b[0m\u001b[1;33m,\u001b[0m \u001b[0mn_trials\u001b[0m\u001b[1;33m=\u001b[0m\u001b[1;36m15\u001b[0m\u001b[1;33m)\u001b[0m  \u001b[1;31m# You can adjust the number of trials\u001b[0m\u001b[1;33m\u001b[0m\u001b[1;33m\u001b[0m\u001b[0m\n\u001b[0m\u001b[0;32m     71\u001b[0m \u001b[1;33m\u001b[0m\u001b[0m\n\u001b[0;32m     72\u001b[0m \u001b[1;31m# Print the best hyperparameters\u001b[0m\u001b[1;33m\u001b[0m\u001b[1;33m\u001b[0m\u001b[0m\n",
      "\u001b[1;32m~\\AppData\\Roaming\\Python\\Python39\\site-packages\\optuna\\study\\study.py\u001b[0m in \u001b[0;36moptimize\u001b[1;34m(self, func, n_trials, timeout, n_jobs, catch, callbacks, gc_after_trial, show_progress_bar)\u001b[0m\n\u001b[0;32m    473\u001b[0m                 \u001b[0mIf\u001b[0m \u001b[0mnested\u001b[0m \u001b[0minvocation\u001b[0m \u001b[0mof\u001b[0m \u001b[0mthis\u001b[0m \u001b[0mmethod\u001b[0m \u001b[0moccurs\u001b[0m\u001b[1;33m.\u001b[0m\u001b[1;33m\u001b[0m\u001b[1;33m\u001b[0m\u001b[0m\n\u001b[0;32m    474\u001b[0m         \"\"\"\n\u001b[1;32m--> 475\u001b[1;33m         _optimize(\n\u001b[0m\u001b[0;32m    476\u001b[0m             \u001b[0mstudy\u001b[0m\u001b[1;33m=\u001b[0m\u001b[0mself\u001b[0m\u001b[1;33m,\u001b[0m\u001b[1;33m\u001b[0m\u001b[1;33m\u001b[0m\u001b[0m\n\u001b[0;32m    477\u001b[0m             \u001b[0mfunc\u001b[0m\u001b[1;33m=\u001b[0m\u001b[0mfunc\u001b[0m\u001b[1;33m,\u001b[0m\u001b[1;33m\u001b[0m\u001b[1;33m\u001b[0m\u001b[0m\n",
      "\u001b[1;32m~\\AppData\\Roaming\\Python\\Python39\\site-packages\\optuna\\study\\_optimize.py\u001b[0m in \u001b[0;36m_optimize\u001b[1;34m(study, func, n_trials, timeout, n_jobs, catch, callbacks, gc_after_trial, show_progress_bar)\u001b[0m\n\u001b[0;32m     61\u001b[0m     \u001b[1;32mtry\u001b[0m\u001b[1;33m:\u001b[0m\u001b[1;33m\u001b[0m\u001b[1;33m\u001b[0m\u001b[0m\n\u001b[0;32m     62\u001b[0m         \u001b[1;32mif\u001b[0m \u001b[0mn_jobs\u001b[0m \u001b[1;33m==\u001b[0m \u001b[1;36m1\u001b[0m\u001b[1;33m:\u001b[0m\u001b[1;33m\u001b[0m\u001b[1;33m\u001b[0m\u001b[0m\n\u001b[1;32m---> 63\u001b[1;33m             _optimize_sequential(\n\u001b[0m\u001b[0;32m     64\u001b[0m                 \u001b[0mstudy\u001b[0m\u001b[1;33m,\u001b[0m\u001b[1;33m\u001b[0m\u001b[1;33m\u001b[0m\u001b[0m\n\u001b[0;32m     65\u001b[0m                 \u001b[0mfunc\u001b[0m\u001b[1;33m,\u001b[0m\u001b[1;33m\u001b[0m\u001b[1;33m\u001b[0m\u001b[0m\n",
      "\u001b[1;32m~\\AppData\\Roaming\\Python\\Python39\\site-packages\\optuna\\study\\_optimize.py\u001b[0m in \u001b[0;36m_optimize_sequential\u001b[1;34m(study, func, n_trials, timeout, catch, callbacks, gc_after_trial, reseed_sampler_rng, time_start, progress_bar)\u001b[0m\n\u001b[0;32m    158\u001b[0m \u001b[1;33m\u001b[0m\u001b[0m\n\u001b[0;32m    159\u001b[0m         \u001b[1;32mtry\u001b[0m\u001b[1;33m:\u001b[0m\u001b[1;33m\u001b[0m\u001b[1;33m\u001b[0m\u001b[0m\n\u001b[1;32m--> 160\u001b[1;33m             \u001b[0mfrozen_trial\u001b[0m \u001b[1;33m=\u001b[0m \u001b[0m_run_trial\u001b[0m\u001b[1;33m(\u001b[0m\u001b[0mstudy\u001b[0m\u001b[1;33m,\u001b[0m \u001b[0mfunc\u001b[0m\u001b[1;33m,\u001b[0m \u001b[0mcatch\u001b[0m\u001b[1;33m)\u001b[0m\u001b[1;33m\u001b[0m\u001b[1;33m\u001b[0m\u001b[0m\n\u001b[0m\u001b[0;32m    161\u001b[0m         \u001b[1;32mfinally\u001b[0m\u001b[1;33m:\u001b[0m\u001b[1;33m\u001b[0m\u001b[1;33m\u001b[0m\u001b[0m\n\u001b[0;32m    162\u001b[0m             \u001b[1;31m# The following line mitigates memory problems that can be occurred in some\u001b[0m\u001b[1;33m\u001b[0m\u001b[1;33m\u001b[0m\u001b[0m\n",
      "\u001b[1;32m~\\AppData\\Roaming\\Python\\Python39\\site-packages\\optuna\\study\\_optimize.py\u001b[0m in \u001b[0;36m_run_trial\u001b[1;34m(study, func, catch)\u001b[0m\n\u001b[0;32m    246\u001b[0m         \u001b[1;32mand\u001b[0m \u001b[1;32mnot\u001b[0m \u001b[0misinstance\u001b[0m\u001b[1;33m(\u001b[0m\u001b[0mfunc_err\u001b[0m\u001b[1;33m,\u001b[0m \u001b[0mcatch\u001b[0m\u001b[1;33m)\u001b[0m\u001b[1;33m\u001b[0m\u001b[1;33m\u001b[0m\u001b[0m\n\u001b[0;32m    247\u001b[0m     ):\n\u001b[1;32m--> 248\u001b[1;33m         \u001b[1;32mraise\u001b[0m \u001b[0mfunc_err\u001b[0m\u001b[1;33m\u001b[0m\u001b[1;33m\u001b[0m\u001b[0m\n\u001b[0m\u001b[0;32m    249\u001b[0m     \u001b[1;32mreturn\u001b[0m \u001b[0mfrozen_trial\u001b[0m\u001b[1;33m\u001b[0m\u001b[1;33m\u001b[0m\u001b[0m\n\u001b[0;32m    250\u001b[0m \u001b[1;33m\u001b[0m\u001b[0m\n",
      "\u001b[1;32m~\\AppData\\Roaming\\Python\\Python39\\site-packages\\optuna\\study\\_optimize.py\u001b[0m in \u001b[0;36m_run_trial\u001b[1;34m(study, func, catch)\u001b[0m\n\u001b[0;32m    195\u001b[0m     \u001b[1;32mwith\u001b[0m \u001b[0mget_heartbeat_thread\u001b[0m\u001b[1;33m(\u001b[0m\u001b[0mtrial\u001b[0m\u001b[1;33m.\u001b[0m\u001b[0m_trial_id\u001b[0m\u001b[1;33m,\u001b[0m \u001b[0mstudy\u001b[0m\u001b[1;33m.\u001b[0m\u001b[0m_storage\u001b[0m\u001b[1;33m)\u001b[0m\u001b[1;33m:\u001b[0m\u001b[1;33m\u001b[0m\u001b[1;33m\u001b[0m\u001b[0m\n\u001b[0;32m    196\u001b[0m         \u001b[1;32mtry\u001b[0m\u001b[1;33m:\u001b[0m\u001b[1;33m\u001b[0m\u001b[1;33m\u001b[0m\u001b[0m\n\u001b[1;32m--> 197\u001b[1;33m             \u001b[0mvalue_or_values\u001b[0m \u001b[1;33m=\u001b[0m \u001b[0mfunc\u001b[0m\u001b[1;33m(\u001b[0m\u001b[0mtrial\u001b[0m\u001b[1;33m)\u001b[0m\u001b[1;33m\u001b[0m\u001b[1;33m\u001b[0m\u001b[0m\n\u001b[0m\u001b[0;32m    198\u001b[0m         \u001b[1;32mexcept\u001b[0m \u001b[0mexceptions\u001b[0m\u001b[1;33m.\u001b[0m\u001b[0mTrialPruned\u001b[0m \u001b[1;32mas\u001b[0m \u001b[0me\u001b[0m\u001b[1;33m:\u001b[0m\u001b[1;33m\u001b[0m\u001b[1;33m\u001b[0m\u001b[0m\n\u001b[0;32m    199\u001b[0m             \u001b[1;31m# TODO(mamu): Handle multi-objective cases.\u001b[0m\u001b[1;33m\u001b[0m\u001b[1;33m\u001b[0m\u001b[0m\n",
      "\u001b[1;32m~\\AppData\\Local\\Temp/ipykernel_14412/458408859.py\u001b[0m in \u001b[0;36mobjective\u001b[1;34m(trial)\u001b[0m\n\u001b[0;32m     52\u001b[0m \u001b[1;33m\u001b[0m\u001b[0m\n\u001b[0;32m     53\u001b[0m     \u001b[1;31m# Fit the model (adjust epochs and batch_size according to your dataset)\u001b[0m\u001b[1;33m\u001b[0m\u001b[1;33m\u001b[0m\u001b[0m\n\u001b[1;32m---> 54\u001b[1;33m     model.fit([partial_reshape, categorical_reshape], y_reshape,\n\u001b[0m\u001b[0;32m     55\u001b[0m               \u001b[0mvalidation_split\u001b[0m\u001b[1;33m=\u001b[0m\u001b[1;36m0.2\u001b[0m\u001b[1;33m,\u001b[0m\u001b[1;33m\u001b[0m\u001b[1;33m\u001b[0m\u001b[0m\n\u001b[0;32m     56\u001b[0m               \u001b[0mepochs\u001b[0m\u001b[1;33m=\u001b[0m\u001b[1;36m100\u001b[0m\u001b[1;33m,\u001b[0m\u001b[1;33m\u001b[0m\u001b[1;33m\u001b[0m\u001b[0m\n",
      "\u001b[1;32m~\\AppData\\Roaming\\Python\\Python39\\site-packages\\keras\\src\\utils\\traceback_utils.py\u001b[0m in \u001b[0;36merror_handler\u001b[1;34m(*args, **kwargs)\u001b[0m\n\u001b[0;32m    115\u001b[0m         \u001b[0mfiltered_tb\u001b[0m \u001b[1;33m=\u001b[0m \u001b[1;32mNone\u001b[0m\u001b[1;33m\u001b[0m\u001b[1;33m\u001b[0m\u001b[0m\n\u001b[0;32m    116\u001b[0m         \u001b[1;32mtry\u001b[0m\u001b[1;33m:\u001b[0m\u001b[1;33m\u001b[0m\u001b[1;33m\u001b[0m\u001b[0m\n\u001b[1;32m--> 117\u001b[1;33m             \u001b[1;32mreturn\u001b[0m \u001b[0mfn\u001b[0m\u001b[1;33m(\u001b[0m\u001b[1;33m*\u001b[0m\u001b[0margs\u001b[0m\u001b[1;33m,\u001b[0m \u001b[1;33m**\u001b[0m\u001b[0mkwargs\u001b[0m\u001b[1;33m)\u001b[0m\u001b[1;33m\u001b[0m\u001b[1;33m\u001b[0m\u001b[0m\n\u001b[0m\u001b[0;32m    118\u001b[0m         \u001b[1;32mexcept\u001b[0m \u001b[0mException\u001b[0m \u001b[1;32mas\u001b[0m \u001b[0me\u001b[0m\u001b[1;33m:\u001b[0m\u001b[1;33m\u001b[0m\u001b[1;33m\u001b[0m\u001b[0m\n\u001b[0;32m    119\u001b[0m             \u001b[0mfiltered_tb\u001b[0m \u001b[1;33m=\u001b[0m \u001b[0m_process_traceback_frames\u001b[0m\u001b[1;33m(\u001b[0m\u001b[0me\u001b[0m\u001b[1;33m.\u001b[0m\u001b[0m__traceback__\u001b[0m\u001b[1;33m)\u001b[0m\u001b[1;33m\u001b[0m\u001b[1;33m\u001b[0m\u001b[0m\n",
      "\u001b[1;32m~\\AppData\\Roaming\\Python\\Python39\\site-packages\\keras\\src\\backend\\tensorflow\\trainer.py\u001b[0m in \u001b[0;36mfit\u001b[1;34m(self, x, y, batch_size, epochs, verbose, callbacks, validation_split, validation_data, shuffle, class_weight, sample_weight, initial_epoch, steps_per_epoch, validation_steps, validation_batch_size, validation_freq)\u001b[0m\n\u001b[0;32m    318\u001b[0m                 \u001b[1;32mfor\u001b[0m \u001b[0mstep\u001b[0m\u001b[1;33m,\u001b[0m \u001b[0miterator\u001b[0m \u001b[1;32min\u001b[0m \u001b[0mepoch_iterator\u001b[0m\u001b[1;33m.\u001b[0m\u001b[0menumerate_epoch\u001b[0m\u001b[1;33m(\u001b[0m\u001b[1;33m)\u001b[0m\u001b[1;33m:\u001b[0m\u001b[1;33m\u001b[0m\u001b[1;33m\u001b[0m\u001b[0m\n\u001b[0;32m    319\u001b[0m                     \u001b[0mcallbacks\u001b[0m\u001b[1;33m.\u001b[0m\u001b[0mon_train_batch_begin\u001b[0m\u001b[1;33m(\u001b[0m\u001b[0mstep\u001b[0m\u001b[1;33m)\u001b[0m\u001b[1;33m\u001b[0m\u001b[1;33m\u001b[0m\u001b[0m\n\u001b[1;32m--> 320\u001b[1;33m                     \u001b[0mlogs\u001b[0m \u001b[1;33m=\u001b[0m \u001b[0mself\u001b[0m\u001b[1;33m.\u001b[0m\u001b[0mtrain_function\u001b[0m\u001b[1;33m(\u001b[0m\u001b[0miterator\u001b[0m\u001b[1;33m)\u001b[0m\u001b[1;33m\u001b[0m\u001b[1;33m\u001b[0m\u001b[0m\n\u001b[0m\u001b[0;32m    321\u001b[0m                     \u001b[0mcallbacks\u001b[0m\u001b[1;33m.\u001b[0m\u001b[0mon_train_batch_end\u001b[0m\u001b[1;33m(\u001b[0m\u001b[0mstep\u001b[0m\u001b[1;33m,\u001b[0m \u001b[0mlogs\u001b[0m\u001b[1;33m)\u001b[0m\u001b[1;33m\u001b[0m\u001b[1;33m\u001b[0m\u001b[0m\n\u001b[0;32m    322\u001b[0m                     \u001b[1;32mif\u001b[0m \u001b[0mself\u001b[0m\u001b[1;33m.\u001b[0m\u001b[0mstop_training\u001b[0m\u001b[1;33m:\u001b[0m\u001b[1;33m\u001b[0m\u001b[1;33m\u001b[0m\u001b[0m\n",
      "\u001b[1;32m~\\AppData\\Roaming\\Python\\Python39\\site-packages\\tensorflow\\python\\util\\traceback_utils.py\u001b[0m in \u001b[0;36merror_handler\u001b[1;34m(*args, **kwargs)\u001b[0m\n\u001b[0;32m    148\u001b[0m     \u001b[0mfiltered_tb\u001b[0m \u001b[1;33m=\u001b[0m \u001b[1;32mNone\u001b[0m\u001b[1;33m\u001b[0m\u001b[1;33m\u001b[0m\u001b[0m\n\u001b[0;32m    149\u001b[0m     \u001b[1;32mtry\u001b[0m\u001b[1;33m:\u001b[0m\u001b[1;33m\u001b[0m\u001b[1;33m\u001b[0m\u001b[0m\n\u001b[1;32m--> 150\u001b[1;33m       \u001b[1;32mreturn\u001b[0m \u001b[0mfn\u001b[0m\u001b[1;33m(\u001b[0m\u001b[1;33m*\u001b[0m\u001b[0margs\u001b[0m\u001b[1;33m,\u001b[0m \u001b[1;33m**\u001b[0m\u001b[0mkwargs\u001b[0m\u001b[1;33m)\u001b[0m\u001b[1;33m\u001b[0m\u001b[1;33m\u001b[0m\u001b[0m\n\u001b[0m\u001b[0;32m    151\u001b[0m     \u001b[1;32mexcept\u001b[0m \u001b[0mException\u001b[0m \u001b[1;32mas\u001b[0m \u001b[0me\u001b[0m\u001b[1;33m:\u001b[0m\u001b[1;33m\u001b[0m\u001b[1;33m\u001b[0m\u001b[0m\n\u001b[0;32m    152\u001b[0m       \u001b[0mfiltered_tb\u001b[0m \u001b[1;33m=\u001b[0m \u001b[0m_process_traceback_frames\u001b[0m\u001b[1;33m(\u001b[0m\u001b[0me\u001b[0m\u001b[1;33m.\u001b[0m\u001b[0m__traceback__\u001b[0m\u001b[1;33m)\u001b[0m\u001b[1;33m\u001b[0m\u001b[1;33m\u001b[0m\u001b[0m\n",
      "\u001b[1;32m~\\AppData\\Roaming\\Python\\Python39\\site-packages\\tensorflow\\python\\eager\\polymorphic_function\\polymorphic_function.py\u001b[0m in \u001b[0;36m__call__\u001b[1;34m(self, *args, **kwds)\u001b[0m\n\u001b[0;32m    831\u001b[0m \u001b[1;33m\u001b[0m\u001b[0m\n\u001b[0;32m    832\u001b[0m       \u001b[1;32mwith\u001b[0m \u001b[0mOptionalXlaContext\u001b[0m\u001b[1;33m(\u001b[0m\u001b[0mself\u001b[0m\u001b[1;33m.\u001b[0m\u001b[0m_jit_compile\u001b[0m\u001b[1;33m)\u001b[0m\u001b[1;33m:\u001b[0m\u001b[1;33m\u001b[0m\u001b[1;33m\u001b[0m\u001b[0m\n\u001b[1;32m--> 833\u001b[1;33m         \u001b[0mresult\u001b[0m \u001b[1;33m=\u001b[0m \u001b[0mself\u001b[0m\u001b[1;33m.\u001b[0m\u001b[0m_call\u001b[0m\u001b[1;33m(\u001b[0m\u001b[1;33m*\u001b[0m\u001b[0margs\u001b[0m\u001b[1;33m,\u001b[0m \u001b[1;33m**\u001b[0m\u001b[0mkwds\u001b[0m\u001b[1;33m)\u001b[0m\u001b[1;33m\u001b[0m\u001b[1;33m\u001b[0m\u001b[0m\n\u001b[0m\u001b[0;32m    834\u001b[0m \u001b[1;33m\u001b[0m\u001b[0m\n\u001b[0;32m    835\u001b[0m       \u001b[0mnew_tracing_count\u001b[0m \u001b[1;33m=\u001b[0m \u001b[0mself\u001b[0m\u001b[1;33m.\u001b[0m\u001b[0mexperimental_get_tracing_count\u001b[0m\u001b[1;33m(\u001b[0m\u001b[1;33m)\u001b[0m\u001b[1;33m\u001b[0m\u001b[1;33m\u001b[0m\u001b[0m\n",
      "\u001b[1;32m~\\AppData\\Roaming\\Python\\Python39\\site-packages\\tensorflow\\python\\eager\\polymorphic_function\\polymorphic_function.py\u001b[0m in \u001b[0;36m_call\u001b[1;34m(self, *args, **kwds)\u001b[0m\n\u001b[0;32m    876\u001b[0m       \u001b[1;31m# In this case we have not created variables on the first call. So we can\u001b[0m\u001b[1;33m\u001b[0m\u001b[1;33m\u001b[0m\u001b[0m\n\u001b[0;32m    877\u001b[0m       \u001b[1;31m# run the first trace but we should fail if variables are created.\u001b[0m\u001b[1;33m\u001b[0m\u001b[1;33m\u001b[0m\u001b[0m\n\u001b[1;32m--> 878\u001b[1;33m       results = tracing_compilation.call_function(\n\u001b[0m\u001b[0;32m    879\u001b[0m           \u001b[0margs\u001b[0m\u001b[1;33m,\u001b[0m \u001b[0mkwds\u001b[0m\u001b[1;33m,\u001b[0m \u001b[0mself\u001b[0m\u001b[1;33m.\u001b[0m\u001b[0m_variable_creation_config\u001b[0m\u001b[1;33m\u001b[0m\u001b[1;33m\u001b[0m\u001b[0m\n\u001b[0;32m    880\u001b[0m       )\n",
      "\u001b[1;32m~\\AppData\\Roaming\\Python\\Python39\\site-packages\\tensorflow\\python\\eager\\polymorphic_function\\tracing_compilation.py\u001b[0m in \u001b[0;36mcall_function\u001b[1;34m(args, kwargs, tracing_options)\u001b[0m\n\u001b[0;32m    137\u001b[0m   \u001b[0mbound_args\u001b[0m \u001b[1;33m=\u001b[0m \u001b[0mfunction\u001b[0m\u001b[1;33m.\u001b[0m\u001b[0mfunction_type\u001b[0m\u001b[1;33m.\u001b[0m\u001b[0mbind\u001b[0m\u001b[1;33m(\u001b[0m\u001b[1;33m*\u001b[0m\u001b[0margs\u001b[0m\u001b[1;33m,\u001b[0m \u001b[1;33m**\u001b[0m\u001b[0mkwargs\u001b[0m\u001b[1;33m)\u001b[0m\u001b[1;33m\u001b[0m\u001b[1;33m\u001b[0m\u001b[0m\n\u001b[0;32m    138\u001b[0m   \u001b[0mflat_inputs\u001b[0m \u001b[1;33m=\u001b[0m \u001b[0mfunction\u001b[0m\u001b[1;33m.\u001b[0m\u001b[0mfunction_type\u001b[0m\u001b[1;33m.\u001b[0m\u001b[0munpack_inputs\u001b[0m\u001b[1;33m(\u001b[0m\u001b[0mbound_args\u001b[0m\u001b[1;33m)\u001b[0m\u001b[1;33m\u001b[0m\u001b[1;33m\u001b[0m\u001b[0m\n\u001b[1;32m--> 139\u001b[1;33m   return function._call_flat(  # pylint: disable=protected-access\n\u001b[0m\u001b[0;32m    140\u001b[0m       \u001b[0mflat_inputs\u001b[0m\u001b[1;33m,\u001b[0m \u001b[0mcaptured_inputs\u001b[0m\u001b[1;33m=\u001b[0m\u001b[0mfunction\u001b[0m\u001b[1;33m.\u001b[0m\u001b[0mcaptured_inputs\u001b[0m\u001b[1;33m\u001b[0m\u001b[1;33m\u001b[0m\u001b[0m\n\u001b[0;32m    141\u001b[0m   )\n",
      "\u001b[1;32m~\\AppData\\Roaming\\Python\\Python39\\site-packages\\tensorflow\\python\\eager\\polymorphic_function\\concrete_function.py\u001b[0m in \u001b[0;36m_call_flat\u001b[1;34m(self, tensor_inputs, captured_inputs)\u001b[0m\n\u001b[0;32m   1320\u001b[0m         and executing_eagerly):\n\u001b[0;32m   1321\u001b[0m       \u001b[1;31m# No tape is watching; skip to running the function.\u001b[0m\u001b[1;33m\u001b[0m\u001b[1;33m\u001b[0m\u001b[0m\n\u001b[1;32m-> 1322\u001b[1;33m       \u001b[1;32mreturn\u001b[0m \u001b[0mself\u001b[0m\u001b[1;33m.\u001b[0m\u001b[0m_inference_function\u001b[0m\u001b[1;33m.\u001b[0m\u001b[0mcall_preflattened\u001b[0m\u001b[1;33m(\u001b[0m\u001b[0margs\u001b[0m\u001b[1;33m)\u001b[0m\u001b[1;33m\u001b[0m\u001b[1;33m\u001b[0m\u001b[0m\n\u001b[0m\u001b[0;32m   1323\u001b[0m     forward_backward = self._select_forward_and_backward_functions(\n\u001b[0;32m   1324\u001b[0m         \u001b[0margs\u001b[0m\u001b[1;33m,\u001b[0m\u001b[1;33m\u001b[0m\u001b[1;33m\u001b[0m\u001b[0m\n",
      "\u001b[1;32m~\\AppData\\Roaming\\Python\\Python39\\site-packages\\tensorflow\\python\\eager\\polymorphic_function\\atomic_function.py\u001b[0m in \u001b[0;36mcall_preflattened\u001b[1;34m(self, args)\u001b[0m\n\u001b[0;32m    214\u001b[0m   \u001b[1;32mdef\u001b[0m \u001b[0mcall_preflattened\u001b[0m\u001b[1;33m(\u001b[0m\u001b[0mself\u001b[0m\u001b[1;33m,\u001b[0m \u001b[0margs\u001b[0m\u001b[1;33m:\u001b[0m \u001b[0mSequence\u001b[0m\u001b[1;33m[\u001b[0m\u001b[0mcore\u001b[0m\u001b[1;33m.\u001b[0m\u001b[0mTensor\u001b[0m\u001b[1;33m]\u001b[0m\u001b[1;33m)\u001b[0m \u001b[1;33m->\u001b[0m \u001b[0mAny\u001b[0m\u001b[1;33m:\u001b[0m\u001b[1;33m\u001b[0m\u001b[1;33m\u001b[0m\u001b[0m\n\u001b[0;32m    215\u001b[0m     \u001b[1;34m\"\"\"Calls with flattened tensor inputs and returns the structured output.\"\"\"\u001b[0m\u001b[1;33m\u001b[0m\u001b[1;33m\u001b[0m\u001b[0m\n\u001b[1;32m--> 216\u001b[1;33m     \u001b[0mflat_outputs\u001b[0m \u001b[1;33m=\u001b[0m \u001b[0mself\u001b[0m\u001b[1;33m.\u001b[0m\u001b[0mcall_flat\u001b[0m\u001b[1;33m(\u001b[0m\u001b[1;33m*\u001b[0m\u001b[0margs\u001b[0m\u001b[1;33m)\u001b[0m\u001b[1;33m\u001b[0m\u001b[1;33m\u001b[0m\u001b[0m\n\u001b[0m\u001b[0;32m    217\u001b[0m     \u001b[1;32mreturn\u001b[0m \u001b[0mself\u001b[0m\u001b[1;33m.\u001b[0m\u001b[0mfunction_type\u001b[0m\u001b[1;33m.\u001b[0m\u001b[0mpack_output\u001b[0m\u001b[1;33m(\u001b[0m\u001b[0mflat_outputs\u001b[0m\u001b[1;33m)\u001b[0m\u001b[1;33m\u001b[0m\u001b[1;33m\u001b[0m\u001b[0m\n\u001b[0;32m    218\u001b[0m \u001b[1;33m\u001b[0m\u001b[0m\n",
      "\u001b[1;32m~\\AppData\\Roaming\\Python\\Python39\\site-packages\\tensorflow\\python\\eager\\polymorphic_function\\atomic_function.py\u001b[0m in \u001b[0;36mcall_flat\u001b[1;34m(self, *args)\u001b[0m\n\u001b[0;32m    249\u001b[0m         \u001b[1;32mwith\u001b[0m \u001b[0mrecord\u001b[0m\u001b[1;33m.\u001b[0m\u001b[0mstop_recording\u001b[0m\u001b[1;33m(\u001b[0m\u001b[1;33m)\u001b[0m\u001b[1;33m:\u001b[0m\u001b[1;33m\u001b[0m\u001b[1;33m\u001b[0m\u001b[0m\n\u001b[0;32m    250\u001b[0m           \u001b[1;32mif\u001b[0m \u001b[0mself\u001b[0m\u001b[1;33m.\u001b[0m\u001b[0m_bound_context\u001b[0m\u001b[1;33m.\u001b[0m\u001b[0mexecuting_eagerly\u001b[0m\u001b[1;33m(\u001b[0m\u001b[1;33m)\u001b[0m\u001b[1;33m:\u001b[0m\u001b[1;33m\u001b[0m\u001b[1;33m\u001b[0m\u001b[0m\n\u001b[1;32m--> 251\u001b[1;33m             outputs = self._bound_context.call_function(\n\u001b[0m\u001b[0;32m    252\u001b[0m                 \u001b[0mself\u001b[0m\u001b[1;33m.\u001b[0m\u001b[0mname\u001b[0m\u001b[1;33m,\u001b[0m\u001b[1;33m\u001b[0m\u001b[1;33m\u001b[0m\u001b[0m\n\u001b[0;32m    253\u001b[0m                 \u001b[0mlist\u001b[0m\u001b[1;33m(\u001b[0m\u001b[0margs\u001b[0m\u001b[1;33m)\u001b[0m\u001b[1;33m,\u001b[0m\u001b[1;33m\u001b[0m\u001b[1;33m\u001b[0m\u001b[0m\n",
      "\u001b[1;32m~\\AppData\\Roaming\\Python\\Python39\\site-packages\\tensorflow\\python\\eager\\context.py\u001b[0m in \u001b[0;36mcall_function\u001b[1;34m(self, name, tensor_inputs, num_outputs)\u001b[0m\n\u001b[0;32m   1550\u001b[0m     \u001b[0mcancellation_context\u001b[0m \u001b[1;33m=\u001b[0m \u001b[0mcancellation\u001b[0m\u001b[1;33m.\u001b[0m\u001b[0mcontext\u001b[0m\u001b[1;33m(\u001b[0m\u001b[1;33m)\u001b[0m\u001b[1;33m\u001b[0m\u001b[1;33m\u001b[0m\u001b[0m\n\u001b[0;32m   1551\u001b[0m     \u001b[1;32mif\u001b[0m \u001b[0mcancellation_context\u001b[0m \u001b[1;32mis\u001b[0m \u001b[1;32mNone\u001b[0m\u001b[1;33m:\u001b[0m\u001b[1;33m\u001b[0m\u001b[1;33m\u001b[0m\u001b[0m\n\u001b[1;32m-> 1552\u001b[1;33m       outputs = execute.execute(\n\u001b[0m\u001b[0;32m   1553\u001b[0m           \u001b[0mname\u001b[0m\u001b[1;33m.\u001b[0m\u001b[0mdecode\u001b[0m\u001b[1;33m(\u001b[0m\u001b[1;34m\"utf-8\"\u001b[0m\u001b[1;33m)\u001b[0m\u001b[1;33m,\u001b[0m\u001b[1;33m\u001b[0m\u001b[1;33m\u001b[0m\u001b[0m\n\u001b[0;32m   1554\u001b[0m           \u001b[0mnum_outputs\u001b[0m\u001b[1;33m=\u001b[0m\u001b[0mnum_outputs\u001b[0m\u001b[1;33m,\u001b[0m\u001b[1;33m\u001b[0m\u001b[1;33m\u001b[0m\u001b[0m\n",
      "\u001b[1;32m~\\AppData\\Roaming\\Python\\Python39\\site-packages\\tensorflow\\python\\eager\\execute.py\u001b[0m in \u001b[0;36mquick_execute\u001b[1;34m(op_name, num_outputs, inputs, attrs, ctx, name)\u001b[0m\n\u001b[0;32m     51\u001b[0m   \u001b[1;32mtry\u001b[0m\u001b[1;33m:\u001b[0m\u001b[1;33m\u001b[0m\u001b[1;33m\u001b[0m\u001b[0m\n\u001b[0;32m     52\u001b[0m     \u001b[0mctx\u001b[0m\u001b[1;33m.\u001b[0m\u001b[0mensure_initialized\u001b[0m\u001b[1;33m(\u001b[0m\u001b[1;33m)\u001b[0m\u001b[1;33m\u001b[0m\u001b[1;33m\u001b[0m\u001b[0m\n\u001b[1;32m---> 53\u001b[1;33m     tensors = pywrap_tfe.TFE_Py_Execute(ctx._handle, device_name, op_name,\n\u001b[0m\u001b[0;32m     54\u001b[0m                                         inputs, attrs, num_outputs)\n\u001b[0;32m     55\u001b[0m   \u001b[1;32mexcept\u001b[0m \u001b[0mcore\u001b[0m\u001b[1;33m.\u001b[0m\u001b[0m_NotOkStatusException\u001b[0m \u001b[1;32mas\u001b[0m \u001b[0me\u001b[0m\u001b[1;33m:\u001b[0m\u001b[1;33m\u001b[0m\u001b[1;33m\u001b[0m\u001b[0m\n",
      "\u001b[1;31mKeyboardInterrupt\u001b[0m: "
     ]
    }
   ],
   "source": [
    "import numpy as np\n",
    "import tensorflow as tf\n",
    "from tensorflow.keras.models import Model\n",
    "from tensorflow.keras.layers import Input, LSTM, Dense, Concatenate, Flatten\n",
    "from tensorflow.keras.optimizers import Adam\n",
    "import optuna\n",
    "\n",
    "\n",
    "\n",
    "# Define the objective function for Optuna\n",
    "def objective(trial):\n",
    "    # Suggest hyperparameters\n",
    "    lstm_units = trial.suggest_int('lstm_units', 50, 150)\n",
    "    n_dense_layers = trial.suggest_int('n_dense_layers', 1, 3)  # Allow between 1 and 3 dense layers\n",
    "    learning_rate = trial.suggest_loguniform('learning_rate', 1e-5, 1e-2)\n",
    "    \n",
    "    # For each dense layer, suggest units\n",
    "    dense_units = []\n",
    "    for i in range(n_dense_layers):\n",
    "        dense_units.append(trial.suggest_int(f'dense_units_{i}', 64, 256))\n",
    "    \n",
    "    # Define input shapes\n",
    "    input_partial = Input(shape=(1, 20), name=\"partial_input\")\n",
    "    input_categorical = Input(shape=(1, 3), name=\"categorical_input\")\n",
    "\n",
    "    # LSTM layers for partial input\n",
    "    lstm_partial = LSTM(lstm_units)(input_partial)\n",
    "\n",
    "    # Dense layer for scaled categorical input\n",
    "    dense_categorical = Dense(30, activation='relu')(input_categorical)\n",
    "    \n",
    "    # Flatten the output of the dense layer to match the LSTM output\n",
    "    flat_categorical = Flatten()(dense_categorical)\n",
    "\n",
    "    # Concatenate the outputs of the LSTM and dense (flattened) categorical layer\n",
    "    concatenated = Concatenate()([lstm_partial, flat_categorical])\n",
    "\n",
    "    # Add the variable number of dense layers\n",
    "    x = concatenated\n",
    "    for i in range(n_dense_layers):\n",
    "        x = Dense(dense_units[i], activation='relu')(x)\n",
    "\n",
    "    # Output layer for lat_destination and lon_destination\n",
    "    output = Dense(2, activation='linear')(x)\n",
    "\n",
    "    # Create the model\n",
    "    model = Model(inputs=[input_partial, input_categorical], outputs=output)\n",
    "\n",
    "    # Compile the model with the suggested learning rate\n",
    "    optimizer = Adam(learning_rate=learning_rate)\n",
    "    model.compile(optimizer=optimizer, loss=haversine_distance)\n",
    "\n",
    "    # Fit the model (adjust epochs and batch_size according to your dataset)\n",
    "    model.fit([partial_reshape, categorical_reshape], y_reshape,\n",
    "              validation_split=0.2,\n",
    "              epochs=100,\n",
    "              batch_size=32,\n",
    "              verbose=0)  # Set verbose=0 for silent training\n",
    "\n",
    "    # Evaluate the model on the validation set and return the loss\n",
    "    loss = model.evaluate([partial_test_reshape, categorical_test_reshape], y_test_reshape, verbose=0)\n",
    "    return loss\n",
    "\n",
    "# Prepare your training and validation data\n",
    "# X_partial_train, X_categorical_train, y_train should be defined\n",
    "# X_partial_val, X_categorical_val, y_val should also be defined\n",
    "\n",
    "# Create a study and optimize it\n",
    "study = optuna.create_study(direction='minimize')\n",
    "study.optimize(objective, n_trials=15)  # You can adjust the number of trials\n",
    "\n",
    "# Print the best hyperparameters\n",
    "print('Best hyperparameters: ')\n",
    "print(study.best_params)\n"
   ]
  },
  {
   "cell_type": "code",
   "execution_count": 94,
   "id": "1fa7c342",
   "metadata": {},
   "outputs": [],
   "source": [
    "#Trial 1 finished with value: 0.5218044519424438 and parameters: {'lstm_units': 65, 'n_dense_layers': 2, 'learning_rate': 0.0004744778508755346, 'dense_units_0': 183, 'dense_units_1': 145}. Best is trial 1 with value: 0.5218044519424438."
   ]
  },
  {
   "cell_type": "code",
   "execution_count": 89,
   "id": "242c9a3a",
   "metadata": {},
   "outputs": [
    {
     "data": {
      "text/html": [
       "<pre style=\"white-space:pre;overflow-x:auto;line-height:normal;font-family:Menlo,'DejaVu Sans Mono',consolas,'Courier New',monospace\"><span style=\"font-weight: bold\">Model: \"functional_19\"</span>\n",
       "</pre>\n"
      ],
      "text/plain": [
       "\u001b[1mModel: \"functional_19\"\u001b[0m\n"
      ]
     },
     "metadata": {},
     "output_type": "display_data"
    },
    {
     "data": {
      "text/html": [
       "<pre style=\"white-space:pre;overflow-x:auto;line-height:normal;font-family:Menlo,'DejaVu Sans Mono',consolas,'Courier New',monospace\">┏━━━━━━━━━━━━━━━━━━━━━━━━━━━━━━━┳━━━━━━━━━━━━━━━━━━━━━━━━━━━┳━━━━━━━━━━━━━━━━━┳━━━━━━━━━━━━━━━━━━━━━━━━━━━━┓\n",
       "┃<span style=\"font-weight: bold\"> Layer (type)                  </span>┃<span style=\"font-weight: bold\"> Output Shape              </span>┃<span style=\"font-weight: bold\">         Param # </span>┃<span style=\"font-weight: bold\"> Connected to               </span>┃\n",
       "┡━━━━━━━━━━━━━━━━━━━━━━━━━━━━━━━╇━━━━━━━━━━━━━━━━━━━━━━━━━━━╇━━━━━━━━━━━━━━━━━╇━━━━━━━━━━━━━━━━━━━━━━━━━━━━┩\n",
       "│ categorical_input             │ (<span style=\"color: #00d7ff; text-decoration-color: #00d7ff\">None</span>, <span style=\"color: #00af00; text-decoration-color: #00af00\">1</span>, <span style=\"color: #00af00; text-decoration-color: #00af00\">3</span>)              │               <span style=\"color: #00af00; text-decoration-color: #00af00\">0</span> │ -                          │\n",
       "│ (<span style=\"color: #0087ff; text-decoration-color: #0087ff\">InputLayer</span>)                  │                           │                 │                            │\n",
       "├───────────────────────────────┼───────────────────────────┼─────────────────┼────────────────────────────┤\n",
       "│ partial_input (<span style=\"color: #0087ff; text-decoration-color: #0087ff\">InputLayer</span>)    │ (<span style=\"color: #00d7ff; text-decoration-color: #00d7ff\">None</span>, <span style=\"color: #00af00; text-decoration-color: #00af00\">1</span>, <span style=\"color: #00af00; text-decoration-color: #00af00\">20</span>)             │               <span style=\"color: #00af00; text-decoration-color: #00af00\">0</span> │ -                          │\n",
       "├───────────────────────────────┼───────────────────────────┼─────────────────┼────────────────────────────┤\n",
       "│ dense_65 (<span style=\"color: #0087ff; text-decoration-color: #0087ff\">Dense</span>)              │ (<span style=\"color: #00d7ff; text-decoration-color: #00d7ff\">None</span>, <span style=\"color: #00af00; text-decoration-color: #00af00\">1</span>, <span style=\"color: #00af00; text-decoration-color: #00af00\">30</span>)             │             <span style=\"color: #00af00; text-decoration-color: #00af00\">120</span> │ categorical_input[<span style=\"color: #00af00; text-decoration-color: #00af00\">0</span>][<span style=\"color: #00af00; text-decoration-color: #00af00\">0</span>]    │\n",
       "├───────────────────────────────┼───────────────────────────┼─────────────────┼────────────────────────────┤\n",
       "│ lstm_29 (<span style=\"color: #0087ff; text-decoration-color: #0087ff\">LSTM</span>)                │ (<span style=\"color: #00d7ff; text-decoration-color: #00d7ff\">None</span>, <span style=\"color: #00af00; text-decoration-color: #00af00\">65</span>)                │          <span style=\"color: #00af00; text-decoration-color: #00af00\">22,360</span> │ partial_input[<span style=\"color: #00af00; text-decoration-color: #00af00\">0</span>][<span style=\"color: #00af00; text-decoration-color: #00af00\">0</span>]        │\n",
       "├───────────────────────────────┼───────────────────────────┼─────────────────┼────────────────────────────┤\n",
       "│ flatten_12 (<span style=\"color: #0087ff; text-decoration-color: #0087ff\">Flatten</span>)          │ (<span style=\"color: #00d7ff; text-decoration-color: #00d7ff\">None</span>, <span style=\"color: #00af00; text-decoration-color: #00af00\">30</span>)                │               <span style=\"color: #00af00; text-decoration-color: #00af00\">0</span> │ dense_65[<span style=\"color: #00af00; text-decoration-color: #00af00\">0</span>][<span style=\"color: #00af00; text-decoration-color: #00af00\">0</span>]             │\n",
       "├───────────────────────────────┼───────────────────────────┼─────────────────┼────────────────────────────┤\n",
       "│ concatenate_19 (<span style=\"color: #0087ff; text-decoration-color: #0087ff\">Concatenate</span>)  │ (<span style=\"color: #00d7ff; text-decoration-color: #00d7ff\">None</span>, <span style=\"color: #00af00; text-decoration-color: #00af00\">95</span>)                │               <span style=\"color: #00af00; text-decoration-color: #00af00\">0</span> │ lstm_29[<span style=\"color: #00af00; text-decoration-color: #00af00\">0</span>][<span style=\"color: #00af00; text-decoration-color: #00af00\">0</span>],             │\n",
       "│                               │                           │                 │ flatten_12[<span style=\"color: #00af00; text-decoration-color: #00af00\">0</span>][<span style=\"color: #00af00; text-decoration-color: #00af00\">0</span>]           │\n",
       "├───────────────────────────────┼───────────────────────────┼─────────────────┼────────────────────────────┤\n",
       "│ dense_66 (<span style=\"color: #0087ff; text-decoration-color: #0087ff\">Dense</span>)              │ (<span style=\"color: #00d7ff; text-decoration-color: #00d7ff\">None</span>, <span style=\"color: #00af00; text-decoration-color: #00af00\">183</span>)               │          <span style=\"color: #00af00; text-decoration-color: #00af00\">17,568</span> │ concatenate_19[<span style=\"color: #00af00; text-decoration-color: #00af00\">0</span>][<span style=\"color: #00af00; text-decoration-color: #00af00\">0</span>]       │\n",
       "├───────────────────────────────┼───────────────────────────┼─────────────────┼────────────────────────────┤\n",
       "│ dense_67 (<span style=\"color: #0087ff; text-decoration-color: #0087ff\">Dense</span>)              │ (<span style=\"color: #00d7ff; text-decoration-color: #00d7ff\">None</span>, <span style=\"color: #00af00; text-decoration-color: #00af00\">145</span>)               │          <span style=\"color: #00af00; text-decoration-color: #00af00\">26,680</span> │ dense_66[<span style=\"color: #00af00; text-decoration-color: #00af00\">0</span>][<span style=\"color: #00af00; text-decoration-color: #00af00\">0</span>]             │\n",
       "├───────────────────────────────┼───────────────────────────┼─────────────────┼────────────────────────────┤\n",
       "│ dense_68 (<span style=\"color: #0087ff; text-decoration-color: #0087ff\">Dense</span>)              │ (<span style=\"color: #00d7ff; text-decoration-color: #00d7ff\">None</span>, <span style=\"color: #00af00; text-decoration-color: #00af00\">2</span>)                 │             <span style=\"color: #00af00; text-decoration-color: #00af00\">292</span> │ dense_67[<span style=\"color: #00af00; text-decoration-color: #00af00\">0</span>][<span style=\"color: #00af00; text-decoration-color: #00af00\">0</span>]             │\n",
       "└───────────────────────────────┴───────────────────────────┴─────────────────┴────────────────────────────┘\n",
       "</pre>\n"
      ],
      "text/plain": [
       "┏━━━━━━━━━━━━━━━━━━━━━━━━━━━━━━━┳━━━━━━━━━━━━━━━━━━━━━━━━━━━┳━━━━━━━━━━━━━━━━━┳━━━━━━━━━━━━━━━━━━━━━━━━━━━━┓\n",
       "┃\u001b[1m \u001b[0m\u001b[1mLayer (type)                 \u001b[0m\u001b[1m \u001b[0m┃\u001b[1m \u001b[0m\u001b[1mOutput Shape             \u001b[0m\u001b[1m \u001b[0m┃\u001b[1m \u001b[0m\u001b[1m        Param #\u001b[0m\u001b[1m \u001b[0m┃\u001b[1m \u001b[0m\u001b[1mConnected to              \u001b[0m\u001b[1m \u001b[0m┃\n",
       "┡━━━━━━━━━━━━━━━━━━━━━━━━━━━━━━━╇━━━━━━━━━━━━━━━━━━━━━━━━━━━╇━━━━━━━━━━━━━━━━━╇━━━━━━━━━━━━━━━━━━━━━━━━━━━━┩\n",
       "│ categorical_input             │ (\u001b[38;5;45mNone\u001b[0m, \u001b[38;5;34m1\u001b[0m, \u001b[38;5;34m3\u001b[0m)              │               \u001b[38;5;34m0\u001b[0m │ -                          │\n",
       "│ (\u001b[38;5;33mInputLayer\u001b[0m)                  │                           │                 │                            │\n",
       "├───────────────────────────────┼───────────────────────────┼─────────────────┼────────────────────────────┤\n",
       "│ partial_input (\u001b[38;5;33mInputLayer\u001b[0m)    │ (\u001b[38;5;45mNone\u001b[0m, \u001b[38;5;34m1\u001b[0m, \u001b[38;5;34m20\u001b[0m)             │               \u001b[38;5;34m0\u001b[0m │ -                          │\n",
       "├───────────────────────────────┼───────────────────────────┼─────────────────┼────────────────────────────┤\n",
       "│ dense_65 (\u001b[38;5;33mDense\u001b[0m)              │ (\u001b[38;5;45mNone\u001b[0m, \u001b[38;5;34m1\u001b[0m, \u001b[38;5;34m30\u001b[0m)             │             \u001b[38;5;34m120\u001b[0m │ categorical_input[\u001b[38;5;34m0\u001b[0m][\u001b[38;5;34m0\u001b[0m]    │\n",
       "├───────────────────────────────┼───────────────────────────┼─────────────────┼────────────────────────────┤\n",
       "│ lstm_29 (\u001b[38;5;33mLSTM\u001b[0m)                │ (\u001b[38;5;45mNone\u001b[0m, \u001b[38;5;34m65\u001b[0m)                │          \u001b[38;5;34m22,360\u001b[0m │ partial_input[\u001b[38;5;34m0\u001b[0m][\u001b[38;5;34m0\u001b[0m]        │\n",
       "├───────────────────────────────┼───────────────────────────┼─────────────────┼────────────────────────────┤\n",
       "│ flatten_12 (\u001b[38;5;33mFlatten\u001b[0m)          │ (\u001b[38;5;45mNone\u001b[0m, \u001b[38;5;34m30\u001b[0m)                │               \u001b[38;5;34m0\u001b[0m │ dense_65[\u001b[38;5;34m0\u001b[0m][\u001b[38;5;34m0\u001b[0m]             │\n",
       "├───────────────────────────────┼───────────────────────────┼─────────────────┼────────────────────────────┤\n",
       "│ concatenate_19 (\u001b[38;5;33mConcatenate\u001b[0m)  │ (\u001b[38;5;45mNone\u001b[0m, \u001b[38;5;34m95\u001b[0m)                │               \u001b[38;5;34m0\u001b[0m │ lstm_29[\u001b[38;5;34m0\u001b[0m][\u001b[38;5;34m0\u001b[0m],             │\n",
       "│                               │                           │                 │ flatten_12[\u001b[38;5;34m0\u001b[0m][\u001b[38;5;34m0\u001b[0m]           │\n",
       "├───────────────────────────────┼───────────────────────────┼─────────────────┼────────────────────────────┤\n",
       "│ dense_66 (\u001b[38;5;33mDense\u001b[0m)              │ (\u001b[38;5;45mNone\u001b[0m, \u001b[38;5;34m183\u001b[0m)               │          \u001b[38;5;34m17,568\u001b[0m │ concatenate_19[\u001b[38;5;34m0\u001b[0m][\u001b[38;5;34m0\u001b[0m]       │\n",
       "├───────────────────────────────┼───────────────────────────┼─────────────────┼────────────────────────────┤\n",
       "│ dense_67 (\u001b[38;5;33mDense\u001b[0m)              │ (\u001b[38;5;45mNone\u001b[0m, \u001b[38;5;34m145\u001b[0m)               │          \u001b[38;5;34m26,680\u001b[0m │ dense_66[\u001b[38;5;34m0\u001b[0m][\u001b[38;5;34m0\u001b[0m]             │\n",
       "├───────────────────────────────┼───────────────────────────┼─────────────────┼────────────────────────────┤\n",
       "│ dense_68 (\u001b[38;5;33mDense\u001b[0m)              │ (\u001b[38;5;45mNone\u001b[0m, \u001b[38;5;34m2\u001b[0m)                 │             \u001b[38;5;34m292\u001b[0m │ dense_67[\u001b[38;5;34m0\u001b[0m][\u001b[38;5;34m0\u001b[0m]             │\n",
       "└───────────────────────────────┴───────────────────────────┴─────────────────┴────────────────────────────┘\n"
      ]
     },
     "metadata": {},
     "output_type": "display_data"
    },
    {
     "data": {
      "text/html": [
       "<pre style=\"white-space:pre;overflow-x:auto;line-height:normal;font-family:Menlo,'DejaVu Sans Mono',consolas,'Courier New',monospace\"><span style=\"font-weight: bold\"> Total params: </span><span style=\"color: #00af00; text-decoration-color: #00af00\">67,020</span> (261.80 KB)\n",
       "</pre>\n"
      ],
      "text/plain": [
       "\u001b[1m Total params: \u001b[0m\u001b[38;5;34m67,020\u001b[0m (261.80 KB)\n"
      ]
     },
     "metadata": {},
     "output_type": "display_data"
    },
    {
     "data": {
      "text/html": [
       "<pre style=\"white-space:pre;overflow-x:auto;line-height:normal;font-family:Menlo,'DejaVu Sans Mono',consolas,'Courier New',monospace\"><span style=\"font-weight: bold\"> Trainable params: </span><span style=\"color: #00af00; text-decoration-color: #00af00\">67,020</span> (261.80 KB)\n",
       "</pre>\n"
      ],
      "text/plain": [
       "\u001b[1m Trainable params: \u001b[0m\u001b[38;5;34m67,020\u001b[0m (261.80 KB)\n"
      ]
     },
     "metadata": {},
     "output_type": "display_data"
    },
    {
     "data": {
      "text/html": [
       "<pre style=\"white-space:pre;overflow-x:auto;line-height:normal;font-family:Menlo,'DejaVu Sans Mono',consolas,'Courier New',monospace\"><span style=\"font-weight: bold\"> Non-trainable params: </span><span style=\"color: #00af00; text-decoration-color: #00af00\">0</span> (0.00 B)\n",
       "</pre>\n"
      ],
      "text/plain": [
       "\u001b[1m Non-trainable params: \u001b[0m\u001b[38;5;34m0\u001b[0m (0.00 B)\n"
      ]
     },
     "metadata": {},
     "output_type": "display_data"
    }
   ],
   "source": [
    "import numpy as np\n",
    "import tensorflow as tf\n",
    "from tensorflow.keras.models import Model\n",
    "from tensorflow.keras.layers import Input, LSTM, Dense, Concatenate, Flatten\n",
    "from tensorflow.keras.optimizers import Adam\n",
    "\n",
    "# Define input shapes\n",
    "input_partial = Input(shape=(1, 20), name=\"partial_input\")  # For partial data\n",
    "input_categorical = Input(shape=(1, 3), name=\"categorical_input\")  # For scaled categorical data (hour, day, week)\n",
    "\n",
    "# LSTM layers for partial input\n",
    "lstm_partial = LSTM(65)(input_partial)\n",
    "\n",
    "# Dense layer for scaled categorical input\n",
    "dense_categorical = Dense(30, activation='relu')(input_categorical)\n",
    "\n",
    "# Flatten the output of the dense layer to match the LSTM output\n",
    "flat_categorical = Flatten()(dense_categorical)\n",
    "\n",
    "# Concatenate the outputs of the LSTM and dense (flattened) categorical layer\n",
    "concatenated = Concatenate()([lstm_partial, flat_categorical])\n",
    "\n",
    "# Dense layers\n",
    "dense_1 = Dense(183, activation='relu')(concatenated)\n",
    "dense_2 = Dense(145, activation='relu')(dense_1)\n",
    "\n",
    "# Output layer for lat_destination and lon_destination\n",
    "output = Dense(2, activation='linear')(dense_2)\n",
    "\n",
    "# Create the model\n",
    "model= Model(inputs=[input_partial, input_categorical], outputs=output)\n",
    "\n",
    "# Compile the model\n",
    "optimizer = Adam(learning_rate= 0.0004744778508755346)\n",
    "model.compile(optimizer=optimizer, loss=haversine_distance)\n",
    "\n",
    "# Summary of the model\n",
    "model.summary()\n",
    "\n"
   ]
  },
  {
   "cell_type": "code",
   "execution_count": 90,
   "id": "37fe084b",
   "metadata": {},
   "outputs": [
    {
     "name": "stdout",
     "output_type": "stream",
     "text": [
      "Epoch 1/50\n",
      "\u001b[1m8621/8621\u001b[0m \u001b[32m━━━━━━━━━━━━━━━━━━━━\u001b[0m\u001b[37m\u001b[0m \u001b[1m31s\u001b[0m 3ms/step - loss: 33.0579 - val_loss: 19.2957\n",
      "Epoch 2/50\n",
      "\u001b[1m8621/8621\u001b[0m \u001b[32m━━━━━━━━━━━━━━━━━━━━\u001b[0m\u001b[37m\u001b[0m \u001b[1m25s\u001b[0m 3ms/step - loss: 16.9542 - val_loss: 11.3882\n",
      "Epoch 3/50\n",
      "\u001b[1m8621/8621\u001b[0m \u001b[32m━━━━━━━━━━━━━━━━━━━━\u001b[0m\u001b[37m\u001b[0m \u001b[1m24s\u001b[0m 3ms/step - loss: 9.8340 - val_loss: 5.9437\n",
      "Epoch 4/50\n",
      "\u001b[1m8621/8621\u001b[0m \u001b[32m━━━━━━━━━━━━━━━━━━━━\u001b[0m\u001b[37m\u001b[0m \u001b[1m27s\u001b[0m 3ms/step - loss: 5.7330 - val_loss: 4.5710\n",
      "Epoch 5/50\n",
      "\u001b[1m8621/8621\u001b[0m \u001b[32m━━━━━━━━━━━━━━━━━━━━\u001b[0m\u001b[37m\u001b[0m \u001b[1m25s\u001b[0m 3ms/step - loss: 4.6122 - val_loss: 4.1153\n",
      "Epoch 6/50\n",
      "\u001b[1m8621/8621\u001b[0m \u001b[32m━━━━━━━━━━━━━━━━━━━━\u001b[0m\u001b[37m\u001b[0m \u001b[1m26s\u001b[0m 3ms/step - loss: 4.1857 - val_loss: 4.2149\n",
      "Epoch 7/50\n",
      "\u001b[1m8621/8621\u001b[0m \u001b[32m━━━━━━━━━━━━━━━━━━━━\u001b[0m\u001b[37m\u001b[0m \u001b[1m25s\u001b[0m 3ms/step - loss: 3.9832 - val_loss: 3.5696\n",
      "Epoch 8/50\n",
      "\u001b[1m8621/8621\u001b[0m \u001b[32m━━━━━━━━━━━━━━━━━━━━\u001b[0m\u001b[37m\u001b[0m \u001b[1m25s\u001b[0m 3ms/step - loss: 3.5498 - val_loss: 3.1734\n",
      "Epoch 9/50\n",
      "\u001b[1m8621/8621\u001b[0m \u001b[32m━━━━━━━━━━━━━━━━━━━━\u001b[0m\u001b[37m\u001b[0m \u001b[1m25s\u001b[0m 3ms/step - loss: 2.8627 - val_loss: 2.7013\n",
      "Epoch 10/50\n",
      "\u001b[1m8621/8621\u001b[0m \u001b[32m━━━━━━━━━━━━━━━━━━━━\u001b[0m\u001b[37m\u001b[0m \u001b[1m25s\u001b[0m 3ms/step - loss: 2.6820 - val_loss: 2.7440\n",
      "Epoch 11/50\n",
      "\u001b[1m8621/8621\u001b[0m \u001b[32m━━━━━━━━━━━━━━━━━━━━\u001b[0m\u001b[37m\u001b[0m \u001b[1m25s\u001b[0m 3ms/step - loss: 2.5589 - val_loss: 2.3925\n",
      "Epoch 12/50\n",
      "\u001b[1m8621/8621\u001b[0m \u001b[32m━━━━━━━━━━━━━━━━━━━━\u001b[0m\u001b[37m\u001b[0m \u001b[1m25s\u001b[0m 3ms/step - loss: 2.4012 - val_loss: 2.8608\n",
      "Epoch 13/50\n",
      "\u001b[1m8621/8621\u001b[0m \u001b[32m━━━━━━━━━━━━━━━━━━━━\u001b[0m\u001b[37m\u001b[0m \u001b[1m25s\u001b[0m 3ms/step - loss: 2.3571 - val_loss: 2.4512\n",
      "Epoch 14/50\n",
      "\u001b[1m8621/8621\u001b[0m \u001b[32m━━━━━━━━━━━━━━━━━━━━\u001b[0m\u001b[37m\u001b[0m \u001b[1m25s\u001b[0m 3ms/step - loss: 2.1888 - val_loss: 2.2324\n",
      "Epoch 15/50\n",
      "\u001b[1m8621/8621\u001b[0m \u001b[32m━━━━━━━━━━━━━━━━━━━━\u001b[0m\u001b[37m\u001b[0m \u001b[1m25s\u001b[0m 3ms/step - loss: 2.0558 - val_loss: 2.2575\n",
      "Epoch 16/50\n",
      "\u001b[1m8621/8621\u001b[0m \u001b[32m━━━━━━━━━━━━━━━━━━━━\u001b[0m\u001b[37m\u001b[0m \u001b[1m25s\u001b[0m 3ms/step - loss: 2.1069 - val_loss: 2.3030\n",
      "Epoch 17/50\n",
      "\u001b[1m8621/8621\u001b[0m \u001b[32m━━━━━━━━━━━━━━━━━━━━\u001b[0m\u001b[37m\u001b[0m \u001b[1m25s\u001b[0m 3ms/step - loss: 2.0703 - val_loss: 2.1526\n",
      "Epoch 18/50\n",
      "\u001b[1m8621/8621\u001b[0m \u001b[32m━━━━━━━━━━━━━━━━━━━━\u001b[0m\u001b[37m\u001b[0m \u001b[1m26s\u001b[0m 3ms/step - loss: 1.9472 - val_loss: 2.1279\n",
      "Epoch 19/50\n",
      "\u001b[1m8621/8621\u001b[0m \u001b[32m━━━━━━━━━━━━━━━━━━━━\u001b[0m\u001b[37m\u001b[0m \u001b[1m25s\u001b[0m 3ms/step - loss: 1.9260 - val_loss: 1.9516\n",
      "Epoch 20/50\n",
      "\u001b[1m8621/8621\u001b[0m \u001b[32m━━━━━━━━━━━━━━━━━━━━\u001b[0m\u001b[37m\u001b[0m \u001b[1m25s\u001b[0m 3ms/step - loss: 1.8947 - val_loss: 1.9735\n",
      "Epoch 21/50\n",
      "\u001b[1m8621/8621\u001b[0m \u001b[32m━━━━━━━━━━━━━━━━━━━━\u001b[0m\u001b[37m\u001b[0m \u001b[1m25s\u001b[0m 3ms/step - loss: 1.8907 - val_loss: 1.9014\n",
      "Epoch 22/50\n",
      "\u001b[1m8621/8621\u001b[0m \u001b[32m━━━━━━━━━━━━━━━━━━━━\u001b[0m\u001b[37m\u001b[0m \u001b[1m25s\u001b[0m 3ms/step - loss: 1.8356 - val_loss: 1.8348\n",
      "Epoch 23/50\n",
      "\u001b[1m8621/8621\u001b[0m \u001b[32m━━━━━━━━━━━━━━━━━━━━\u001b[0m\u001b[37m\u001b[0m \u001b[1m28s\u001b[0m 3ms/step - loss: 1.7830 - val_loss: 1.9214\n",
      "Epoch 24/50\n",
      "\u001b[1m8621/8621\u001b[0m \u001b[32m━━━━━━━━━━━━━━━━━━━━\u001b[0m\u001b[37m\u001b[0m \u001b[1m26s\u001b[0m 3ms/step - loss: 1.7799 - val_loss: 1.9116\n",
      "Epoch 25/50\n",
      "\u001b[1m8621/8621\u001b[0m \u001b[32m━━━━━━━━━━━━━━━━━━━━\u001b[0m\u001b[37m\u001b[0m \u001b[1m27s\u001b[0m 3ms/step - loss: 1.7259 - val_loss: 1.7880\n",
      "Epoch 26/50\n",
      "\u001b[1m8621/8621\u001b[0m \u001b[32m━━━━━━━━━━━━━━━━━━━━\u001b[0m\u001b[37m\u001b[0m \u001b[1m27s\u001b[0m 3ms/step - loss: 1.7388 - val_loss: 1.8692\n",
      "Epoch 27/50\n",
      "\u001b[1m8621/8621\u001b[0m \u001b[32m━━━━━━━━━━━━━━━━━━━━\u001b[0m\u001b[37m\u001b[0m \u001b[1m26s\u001b[0m 3ms/step - loss: 1.6937 - val_loss: 1.9217\n",
      "Epoch 28/50\n",
      "\u001b[1m8621/8621\u001b[0m \u001b[32m━━━━━━━━━━━━━━━━━━━━\u001b[0m\u001b[37m\u001b[0m \u001b[1m26s\u001b[0m 3ms/step - loss: 1.6774 - val_loss: 1.6824\n",
      "Epoch 29/50\n",
      "\u001b[1m8621/8621\u001b[0m \u001b[32m━━━━━━━━━━━━━━━━━━━━\u001b[0m\u001b[37m\u001b[0m \u001b[1m25s\u001b[0m 3ms/step - loss: 1.5896 - val_loss: 1.5697\n",
      "Epoch 30/50\n",
      "\u001b[1m8621/8621\u001b[0m \u001b[32m━━━━━━━━━━━━━━━━━━━━\u001b[0m\u001b[37m\u001b[0m \u001b[1m26s\u001b[0m 3ms/step - loss: 1.3586 - val_loss: 1.1222\n",
      "Epoch 31/50\n",
      "\u001b[1m8621/8621\u001b[0m \u001b[32m━━━━━━━━━━━━━━━━━━━━\u001b[0m\u001b[37m\u001b[0m \u001b[1m25s\u001b[0m 3ms/step - loss: 1.1153 - val_loss: 1.0257\n",
      "Epoch 32/50\n",
      "\u001b[1m8621/8621\u001b[0m \u001b[32m━━━━━━━━━━━━━━━━━━━━\u001b[0m\u001b[37m\u001b[0m \u001b[1m25s\u001b[0m 3ms/step - loss: 1.0039 - val_loss: 1.0260\n",
      "Epoch 33/50\n",
      "\u001b[1m8621/8621\u001b[0m \u001b[32m━━━━━━━━━━━━━━━━━━━━\u001b[0m\u001b[37m\u001b[0m \u001b[1m25s\u001b[0m 3ms/step - loss: 0.9435 - val_loss: 0.8081\n",
      "Epoch 34/50\n",
      "\u001b[1m8621/8621\u001b[0m \u001b[32m━━━━━━━━━━━━━━━━━━━━\u001b[0m\u001b[37m\u001b[0m \u001b[1m25s\u001b[0m 3ms/step - loss: 0.9298 - val_loss: 1.0231\n",
      "Epoch 35/50\n",
      "\u001b[1m8621/8621\u001b[0m \u001b[32m━━━━━━━━━━━━━━━━━━━━\u001b[0m\u001b[37m\u001b[0m \u001b[1m25s\u001b[0m 3ms/step - loss: 0.9189 - val_loss: 0.9488\n",
      "Epoch 36/50\n",
      "\u001b[1m8621/8621\u001b[0m \u001b[32m━━━━━━━━━━━━━━━━━━━━\u001b[0m\u001b[37m\u001b[0m \u001b[1m25s\u001b[0m 3ms/step - loss: 0.9288 - val_loss: 0.9785\n",
      "Epoch 37/50\n",
      "\u001b[1m8621/8621\u001b[0m \u001b[32m━━━━━━━━━━━━━━━━━━━━\u001b[0m\u001b[37m\u001b[0m \u001b[1m25s\u001b[0m 3ms/step - loss: 0.9007 - val_loss: 0.7850\n",
      "Epoch 38/50\n",
      "\u001b[1m8621/8621\u001b[0m \u001b[32m━━━━━━━━━━━━━━━━━━━━\u001b[0m\u001b[37m\u001b[0m \u001b[1m25s\u001b[0m 3ms/step - loss: 0.8844 - val_loss: 0.8617\n",
      "Epoch 39/50\n",
      "\u001b[1m8621/8621\u001b[0m \u001b[32m━━━━━━━━━━━━━━━━━━━━\u001b[0m\u001b[37m\u001b[0m \u001b[1m25s\u001b[0m 3ms/step - loss: 0.8956 - val_loss: 0.8082\n",
      "Epoch 40/50\n",
      "\u001b[1m8621/8621\u001b[0m \u001b[32m━━━━━━━━━━━━━━━━━━━━\u001b[0m\u001b[37m\u001b[0m \u001b[1m25s\u001b[0m 3ms/step - loss: 0.8399 - val_loss: 0.8362\n",
      "Epoch 41/50\n",
      "\u001b[1m8621/8621\u001b[0m \u001b[32m━━━━━━━━━━━━━━━━━━━━\u001b[0m\u001b[37m\u001b[0m \u001b[1m25s\u001b[0m 3ms/step - loss: 0.8391 - val_loss: 0.8131\n",
      "Epoch 42/50\n",
      "\u001b[1m8621/8621\u001b[0m \u001b[32m━━━━━━━━━━━━━━━━━━━━\u001b[0m\u001b[37m\u001b[0m \u001b[1m26s\u001b[0m 3ms/step - loss: 0.8451 - val_loss: 0.8090\n",
      "Epoch 43/50\n",
      "\u001b[1m8621/8621\u001b[0m \u001b[32m━━━━━━━━━━━━━━━━━━━━\u001b[0m\u001b[37m\u001b[0m \u001b[1m40s\u001b[0m 3ms/step - loss: 0.8358 - val_loss: 0.7534\n",
      "Epoch 44/50\n",
      "\u001b[1m8621/8621\u001b[0m \u001b[32m━━━━━━━━━━━━━━━━━━━━\u001b[0m\u001b[37m\u001b[0m \u001b[1m25s\u001b[0m 3ms/step - loss: 0.7646 - val_loss: 0.6631\n",
      "Epoch 45/50\n",
      "\u001b[1m8621/8621\u001b[0m \u001b[32m━━━━━━━━━━━━━━━━━━━━\u001b[0m\u001b[37m\u001b[0m \u001b[1m25s\u001b[0m 3ms/step - loss: 0.7135 - val_loss: 0.6326\n",
      "Epoch 46/50\n",
      "\u001b[1m8621/8621\u001b[0m \u001b[32m━━━━━━━━━━━━━━━━━━━━\u001b[0m\u001b[37m\u001b[0m \u001b[1m26s\u001b[0m 3ms/step - loss: 0.6555 - val_loss: 0.6474\n",
      "Epoch 47/50\n",
      "\u001b[1m8621/8621\u001b[0m \u001b[32m━━━━━━━━━━━━━━━━━━━━\u001b[0m\u001b[37m\u001b[0m \u001b[1m27s\u001b[0m 3ms/step - loss: 0.6392 - val_loss: 0.6247\n",
      "Epoch 48/50\n",
      "\u001b[1m8621/8621\u001b[0m \u001b[32m━━━━━━━━━━━━━━━━━━━━\u001b[0m\u001b[37m\u001b[0m \u001b[1m47s\u001b[0m 6ms/step - loss: 0.6283 - val_loss: 0.5897\n",
      "Epoch 49/50\n",
      "\u001b[1m8621/8621\u001b[0m \u001b[32m━━━━━━━━━━━━━━━━━━━━\u001b[0m\u001b[37m\u001b[0m \u001b[1m41s\u001b[0m 5ms/step - loss: 0.6101 - val_loss: 0.6662\n",
      "Epoch 50/50\n",
      "\u001b[1m8621/8621\u001b[0m \u001b[32m━━━━━━━━━━━━━━━━━━━━\u001b[0m\u001b[37m\u001b[0m \u001b[1m35s\u001b[0m 4ms/step - loss: 0.6437 - val_loss: 0.5588\n"
     ]
    }
   ],
   "source": [
    "# Train the model\n",
    "history = model.fit([partial_reshape, categorical_reshape], y_reshape,\n",
    "                    validation_data=([partial_test_reshape, categorical_test_reshape], y_test_reshape),\n",
    "                    epochs=50,\n",
    "                    batch_size=64,\n",
    "                    callbacks=early_stopping)\n"
   ]
  },
  {
   "cell_type": "code",
   "execution_count": 111,
   "id": "afdb0758",
   "metadata": {},
   "outputs": [
    {
     "data": {
      "image/png": "[encoded data removed]",
      "text/plain": [
       "<Figure size 432x288 with 1 Axes>"
      ]
     },
     "metadata": {
      "needs_background": "light"
     },
     "output_type": "display_data"
    }
   ],
   "source": [
    "plt.plot(history.history['loss'])\n",
    "plt.plot(history.history['val_loss'])\n",
    "plt.title('Model Loss')\n",
    "plt.ylabel('Loss')\n",
    "plt.xlabel('Epoch')\n",
    "plt.legend(['Train', 'Validation'], loc='upper right')\n",
    "plt.show()"
   ]
  },
  {
   "cell_type": "code",
   "execution_count": 91,
   "id": "44c3ee3a",
   "metadata": {},
   "outputs": [
    {
     "name": "stdout",
     "output_type": "stream",
     "text": [
      "\u001b[1m4311/4311\u001b[0m \u001b[32m━━━━━━━━━━━━━━━━━━━━\u001b[0m\u001b[37m\u001b[0m \u001b[1m6s\u001b[0m 1ms/step - loss: 0.5605\n",
      "Test Loss (Haversine Distance): 0.5588311553001404\n"
     ]
    }
   ],
   "source": [
    "loss = model.evaluate([partial_test_reshape, categorical_test_reshape], y_test_reshape)\n",
    "print(f\"Test Loss (Haversine Distance): {loss}\")\n"
   ]
  },
  {
   "cell_type": "code",
   "execution_count": 92,
   "id": "17e61d0a",
   "metadata": {},
   "outputs": [
    {
     "name": "stdout",
     "output_type": "stream",
     "text": [
      "\u001b[1m4311/4311\u001b[0m \u001b[32m━━━━━━━━━━━━━━━━━━━━\u001b[0m\u001b[37m\u001b[0m \u001b[1m8s\u001b[0m 2ms/step\n",
      "[[ 2.2948792  -6.309898  ]\n",
      " [ 0.01899625  0.16105491]\n",
      " [ 0.02402772  0.16075578]\n",
      " ...\n",
      " [ 0.05271508  0.16069661]\n",
      " [ 0.0264755   0.16378634]\n",
      " [ 0.01094702  0.16553876]]\n"
     ]
    }
   ],
   "source": [
    "predictions = model.predict([partial_test_reshape, categorical_test_reshape])\n",
    "# Print or analyze the predictions\n",
    "print(predictions)\n"
   ]
  },
  {
   "cell_type": "code",
   "execution_count": 101,
   "id": "b0a263d3",
   "metadata": {},
   "outputs": [],
   "source": [
    "y_predicted=scaler.inverse_transform(predictions)"
   ]
  },
  {
   "cell_type": "code",
   "execution_count": 102,
   "id": "2c19ad2b",
   "metadata": {},
   "outputs": [
    {
     "data": {
      "text/plain": [
       "array([[  47.643932, -122.706024],\n",
       "       [  39.95965 ,  116.33522 ],\n",
       "       [  39.976635,  116.324165],\n",
       "       ...,\n",
       "       [  40.073498,  116.32198 ],\n",
       "       [  39.9849  ,  116.43612 ],\n",
       "       [  39.932472,  116.500854]], dtype=float32)"
      ]
     },
     "execution_count": 102,
     "metadata": {},
     "output_type": "execute_result"
    }
   ],
   "source": [
    "y_predicted"
   ]
  },
  {
   "cell_type": "code",
   "execution_count": 107,
   "id": "4bb99670",
   "metadata": {},
   "outputs": [
    {
     "name": "stdout",
     "output_type": "stream",
     "text": [
      "[[  47.6122233  -122.1976416 ]\n",
      " [  39.95437     116.35537833]\n",
      " [  39.9755      116.3305283 ]\n",
      " ...\n",
      " [  40.0759083   116.3233049 ]\n",
      " [  40.01193     116.5614783 ]\n",
      " [  39.9267083   116.4712833 ]]\n"
     ]
    }
   ],
   "source": [
    "y_actual=scaler.inverse_transform(y_test)\n",
    "print(y_actual)"
   ]
  },
  {
   "cell_type": "code",
   "execution_count": 109,
   "id": "f1f0ccdf",
   "metadata": {},
   "outputs": [
    {
     "name": "stdout",
     "output_type": "stream",
     "text": [
      "The Haversine distance is: 0.56 km\n"
     ]
    }
   ],
   "source": [
    "import numpy as np\n",
    "\n",
    "def haversine(coord1, coord2):\n",
    "    # Radius of the Earth in kilometers\n",
    "    R = 6371.0  \n",
    "    \n",
    "    # Convert latitude and longitude from degrees to radians\n",
    "    lat1, lon1 = np.radians(coord1)\n",
    "    lat2, lon2 = np.radians(coord2)\n",
    "    \n",
    "    # Compute differences between coordinates\n",
    "    dlat = lat2 - lat1\n",
    "    dlon = lon2 - lon1\n",
    "    \n",
    "    # Haversine formula\n",
    "    a = np.sin(dlat / 2)**2 + np.cos(lat1) * np.cos(lat2) * np.sin(dlon / 2)**2\n",
    "    c = 2 * np.arctan2(np.sqrt(a), np.sqrt(1 - a))\n",
    "    \n",
    "    # Distance in kilometers\n",
    "    distance = R * c\n",
    "    return distance\n",
    "\n",
    "prediction=[  39.976635,  116.324165]\n",
    "true=[  39.9755   ,   116.3305283 ]\n",
    "\n",
    "# Calculate Haversine distance\n",
    "distance = haversine(prediction, true)\n",
    "print(f\"The Haversine distance is: {distance:.2f} km\")\n"
   ]
  },
  {
   "cell_type": "code",
   "execution_count": 112,
   "id": "8d97d084",
   "metadata": {
    "scrolled": true
   },
   "outputs": [
    {
     "data": {
      "text/html": [
       "<div style=\"width:100%;\"><div style=\"position:relative;width:100%;height:0;padding-bottom:60%;\"><span style=\"color:#565656\">Make this Notebook Trusted to load map: File -> Trust Notebook</span><iframe src=\"about:blank\" style=\"position:absolute;width:100%;height:100%;left:0;top:0;border:none !important;\" data-html=%3C%21DOCTYPE%20html%3E%0A%3Chead%3E%20%20%20%20%0A%20%20%20%20%3Cmeta%20http-equiv%3D%22content-type%22%20content%3D%22text/html%3B%20charset%3DUTF-8%22%20/%3E%0A%20%20%20%20%0A%20%20%20%20%20%20%20%20%3Cscript%3E%0A%20%20%20%20%20%20%20%20%20%20%20%20L_NO_TOUCH%20%3D%20false%3B%0A%20%20%20%20%20%20%20%20%20%20%20%20L_DISABLE_3D%20%3D%20false%3B%0A%20%20%20%20%20%20%20%20%3C/script%3E%0A%20%20%20%20%0A%20%20%20%20%3Cstyle%3Ehtml%2C%20body%20%7Bwidth%3A%20100%25%3Bheight%3A%20100%25%3Bmargin%3A%200%3Bpadding%3A%200%3B%7D%3C/style%3E%0A%20%20%20%20%3Cstyle%3E%23map%20%7Bposition%3Aabsolute%3Btop%3A0%3Bbottom%3A0%3Bright%3A0%3Bleft%3A0%3B%7D%3C/style%3E%0A%20%20%20%20%3Cscript%20src%3D%22https%3A//cdn.jsdelivr.net/npm/leaflet%401.6.0/dist/leaflet.js%22%3E%3C/script%3E%0A%20%20%20%20%3Cscript%20src%3D%22https%3A//code.jquery.com/jquery-1.12.4.min.js%22%3E%3C/script%3E%0A%20%20%20%20%3Cscript%20src%3D%22https%3A//maxcdn.bootstrapcdn.com/bootstrap/3.2.0/js/bootstrap.min.js%22%3E%3C/script%3E%0A%20%20%20%20%3Cscript%20src%3D%22https%3A//cdnjs.cloudflare.com/ajax/libs/Leaflet.awesome-markers/2.0.2/leaflet.awesome-markers.js%22%3E%3C/script%3E%0A%20%20%20%20%3Clink%20rel%3D%22stylesheet%22%20href%3D%22https%3A//cdn.jsdelivr.net/npm/leaflet%401.6.0/dist/leaflet.css%22/%3E%0A%20%20%20%20%3Clink%20rel%3D%22stylesheet%22%20href%3D%22https%3A//maxcdn.bootstrapcdn.com/bootstrap/3.2.0/css/bootstrap.min.css%22/%3E%0A%20%20%20%20%3Clink%20rel%3D%22stylesheet%22%20href%3D%22https%3A//maxcdn.bootstrapcdn.com/bootstrap/3.2.0/css/bootstrap-theme.min.css%22/%3E%0A%20%20%20%20%3Clink%20rel%3D%22stylesheet%22%20href%3D%22https%3A//maxcdn.bootstrapcdn.com/font-awesome/4.6.3/css/font-awesome.min.css%22/%3E%0A%20%20%20%20%3Clink%20rel%3D%22stylesheet%22%20href%3D%22https%3A//cdnjs.cloudflare.com/ajax/libs/Leaflet.awesome-markers/2.0.2/leaflet.awesome-markers.css%22/%3E%0A%20%20%20%20%3Clink%20rel%3D%22stylesheet%22%20href%3D%22https%3A//cdn.jsdelivr.net/gh/python-visualization/folium/folium/templates/leaflet.awesome.rotate.min.css%22/%3E%0A%20%20%20%20%0A%20%20%20%20%20%20%20%20%20%20%20%20%3Cmeta%20name%3D%22viewport%22%20content%3D%22width%3Ddevice-width%2C%0A%20%20%20%20%20%20%20%20%20%20%20%20%20%20%20%20initial-scale%3D1.0%2C%20maximum-scale%3D1.0%2C%20user-scalable%3Dno%22%20/%3E%0A%20%20%20%20%20%20%20%20%20%20%20%20%3Cstyle%3E%0A%20%20%20%20%20%20%20%20%20%20%20%20%20%20%20%20%23map_d449f2f9aa50452d86d8eb774c6a8901%20%7B%0A%20%20%20%20%20%20%20%20%20%20%20%20%20%20%20%20%20%20%20%20position%3A%20relative%3B%0A%20%20%20%20%20%20%20%20%20%20%20%20%20%20%20%20%20%20%20%20width%3A%20100.0%25%3B%0A%20%20%20%20%20%20%20%20%20%20%20%20%20%20%20%20%20%20%20%20height%3A%20100.0%25%3B%0A%20%20%20%20%20%20%20%20%20%20%20%20%20%20%20%20%20%20%20%20left%3A%200.0%25%3B%0A%20%20%20%20%20%20%20%20%20%20%20%20%20%20%20%20%20%20%20%20top%3A%200.0%25%3B%0A%20%20%20%20%20%20%20%20%20%20%20%20%20%20%20%20%7D%0A%20%20%20%20%20%20%20%20%20%20%20%20%3C/style%3E%0A%20%20%20%20%20%20%20%20%0A%3C/head%3E%0A%3Cbody%3E%20%20%20%20%0A%20%20%20%20%0A%20%20%20%20%20%20%20%20%20%20%20%20%3Cdiv%20class%3D%22folium-map%22%20id%3D%22map_d449f2f9aa50452d86d8eb774c6a8901%22%20%3E%3C/div%3E%0A%20%20%20%20%20%20%20%20%0A%3C/body%3E%0A%3Cscript%3E%20%20%20%20%0A%20%20%20%20%0A%20%20%20%20%20%20%20%20%20%20%20%20var%20map_d449f2f9aa50452d86d8eb774c6a8901%20%3D%20L.map%28%0A%20%20%20%20%20%20%20%20%20%20%20%20%20%20%20%20%22map_d449f2f9aa50452d86d8eb774c6a8901%22%2C%0A%20%20%20%20%20%20%20%20%20%20%20%20%20%20%20%20%7B%0A%20%20%20%20%20%20%20%20%20%20%20%20%20%20%20%20%20%20%20%20center%3A%20%5B39.9760675%2C%20116.32734665%5D%2C%0A%20%20%20%20%20%20%20%20%20%20%20%20%20%20%20%20%20%20%20%20crs%3A%20L.CRS.EPSG3857%2C%0A%20%20%20%20%20%20%20%20%20%20%20%20%20%20%20%20%20%20%20%20zoom%3A%206%2C%0A%20%20%20%20%20%20%20%20%20%20%20%20%20%20%20%20%20%20%20%20zoomControl%3A%20true%2C%0A%20%20%20%20%20%20%20%20%20%20%20%20%20%20%20%20%20%20%20%20preferCanvas%3A%20false%2C%0A%20%20%20%20%20%20%20%20%20%20%20%20%20%20%20%20%7D%0A%20%20%20%20%20%20%20%20%20%20%20%20%29%3B%0A%0A%20%20%20%20%20%20%20%20%20%20%20%20%0A%0A%20%20%20%20%20%20%20%20%0A%20%20%20%20%0A%20%20%20%20%20%20%20%20%20%20%20%20var%20tile_layer_873d17585d7d4add8802a8ee7fa3eccc%20%3D%20L.tileLayer%28%0A%20%20%20%20%20%20%20%20%20%20%20%20%20%20%20%20%22https%3A//%7Bs%7D.tile.openstreetmap.org/%7Bz%7D/%7Bx%7D/%7By%7D.png%22%2C%0A%20%20%20%20%20%20%20%20%20%20%20%20%20%20%20%20%7B%22attribution%22%3A%20%22Data%20by%20%5Cu0026copy%3B%20%5Cu003ca%20href%3D%5C%22http%3A//openstreetmap.org%5C%22%5Cu003eOpenStreetMap%5Cu003c/a%5Cu003e%2C%20under%20%5Cu003ca%20href%3D%5C%22http%3A//www.openstreetmap.org/copyright%5C%22%5Cu003eODbL%5Cu003c/a%5Cu003e.%22%2C%20%22detectRetina%22%3A%20false%2C%20%22maxNativeZoom%22%3A%2018%2C%20%22maxZoom%22%3A%2018%2C%20%22minZoom%22%3A%200%2C%20%22noWrap%22%3A%20false%2C%20%22opacity%22%3A%201%2C%20%22subdomains%22%3A%20%22abc%22%2C%20%22tms%22%3A%20false%7D%0A%20%20%20%20%20%20%20%20%20%20%20%20%29.addTo%28map_d449f2f9aa50452d86d8eb774c6a8901%29%3B%0A%20%20%20%20%20%20%20%20%0A%20%20%20%20%0A%20%20%20%20%20%20%20%20%20%20%20%20var%20marker_4c776c1404ef476c9ba372fd29f2144d%20%3D%20L.marker%28%0A%20%20%20%20%20%20%20%20%20%20%20%20%20%20%20%20%5B39.976635%2C%20116.324165%5D%2C%0A%20%20%20%20%20%20%20%20%20%20%20%20%20%20%20%20%7B%7D%0A%20%20%20%20%20%20%20%20%20%20%20%20%29.addTo%28map_d449f2f9aa50452d86d8eb774c6a8901%29%3B%0A%20%20%20%20%20%20%20%20%0A%20%20%20%20%0A%20%20%20%20%20%20%20%20%20%20%20%20var%20icon_74e665db342f42e5805feb47e75df51f%20%3D%20L.AwesomeMarkers.icon%28%0A%20%20%20%20%20%20%20%20%20%20%20%20%20%20%20%20%7B%22extraClasses%22%3A%20%22fa-rotate-0%22%2C%20%22icon%22%3A%20%22info-sign%22%2C%20%22iconColor%22%3A%20%22white%22%2C%20%22markerColor%22%3A%20%22blue%22%2C%20%22prefix%22%3A%20%22glyphicon%22%7D%0A%20%20%20%20%20%20%20%20%20%20%20%20%29%3B%0A%20%20%20%20%20%20%20%20%20%20%20%20marker_4c776c1404ef476c9ba372fd29f2144d.setIcon%28icon_74e665db342f42e5805feb47e75df51f%29%3B%0A%20%20%20%20%20%20%20%20%0A%20%20%20%20%0A%20%20%20%20%20%20%20%20var%20popup_8d4d49de38ce433f9a7b0ebc63256e39%20%3D%20L.popup%28%7B%22maxWidth%22%3A%20%22100%25%22%7D%29%3B%0A%0A%20%20%20%20%20%20%20%20%0A%20%20%20%20%20%20%20%20%20%20%20%20var%20html_b565aa4adbb149eaac246720c54ee786%20%3D%20%24%28%60%3Cdiv%20id%3D%22html_b565aa4adbb149eaac246720c54ee786%22%20style%3D%22width%3A%20100.0%25%3B%20height%3A%20100.0%25%3B%22%3Eprediction%3C/div%3E%60%29%5B0%5D%3B%0A%20%20%20%20%20%20%20%20%20%20%20%20popup_8d4d49de38ce433f9a7b0ebc63256e39.setContent%28html_b565aa4adbb149eaac246720c54ee786%29%3B%0A%20%20%20%20%20%20%20%20%0A%0A%20%20%20%20%20%20%20%20marker_4c776c1404ef476c9ba372fd29f2144d.bindPopup%28popup_8d4d49de38ce433f9a7b0ebc63256e39%29%0A%20%20%20%20%20%20%20%20%3B%0A%0A%20%20%20%20%20%20%20%20%0A%20%20%20%20%0A%20%20%20%20%0A%20%20%20%20%20%20%20%20%20%20%20%20var%20marker_eddc605b4b414b369e5f1ed0a20a67f4%20%3D%20L.marker%28%0A%20%20%20%20%20%20%20%20%20%20%20%20%20%20%20%20%5B39.9755%2C%20116.3305283%5D%2C%0A%20%20%20%20%20%20%20%20%20%20%20%20%20%20%20%20%7B%7D%0A%20%20%20%20%20%20%20%20%20%20%20%20%29.addTo%28map_d449f2f9aa50452d86d8eb774c6a8901%29%3B%0A%20%20%20%20%20%20%20%20%0A%20%20%20%20%0A%20%20%20%20%20%20%20%20%20%20%20%20var%20icon_99982463da394915a683a947ea587898%20%3D%20L.AwesomeMarkers.icon%28%0A%20%20%20%20%20%20%20%20%20%20%20%20%20%20%20%20%7B%22extraClasses%22%3A%20%22fa-rotate-0%22%2C%20%22icon%22%3A%20%22info-sign%22%2C%20%22iconColor%22%3A%20%22white%22%2C%20%22markerColor%22%3A%20%22red%22%2C%20%22prefix%22%3A%20%22glyphicon%22%7D%0A%20%20%20%20%20%20%20%20%20%20%20%20%29%3B%0A%20%20%20%20%20%20%20%20%20%20%20%20marker_eddc605b4b414b369e5f1ed0a20a67f4.setIcon%28icon_99982463da394915a683a947ea587898%29%3B%0A%20%20%20%20%20%20%20%20%0A%20%20%20%20%0A%20%20%20%20%20%20%20%20var%20popup_e9f3bf11d1664962a02d68a1f91869fe%20%3D%20L.popup%28%7B%22maxWidth%22%3A%20%22100%25%22%7D%29%3B%0A%0A%20%20%20%20%20%20%20%20%0A%20%20%20%20%20%20%20%20%20%20%20%20var%20html_fe5d9adcab92425bac4c242066448db2%20%3D%20%24%28%60%3Cdiv%20id%3D%22html_fe5d9adcab92425bac4c242066448db2%22%20style%3D%22width%3A%20100.0%25%3B%20height%3A%20100.0%25%3B%22%3Etrue%3C/div%3E%60%29%5B0%5D%3B%0A%20%20%20%20%20%20%20%20%20%20%20%20popup_e9f3bf11d1664962a02d68a1f91869fe.setContent%28html_fe5d9adcab92425bac4c242066448db2%29%3B%0A%20%20%20%20%20%20%20%20%0A%0A%20%20%20%20%20%20%20%20marker_eddc605b4b414b369e5f1ed0a20a67f4.bindPopup%28popup_e9f3bf11d1664962a02d68a1f91869fe%29%0A%20%20%20%20%20%20%20%20%3B%0A%0A%20%20%20%20%20%20%20%20%0A%20%20%20%20%0A%20%20%20%20%0A%20%20%20%20%20%20%20%20%20%20%20%20var%20poly_line_e4977cf2f446437bbbd5b92a173f2983%20%3D%20L.polyline%28%0A%20%20%20%20%20%20%20%20%20%20%20%20%20%20%20%20%5B%5B39.976635%2C%20116.324165%5D%2C%20%5B39.9755%2C%20116.3305283%5D%5D%2C%0A%20%20%20%20%20%20%20%20%20%20%20%20%20%20%20%20%7B%22bubblingMouseEvents%22%3A%20true%2C%20%22color%22%3A%20%22green%22%2C%20%22dashArray%22%3A%20null%2C%20%22dashOffset%22%3A%20null%2C%20%22fill%22%3A%20false%2C%20%22fillColor%22%3A%20%22green%22%2C%20%22fillOpacity%22%3A%200.2%2C%20%22fillRule%22%3A%20%22evenodd%22%2C%20%22lineCap%22%3A%20%22round%22%2C%20%22lineJoin%22%3A%20%22round%22%2C%20%22noClip%22%3A%20false%2C%20%22opacity%22%3A%200.8%2C%20%22smoothFactor%22%3A%201.0%2C%20%22stroke%22%3A%20true%2C%20%22weight%22%3A%205%7D%0A%20%20%20%20%20%20%20%20%20%20%20%20%29.addTo%28map_d449f2f9aa50452d86d8eb774c6a8901%29%3B%0A%20%20%20%20%20%20%20%20%0A%3C/script%3E onload=\"this.contentDocument.open();this.contentDocument.write(    decodeURIComponent(this.getAttribute('data-html')));this.contentDocument.close();\" allowfullscreen webkitallowfullscreen mozallowfullscreen></iframe></div></div>"
      ],
      "text/plain": [
       "<folium.folium.Map at 0x1a2c95dbe80>"
      ]
     },
     "execution_count": 112,
     "metadata": {},
     "output_type": "execute_result"
    }
   ],
   "source": [
    "import folium\n",
    "\n",
    "\n",
    "# Create a map centered around the midpoint of the two points\n",
    "midpoint = [(prediction[0] + true[0]) / 2, (prediction[1] + true[1]) / 2]\n",
    "mymap = folium.Map(location=midpoint, zoom_start=6)\n",
    "\n",
    "# Add markers for the two points\n",
    "folium.Marker(location=prediction, popup=\"prediction\", icon=folium.Icon(color='blue')).add_to(mymap)\n",
    "folium.Marker(location=true, popup=\"true\", icon=folium.Icon(color='red')).add_to(mymap)\n",
    "\n",
    "# Draw a line between the two points\n",
    "folium.PolyLine(locations=[prediction, true], color='green', weight=5, opacity=0.8).add_to(mymap)\n",
    "\n",
    "# Display the map\n",
    "mymap"
   ]
  },
  {
   "cell_type": "code",
   "execution_count": 113,
   "id": "2f38472a",
   "metadata": {},
   "outputs": [
    {
     "data": {
      "text/html": [
       "<div style=\"width:100%;\"><div style=\"position:relative;width:100%;height:0;padding-bottom:60%;\"><span style=\"color:#565656\">Make this Notebook Trusted to load map: File -> Trust Notebook</span><iframe src=\"about:blank\" style=\"position:absolute;width:100%;height:100%;left:0;top:0;border:none !important;\" data-html=%3C%21DOCTYPE%20html%3E%0A%3Chead%3E%20%20%20%20%0A%20%20%20%20%3Cmeta%20http-equiv%3D%22content-type%22%20content%3D%22text/html%3B%20charset%3DUTF-8%22%20/%3E%0A%20%20%20%20%0A%20%20%20%20%20%20%20%20%3Cscript%3E%0A%20%20%20%20%20%20%20%20%20%20%20%20L_NO_TOUCH%20%3D%20false%3B%0A%20%20%20%20%20%20%20%20%20%20%20%20L_DISABLE_3D%20%3D%20false%3B%0A%20%20%20%20%20%20%20%20%3C/script%3E%0A%20%20%20%20%0A%20%20%20%20%3Cstyle%3Ehtml%2C%20body%20%7Bwidth%3A%20100%25%3Bheight%3A%20100%25%3Bmargin%3A%200%3Bpadding%3A%200%3B%7D%3C/style%3E%0A%20%20%20%20%3Cstyle%3E%23map%20%7Bposition%3Aabsolute%3Btop%3A0%3Bbottom%3A0%3Bright%3A0%3Bleft%3A0%3B%7D%3C/style%3E%0A%20%20%20%20%3Cscript%20src%3D%22https%3A//cdn.jsdelivr.net/npm/leaflet%401.6.0/dist/leaflet.js%22%3E%3C/script%3E%0A%20%20%20%20%3Cscript%20src%3D%22https%3A//code.jquery.com/jquery-1.12.4.min.js%22%3E%3C/script%3E%0A%20%20%20%20%3Cscript%20src%3D%22https%3A//maxcdn.bootstrapcdn.com/bootstrap/3.2.0/js/bootstrap.min.js%22%3E%3C/script%3E%0A%20%20%20%20%3Cscript%20src%3D%22https%3A//cdnjs.cloudflare.com/ajax/libs/Leaflet.awesome-markers/2.0.2/leaflet.awesome-markers.js%22%3E%3C/script%3E%0A%20%20%20%20%3Clink%20rel%3D%22stylesheet%22%20href%3D%22https%3A//cdn.jsdelivr.net/npm/leaflet%401.6.0/dist/leaflet.css%22/%3E%0A%20%20%20%20%3Clink%20rel%3D%22stylesheet%22%20href%3D%22https%3A//maxcdn.bootstrapcdn.com/bootstrap/3.2.0/css/bootstrap.min.css%22/%3E%0A%20%20%20%20%3Clink%20rel%3D%22stylesheet%22%20href%3D%22https%3A//maxcdn.bootstrapcdn.com/bootstrap/3.2.0/css/bootstrap-theme.min.css%22/%3E%0A%20%20%20%20%3Clink%20rel%3D%22stylesheet%22%20href%3D%22https%3A//maxcdn.bootstrapcdn.com/font-awesome/4.6.3/css/font-awesome.min.css%22/%3E%0A%20%20%20%20%3Clink%20rel%3D%22stylesheet%22%20href%3D%22https%3A//cdnjs.cloudflare.com/ajax/libs/Leaflet.awesome-markers/2.0.2/leaflet.awesome-markers.css%22/%3E%0A%20%20%20%20%3Clink%20rel%3D%22stylesheet%22%20href%3D%22https%3A//cdn.jsdelivr.net/gh/python-visualization/folium/folium/templates/leaflet.awesome.rotate.min.css%22/%3E%0A%20%20%20%20%0A%20%20%20%20%20%20%20%20%20%20%20%20%3Cmeta%20name%3D%22viewport%22%20content%3D%22width%3Ddevice-width%2C%0A%20%20%20%20%20%20%20%20%20%20%20%20%20%20%20%20initial-scale%3D1.0%2C%20maximum-scale%3D1.0%2C%20user-scalable%3Dno%22%20/%3E%0A%20%20%20%20%20%20%20%20%20%20%20%20%3Cstyle%3E%0A%20%20%20%20%20%20%20%20%20%20%20%20%20%20%20%20%23map_fc70257bf756458887a660d7709c31b8%20%7B%0A%20%20%20%20%20%20%20%20%20%20%20%20%20%20%20%20%20%20%20%20position%3A%20relative%3B%0A%20%20%20%20%20%20%20%20%20%20%20%20%20%20%20%20%20%20%20%20width%3A%20100.0%25%3B%0A%20%20%20%20%20%20%20%20%20%20%20%20%20%20%20%20%20%20%20%20height%3A%20100.0%25%3B%0A%20%20%20%20%20%20%20%20%20%20%20%20%20%20%20%20%20%20%20%20left%3A%200.0%25%3B%0A%20%20%20%20%20%20%20%20%20%20%20%20%20%20%20%20%20%20%20%20top%3A%200.0%25%3B%0A%20%20%20%20%20%20%20%20%20%20%20%20%20%20%20%20%7D%0A%20%20%20%20%20%20%20%20%20%20%20%20%3C/style%3E%0A%20%20%20%20%20%20%20%20%0A%3C/head%3E%0A%3Cbody%3E%20%20%20%20%0A%20%20%20%20%0A%20%20%20%20%20%20%20%20%20%20%20%20%3Cdiv%20class%3D%22folium-map%22%20id%3D%22map_fc70257bf756458887a660d7709c31b8%22%20%3E%3C/div%3E%0A%20%20%20%20%20%20%20%20%0A%3C/body%3E%0A%3Cscript%3E%20%20%20%20%0A%20%20%20%20%0A%20%20%20%20%20%20%20%20%20%20%20%20var%20map_fc70257bf756458887a660d7709c31b8%20%3D%20L.map%28%0A%20%20%20%20%20%20%20%20%20%20%20%20%20%20%20%20%22map_fc70257bf756458887a660d7709c31b8%22%2C%0A%20%20%20%20%20%20%20%20%20%20%20%20%20%20%20%20%7B%0A%20%20%20%20%20%20%20%20%20%20%20%20%20%20%20%20%20%20%20%20center%3A%20%5B20.0%2C%200.0%5D%2C%0A%20%20%20%20%20%20%20%20%20%20%20%20%20%20%20%20%20%20%20%20crs%3A%20L.CRS.EPSG3857%2C%0A%20%20%20%20%20%20%20%20%20%20%20%20%20%20%20%20%20%20%20%20zoom%3A%202%2C%0A%20%20%20%20%20%20%20%20%20%20%20%20%20%20%20%20%20%20%20%20zoomControl%3A%20true%2C%0A%20%20%20%20%20%20%20%20%20%20%20%20%20%20%20%20%20%20%20%20preferCanvas%3A%20false%2C%0A%20%20%20%20%20%20%20%20%20%20%20%20%20%20%20%20%7D%0A%20%20%20%20%20%20%20%20%20%20%20%20%29%3B%0A%0A%20%20%20%20%20%20%20%20%20%20%20%20%0A%0A%20%20%20%20%20%20%20%20%0A%20%20%20%20%0A%20%20%20%20%20%20%20%20%20%20%20%20var%20tile_layer_b6b27bda72a743a8ae5570c96bcca83f%20%3D%20L.tileLayer%28%0A%20%20%20%20%20%20%20%20%20%20%20%20%20%20%20%20%22https%3A//%7Bs%7D.tile.openstreetmap.org/%7Bz%7D/%7Bx%7D/%7By%7D.png%22%2C%0A%20%20%20%20%20%20%20%20%20%20%20%20%20%20%20%20%7B%22attribution%22%3A%20%22Data%20by%20%5Cu0026copy%3B%20%5Cu003ca%20href%3D%5C%22http%3A//openstreetmap.org%5C%22%5Cu003eOpenStreetMap%5Cu003c/a%5Cu003e%2C%20under%20%5Cu003ca%20href%3D%5C%22http%3A//www.openstreetmap.org/copyright%5C%22%5Cu003eODbL%5Cu003c/a%5Cu003e.%22%2C%20%22detectRetina%22%3A%20false%2C%20%22maxNativeZoom%22%3A%2018%2C%20%22maxZoom%22%3A%2018%2C%20%22minZoom%22%3A%200%2C%20%22noWrap%22%3A%20false%2C%20%22opacity%22%3A%201%2C%20%22subdomains%22%3A%20%22abc%22%2C%20%22tms%22%3A%20false%7D%0A%20%20%20%20%20%20%20%20%20%20%20%20%29.addTo%28map_fc70257bf756458887a660d7709c31b8%29%3B%0A%20%20%20%20%20%20%20%20%0A%20%20%20%20%0A%20%20%20%20%20%20%20%20%20%20%20%20var%20marker_0450be56c29c489482eda7e6ede982f2%20%3D%20L.marker%28%0A%20%20%20%20%20%20%20%20%20%20%20%20%20%20%20%20%5B47.643932%2C%20-122.706024%5D%2C%0A%20%20%20%20%20%20%20%20%20%20%20%20%20%20%20%20%7B%7D%0A%20%20%20%20%20%20%20%20%20%20%20%20%29.addTo%28map_fc70257bf756458887a660d7709c31b8%29%3B%0A%20%20%20%20%20%20%20%20%0A%20%20%20%20%0A%20%20%20%20%20%20%20%20%20%20%20%20var%20icon_8786b9f43c5745ada7c1fd377e3f88ff%20%3D%20L.AwesomeMarkers.icon%28%0A%20%20%20%20%20%20%20%20%20%20%20%20%20%20%20%20%7B%22extraClasses%22%3A%20%22fa-rotate-0%22%2C%20%22icon%22%3A%20%22info-sign%22%2C%20%22iconColor%22%3A%20%22white%22%2C%20%22markerColor%22%3A%20%22blue%22%2C%20%22prefix%22%3A%20%22glyphicon%22%7D%0A%20%20%20%20%20%20%20%20%20%20%20%20%29%3B%0A%20%20%20%20%20%20%20%20%20%20%20%20marker_0450be56c29c489482eda7e6ede982f2.setIcon%28icon_8786b9f43c5745ada7c1fd377e3f88ff%29%3B%0A%20%20%20%20%20%20%20%20%0A%20%20%20%20%0A%20%20%20%20%20%20%20%20var%20popup_c6addede371b474f9d695e85f61c2d25%20%3D%20L.popup%28%7B%22maxWidth%22%3A%20%22100%25%22%7D%29%3B%0A%0A%20%20%20%20%20%20%20%20%0A%20%20%20%20%20%20%20%20%20%20%20%20var%20html_ac4eaa88164a45448c1496a662b99a50%20%3D%20%24%28%60%3Cdiv%20id%3D%22html_ac4eaa88164a45448c1496a662b99a50%22%20style%3D%22width%3A%20100.0%25%3B%20height%3A%20100.0%25%3B%22%3EPrediction%201%3C/div%3E%60%29%5B0%5D%3B%0A%20%20%20%20%20%20%20%20%20%20%20%20popup_c6addede371b474f9d695e85f61c2d25.setContent%28html_ac4eaa88164a45448c1496a662b99a50%29%3B%0A%20%20%20%20%20%20%20%20%0A%0A%20%20%20%20%20%20%20%20marker_0450be56c29c489482eda7e6ede982f2.bindPopup%28popup_c6addede371b474f9d695e85f61c2d25%29%0A%20%20%20%20%20%20%20%20%3B%0A%0A%20%20%20%20%20%20%20%20%0A%20%20%20%20%0A%20%20%20%20%0A%20%20%20%20%20%20%20%20%20%20%20%20var%20marker_f2a0799ab70f46b3a9ce3f0ddeb98b25%20%3D%20L.marker%28%0A%20%20%20%20%20%20%20%20%20%20%20%20%20%20%20%20%5B39.95965%2C%20116.33522%5D%2C%0A%20%20%20%20%20%20%20%20%20%20%20%20%20%20%20%20%7B%7D%0A%20%20%20%20%20%20%20%20%20%20%20%20%29.addTo%28map_fc70257bf756458887a660d7709c31b8%29%3B%0A%20%20%20%20%20%20%20%20%0A%20%20%20%20%0A%20%20%20%20%20%20%20%20%20%20%20%20var%20icon_e6e6c4519d7a4a838640bac437e538cb%20%3D%20L.AwesomeMarkers.icon%28%0A%20%20%20%20%20%20%20%20%20%20%20%20%20%20%20%20%7B%22extraClasses%22%3A%20%22fa-rotate-0%22%2C%20%22icon%22%3A%20%22info-sign%22%2C%20%22iconColor%22%3A%20%22white%22%2C%20%22markerColor%22%3A%20%22blue%22%2C%20%22prefix%22%3A%20%22glyphicon%22%7D%0A%20%20%20%20%20%20%20%20%20%20%20%20%29%3B%0A%20%20%20%20%20%20%20%20%20%20%20%20marker_f2a0799ab70f46b3a9ce3f0ddeb98b25.setIcon%28icon_e6e6c4519d7a4a838640bac437e538cb%29%3B%0A%20%20%20%20%20%20%20%20%0A%20%20%20%20%0A%20%20%20%20%20%20%20%20var%20popup_7168ac89d1f34186a35206d085909430%20%3D%20L.popup%28%7B%22maxWidth%22%3A%20%22100%25%22%7D%29%3B%0A%0A%20%20%20%20%20%20%20%20%0A%20%20%20%20%20%20%20%20%20%20%20%20var%20html_d3ed84c0951247d8a1f78fa846b92978%20%3D%20%24%28%60%3Cdiv%20id%3D%22html_d3ed84c0951247d8a1f78fa846b92978%22%20style%3D%22width%3A%20100.0%25%3B%20height%3A%20100.0%25%3B%22%3EPrediction%202%3C/div%3E%60%29%5B0%5D%3B%0A%20%20%20%20%20%20%20%20%20%20%20%20popup_7168ac89d1f34186a35206d085909430.setContent%28html_d3ed84c0951247d8a1f78fa846b92978%29%3B%0A%20%20%20%20%20%20%20%20%0A%0A%20%20%20%20%20%20%20%20marker_f2a0799ab70f46b3a9ce3f0ddeb98b25.bindPopup%28popup_7168ac89d1f34186a35206d085909430%29%0A%20%20%20%20%20%20%20%20%3B%0A%0A%20%20%20%20%20%20%20%20%0A%20%20%20%20%0A%20%20%20%20%0A%20%20%20%20%20%20%20%20%20%20%20%20var%20marker_6968ed2e21884f48bd9410dc0b9a66f4%20%3D%20L.marker%28%0A%20%20%20%20%20%20%20%20%20%20%20%20%20%20%20%20%5B39.976635%2C%20116.324165%5D%2C%0A%20%20%20%20%20%20%20%20%20%20%20%20%20%20%20%20%7B%7D%0A%20%20%20%20%20%20%20%20%20%20%20%20%29.addTo%28map_fc70257bf756458887a660d7709c31b8%29%3B%0A%20%20%20%20%20%20%20%20%0A%20%20%20%20%0A%20%20%20%20%20%20%20%20%20%20%20%20var%20icon_20a36e86b6c0467f9349943b51a12e28%20%3D%20L.AwesomeMarkers.icon%28%0A%20%20%20%20%20%20%20%20%20%20%20%20%20%20%20%20%7B%22extraClasses%22%3A%20%22fa-rotate-0%22%2C%20%22icon%22%3A%20%22info-sign%22%2C%20%22iconColor%22%3A%20%22white%22%2C%20%22markerColor%22%3A%20%22blue%22%2C%20%22prefix%22%3A%20%22glyphicon%22%7D%0A%20%20%20%20%20%20%20%20%20%20%20%20%29%3B%0A%20%20%20%20%20%20%20%20%20%20%20%20marker_6968ed2e21884f48bd9410dc0b9a66f4.setIcon%28icon_20a36e86b6c0467f9349943b51a12e28%29%3B%0A%20%20%20%20%20%20%20%20%0A%20%20%20%20%0A%20%20%20%20%20%20%20%20var%20popup_d4245335da9144968e7ed9902e484dd7%20%3D%20L.popup%28%7B%22maxWidth%22%3A%20%22100%25%22%7D%29%3B%0A%0A%20%20%20%20%20%20%20%20%0A%20%20%20%20%20%20%20%20%20%20%20%20var%20html_41af70c2844e4bf58afa6423d3773d54%20%3D%20%24%28%60%3Cdiv%20id%3D%22html_41af70c2844e4bf58afa6423d3773d54%22%20style%3D%22width%3A%20100.0%25%3B%20height%3A%20100.0%25%3B%22%3EPrediction%203%3C/div%3E%60%29%5B0%5D%3B%0A%20%20%20%20%20%20%20%20%20%20%20%20popup_d4245335da9144968e7ed9902e484dd7.setContent%28html_41af70c2844e4bf58afa6423d3773d54%29%3B%0A%20%20%20%20%20%20%20%20%0A%0A%20%20%20%20%20%20%20%20marker_6968ed2e21884f48bd9410dc0b9a66f4.bindPopup%28popup_d4245335da9144968e7ed9902e484dd7%29%0A%20%20%20%20%20%20%20%20%3B%0A%0A%20%20%20%20%20%20%20%20%0A%20%20%20%20%0A%20%20%20%20%0A%20%20%20%20%20%20%20%20%20%20%20%20var%20marker_9321ee67b8a7425ba7b96e832a66238d%20%3D%20L.marker%28%0A%20%20%20%20%20%20%20%20%20%20%20%20%20%20%20%20%5B39.932472%2C%20116.500854%5D%2C%0A%20%20%20%20%20%20%20%20%20%20%20%20%20%20%20%20%7B%7D%0A%20%20%20%20%20%20%20%20%20%20%20%20%29.addTo%28map_fc70257bf756458887a660d7709c31b8%29%3B%0A%20%20%20%20%20%20%20%20%0A%20%20%20%20%0A%20%20%20%20%20%20%20%20%20%20%20%20var%20icon_fde2fb889eb24cfda7ca4321ff10fcbc%20%3D%20L.AwesomeMarkers.icon%28%0A%20%20%20%20%20%20%20%20%20%20%20%20%20%20%20%20%7B%22extraClasses%22%3A%20%22fa-rotate-0%22%2C%20%22icon%22%3A%20%22info-sign%22%2C%20%22iconColor%22%3A%20%22white%22%2C%20%22markerColor%22%3A%20%22blue%22%2C%20%22prefix%22%3A%20%22glyphicon%22%7D%0A%20%20%20%20%20%20%20%20%20%20%20%20%29%3B%0A%20%20%20%20%20%20%20%20%20%20%20%20marker_9321ee67b8a7425ba7b96e832a66238d.setIcon%28icon_fde2fb889eb24cfda7ca4321ff10fcbc%29%3B%0A%20%20%20%20%20%20%20%20%0A%20%20%20%20%0A%20%20%20%20%20%20%20%20var%20popup_ae772b67d0994f7798ee24b9071cde59%20%3D%20L.popup%28%7B%22maxWidth%22%3A%20%22100%25%22%7D%29%3B%0A%0A%20%20%20%20%20%20%20%20%0A%20%20%20%20%20%20%20%20%20%20%20%20var%20html_567c4d92d0e94e70abb3f4f75b698e87%20%3D%20%24%28%60%3Cdiv%20id%3D%22html_567c4d92d0e94e70abb3f4f75b698e87%22%20style%3D%22width%3A%20100.0%25%3B%20height%3A%20100.0%25%3B%22%3EPrediction%204%3C/div%3E%60%29%5B0%5D%3B%0A%20%20%20%20%20%20%20%20%20%20%20%20popup_ae772b67d0994f7798ee24b9071cde59.setContent%28html_567c4d92d0e94e70abb3f4f75b698e87%29%3B%0A%20%20%20%20%20%20%20%20%0A%0A%20%20%20%20%20%20%20%20marker_9321ee67b8a7425ba7b96e832a66238d.bindPopup%28popup_ae772b67d0994f7798ee24b9071cde59%29%0A%20%20%20%20%20%20%20%20%3B%0A%0A%20%20%20%20%20%20%20%20%0A%20%20%20%20%0A%20%20%20%20%0A%20%20%20%20%20%20%20%20%20%20%20%20var%20marker_c6f0c23795d34c0c87bbb785dd226305%20%3D%20L.marker%28%0A%20%20%20%20%20%20%20%20%20%20%20%20%20%20%20%20%5B47.6122233%2C%20-122.1976416%5D%2C%0A%20%20%20%20%20%20%20%20%20%20%20%20%20%20%20%20%7B%7D%0A%20%20%20%20%20%20%20%20%20%20%20%20%29.addTo%28map_fc70257bf756458887a660d7709c31b8%29%3B%0A%20%20%20%20%20%20%20%20%0A%20%20%20%20%0A%20%20%20%20%20%20%20%20%20%20%20%20var%20icon_b553194effbb4b4eb4f339f0a289e9bc%20%3D%20L.AwesomeMarkers.icon%28%0A%20%20%20%20%20%20%20%20%20%20%20%20%20%20%20%20%7B%22extraClasses%22%3A%20%22fa-rotate-0%22%2C%20%22icon%22%3A%20%22info-sign%22%2C%20%22iconColor%22%3A%20%22white%22%2C%20%22markerColor%22%3A%20%22red%22%2C%20%22prefix%22%3A%20%22glyphicon%22%7D%0A%20%20%20%20%20%20%20%20%20%20%20%20%29%3B%0A%20%20%20%20%20%20%20%20%20%20%20%20marker_c6f0c23795d34c0c87bbb785dd226305.setIcon%28icon_b553194effbb4b4eb4f339f0a289e9bc%29%3B%0A%20%20%20%20%20%20%20%20%0A%20%20%20%20%0A%20%20%20%20%20%20%20%20var%20popup_5e5ca970db1c45aab29ede20e761ab17%20%3D%20L.popup%28%7B%22maxWidth%22%3A%20%22100%25%22%7D%29%3B%0A%0A%20%20%20%20%20%20%20%20%0A%20%20%20%20%20%20%20%20%20%20%20%20var%20html_a87158468ce543c396176b8bff734ca0%20%3D%20%24%28%60%3Cdiv%20id%3D%22html_a87158468ce543c396176b8bff734ca0%22%20style%3D%22width%3A%20100.0%25%3B%20height%3A%20100.0%25%3B%22%3ETrue%201%3C/div%3E%60%29%5B0%5D%3B%0A%20%20%20%20%20%20%20%20%20%20%20%20popup_5e5ca970db1c45aab29ede20e761ab17.setContent%28html_a87158468ce543c396176b8bff734ca0%29%3B%0A%20%20%20%20%20%20%20%20%0A%0A%20%20%20%20%20%20%20%20marker_c6f0c23795d34c0c87bbb785dd226305.bindPopup%28popup_5e5ca970db1c45aab29ede20e761ab17%29%0A%20%20%20%20%20%20%20%20%3B%0A%0A%20%20%20%20%20%20%20%20%0A%20%20%20%20%0A%20%20%20%20%0A%20%20%20%20%20%20%20%20%20%20%20%20var%20marker_52f7eb64cb5d41deae31e57a67bdb164%20%3D%20L.marker%28%0A%20%20%20%20%20%20%20%20%20%20%20%20%20%20%20%20%5B39.95437%2C%20116.35537833%5D%2C%0A%20%20%20%20%20%20%20%20%20%20%20%20%20%20%20%20%7B%7D%0A%20%20%20%20%20%20%20%20%20%20%20%20%29.addTo%28map_fc70257bf756458887a660d7709c31b8%29%3B%0A%20%20%20%20%20%20%20%20%0A%20%20%20%20%0A%20%20%20%20%20%20%20%20%20%20%20%20var%20icon_352ee91fe491498bad0201ac93f4072a%20%3D%20L.AwesomeMarkers.icon%28%0A%20%20%20%20%20%20%20%20%20%20%20%20%20%20%20%20%7B%22extraClasses%22%3A%20%22fa-rotate-0%22%2C%20%22icon%22%3A%20%22info-sign%22%2C%20%22iconColor%22%3A%20%22white%22%2C%20%22markerColor%22%3A%20%22red%22%2C%20%22prefix%22%3A%20%22glyphicon%22%7D%0A%20%20%20%20%20%20%20%20%20%20%20%20%29%3B%0A%20%20%20%20%20%20%20%20%20%20%20%20marker_52f7eb64cb5d41deae31e57a67bdb164.setIcon%28icon_352ee91fe491498bad0201ac93f4072a%29%3B%0A%20%20%20%20%20%20%20%20%0A%20%20%20%20%0A%20%20%20%20%20%20%20%20var%20popup_855bbd9386f748358d0cadd95cfc3e50%20%3D%20L.popup%28%7B%22maxWidth%22%3A%20%22100%25%22%7D%29%3B%0A%0A%20%20%20%20%20%20%20%20%0A%20%20%20%20%20%20%20%20%20%20%20%20var%20html_227a8430cc3047b48095af8b747062f3%20%3D%20%24%28%60%3Cdiv%20id%3D%22html_227a8430cc3047b48095af8b747062f3%22%20style%3D%22width%3A%20100.0%25%3B%20height%3A%20100.0%25%3B%22%3ETrue%202%3C/div%3E%60%29%5B0%5D%3B%0A%20%20%20%20%20%20%20%20%20%20%20%20popup_855bbd9386f748358d0cadd95cfc3e50.setContent%28html_227a8430cc3047b48095af8b747062f3%29%3B%0A%20%20%20%20%20%20%20%20%0A%0A%20%20%20%20%20%20%20%20marker_52f7eb64cb5d41deae31e57a67bdb164.bindPopup%28popup_855bbd9386f748358d0cadd95cfc3e50%29%0A%20%20%20%20%20%20%20%20%3B%0A%0A%20%20%20%20%20%20%20%20%0A%20%20%20%20%0A%20%20%20%20%0A%20%20%20%20%20%20%20%20%20%20%20%20var%20marker_0b065410f84e45ebacc87470b3a7710e%20%3D%20L.marker%28%0A%20%20%20%20%20%20%20%20%20%20%20%20%20%20%20%20%5B39.9755%2C%20116.3305283%5D%2C%0A%20%20%20%20%20%20%20%20%20%20%20%20%20%20%20%20%7B%7D%0A%20%20%20%20%20%20%20%20%20%20%20%20%29.addTo%28map_fc70257bf756458887a660d7709c31b8%29%3B%0A%20%20%20%20%20%20%20%20%0A%20%20%20%20%0A%20%20%20%20%20%20%20%20%20%20%20%20var%20icon_022f47ec5ea649b994936c77bc32d4ce%20%3D%20L.AwesomeMarkers.icon%28%0A%20%20%20%20%20%20%20%20%20%20%20%20%20%20%20%20%7B%22extraClasses%22%3A%20%22fa-rotate-0%22%2C%20%22icon%22%3A%20%22info-sign%22%2C%20%22iconColor%22%3A%20%22white%22%2C%20%22markerColor%22%3A%20%22red%22%2C%20%22prefix%22%3A%20%22glyphicon%22%7D%0A%20%20%20%20%20%20%20%20%20%20%20%20%29%3B%0A%20%20%20%20%20%20%20%20%20%20%20%20marker_0b065410f84e45ebacc87470b3a7710e.setIcon%28icon_022f47ec5ea649b994936c77bc32d4ce%29%3B%0A%20%20%20%20%20%20%20%20%0A%20%20%20%20%0A%20%20%20%20%20%20%20%20var%20popup_f2eb71570da845b691fd3f7236b4aae0%20%3D%20L.popup%28%7B%22maxWidth%22%3A%20%22100%25%22%7D%29%3B%0A%0A%20%20%20%20%20%20%20%20%0A%20%20%20%20%20%20%20%20%20%20%20%20var%20html_77d916ca013a42359021c7ba5af42953%20%3D%20%24%28%60%3Cdiv%20id%3D%22html_77d916ca013a42359021c7ba5af42953%22%20style%3D%22width%3A%20100.0%25%3B%20height%3A%20100.0%25%3B%22%3ETrue%203%3C/div%3E%60%29%5B0%5D%3B%0A%20%20%20%20%20%20%20%20%20%20%20%20popup_f2eb71570da845b691fd3f7236b4aae0.setContent%28html_77d916ca013a42359021c7ba5af42953%29%3B%0A%20%20%20%20%20%20%20%20%0A%0A%20%20%20%20%20%20%20%20marker_0b065410f84e45ebacc87470b3a7710e.bindPopup%28popup_f2eb71570da845b691fd3f7236b4aae0%29%0A%20%20%20%20%20%20%20%20%3B%0A%0A%20%20%20%20%20%20%20%20%0A%20%20%20%20%0A%20%20%20%20%0A%20%20%20%20%20%20%20%20%20%20%20%20var%20marker_c9006e009bb242d29a50f9e80d2153dc%20%3D%20L.marker%28%0A%20%20%20%20%20%20%20%20%20%20%20%20%20%20%20%20%5B39.9267083%2C%20116.4712833%5D%2C%0A%20%20%20%20%20%20%20%20%20%20%20%20%20%20%20%20%7B%7D%0A%20%20%20%20%20%20%20%20%20%20%20%20%29.addTo%28map_fc70257bf756458887a660d7709c31b8%29%3B%0A%20%20%20%20%20%20%20%20%0A%20%20%20%20%0A%20%20%20%20%20%20%20%20%20%20%20%20var%20icon_c33325fef1584038af25f774cae136b3%20%3D%20L.AwesomeMarkers.icon%28%0A%20%20%20%20%20%20%20%20%20%20%20%20%20%20%20%20%7B%22extraClasses%22%3A%20%22fa-rotate-0%22%2C%20%22icon%22%3A%20%22info-sign%22%2C%20%22iconColor%22%3A%20%22white%22%2C%20%22markerColor%22%3A%20%22red%22%2C%20%22prefix%22%3A%20%22glyphicon%22%7D%0A%20%20%20%20%20%20%20%20%20%20%20%20%29%3B%0A%20%20%20%20%20%20%20%20%20%20%20%20marker_c9006e009bb242d29a50f9e80d2153dc.setIcon%28icon_c33325fef1584038af25f774cae136b3%29%3B%0A%20%20%20%20%20%20%20%20%0A%20%20%20%20%0A%20%20%20%20%20%20%20%20var%20popup_90d60c38956f47418b70daf31d0489d2%20%3D%20L.popup%28%7B%22maxWidth%22%3A%20%22100%25%22%7D%29%3B%0A%0A%20%20%20%20%20%20%20%20%0A%20%20%20%20%20%20%20%20%20%20%20%20var%20html_d954e0e89aec430f9d8e154e4f8a3738%20%3D%20%24%28%60%3Cdiv%20id%3D%22html_d954e0e89aec430f9d8e154e4f8a3738%22%20style%3D%22width%3A%20100.0%25%3B%20height%3A%20100.0%25%3B%22%3ETrue%204%3C/div%3E%60%29%5B0%5D%3B%0A%20%20%20%20%20%20%20%20%20%20%20%20popup_90d60c38956f47418b70daf31d0489d2.setContent%28html_d954e0e89aec430f9d8e154e4f8a3738%29%3B%0A%20%20%20%20%20%20%20%20%0A%0A%20%20%20%20%20%20%20%20marker_c9006e009bb242d29a50f9e80d2153dc.bindPopup%28popup_90d60c38956f47418b70daf31d0489d2%29%0A%20%20%20%20%20%20%20%20%3B%0A%0A%20%20%20%20%20%20%20%20%0A%20%20%20%20%0A%20%20%20%20%0A%20%20%20%20%20%20%20%20%20%20%20%20var%20poly_line_5a303f0ca9f34eb082c776211f090fb5%20%3D%20L.polyline%28%0A%20%20%20%20%20%20%20%20%20%20%20%20%20%20%20%20%5B%5B47.643932%2C%20-122.706024%5D%2C%20%5B47.6122233%2C%20-122.1976416%5D%5D%2C%0A%20%20%20%20%20%20%20%20%20%20%20%20%20%20%20%20%7B%22bubblingMouseEvents%22%3A%20true%2C%20%22color%22%3A%20%22green%22%2C%20%22dashArray%22%3A%20null%2C%20%22dashOffset%22%3A%20null%2C%20%22fill%22%3A%20false%2C%20%22fillColor%22%3A%20%22green%22%2C%20%22fillOpacity%22%3A%200.2%2C%20%22fillRule%22%3A%20%22evenodd%22%2C%20%22lineCap%22%3A%20%22round%22%2C%20%22lineJoin%22%3A%20%22round%22%2C%20%22noClip%22%3A%20false%2C%20%22opacity%22%3A%200.8%2C%20%22smoothFactor%22%3A%201.0%2C%20%22stroke%22%3A%20true%2C%20%22weight%22%3A%205%7D%0A%20%20%20%20%20%20%20%20%20%20%20%20%29.addTo%28map_fc70257bf756458887a660d7709c31b8%29%3B%0A%20%20%20%20%20%20%20%20%0A%20%20%20%20%0A%20%20%20%20%20%20%20%20%20%20%20%20var%20poly_line_acc64aeac6ac4f29857bb5260ef27ceb%20%3D%20L.polyline%28%0A%20%20%20%20%20%20%20%20%20%20%20%20%20%20%20%20%5B%5B39.95965%2C%20116.33522%5D%2C%20%5B39.95437%2C%20116.35537833%5D%5D%2C%0A%20%20%20%20%20%20%20%20%20%20%20%20%20%20%20%20%7B%22bubblingMouseEvents%22%3A%20true%2C%20%22color%22%3A%20%22green%22%2C%20%22dashArray%22%3A%20null%2C%20%22dashOffset%22%3A%20null%2C%20%22fill%22%3A%20false%2C%20%22fillColor%22%3A%20%22green%22%2C%20%22fillOpacity%22%3A%200.2%2C%20%22fillRule%22%3A%20%22evenodd%22%2C%20%22lineCap%22%3A%20%22round%22%2C%20%22lineJoin%22%3A%20%22round%22%2C%20%22noClip%22%3A%20false%2C%20%22opacity%22%3A%200.8%2C%20%22smoothFactor%22%3A%201.0%2C%20%22stroke%22%3A%20true%2C%20%22weight%22%3A%205%7D%0A%20%20%20%20%20%20%20%20%20%20%20%20%29.addTo%28map_fc70257bf756458887a660d7709c31b8%29%3B%0A%20%20%20%20%20%20%20%20%0A%20%20%20%20%0A%20%20%20%20%20%20%20%20%20%20%20%20var%20poly_line_a3ea4f7eb35f473c9c70a0baf525e0cc%20%3D%20L.polyline%28%0A%20%20%20%20%20%20%20%20%20%20%20%20%20%20%20%20%5B%5B39.976635%2C%20116.324165%5D%2C%20%5B39.9755%2C%20116.3305283%5D%5D%2C%0A%20%20%20%20%20%20%20%20%20%20%20%20%20%20%20%20%7B%22bubblingMouseEvents%22%3A%20true%2C%20%22color%22%3A%20%22green%22%2C%20%22dashArray%22%3A%20null%2C%20%22dashOffset%22%3A%20null%2C%20%22fill%22%3A%20false%2C%20%22fillColor%22%3A%20%22green%22%2C%20%22fillOpacity%22%3A%200.2%2C%20%22fillRule%22%3A%20%22evenodd%22%2C%20%22lineCap%22%3A%20%22round%22%2C%20%22lineJoin%22%3A%20%22round%22%2C%20%22noClip%22%3A%20false%2C%20%22opacity%22%3A%200.8%2C%20%22smoothFactor%22%3A%201.0%2C%20%22stroke%22%3A%20true%2C%20%22weight%22%3A%205%7D%0A%20%20%20%20%20%20%20%20%20%20%20%20%29.addTo%28map_fc70257bf756458887a660d7709c31b8%29%3B%0A%20%20%20%20%20%20%20%20%0A%20%20%20%20%0A%20%20%20%20%20%20%20%20%20%20%20%20var%20poly_line_a59c6f6cd91a4241a8772fa41d9b5987%20%3D%20L.polyline%28%0A%20%20%20%20%20%20%20%20%20%20%20%20%20%20%20%20%5B%5B39.932472%2C%20116.500854%5D%2C%20%5B39.9267083%2C%20116.4712833%5D%5D%2C%0A%20%20%20%20%20%20%20%20%20%20%20%20%20%20%20%20%7B%22bubblingMouseEvents%22%3A%20true%2C%20%22color%22%3A%20%22green%22%2C%20%22dashArray%22%3A%20null%2C%20%22dashOffset%22%3A%20null%2C%20%22fill%22%3A%20false%2C%20%22fillColor%22%3A%20%22green%22%2C%20%22fillOpacity%22%3A%200.2%2C%20%22fillRule%22%3A%20%22evenodd%22%2C%20%22lineCap%22%3A%20%22round%22%2C%20%22lineJoin%22%3A%20%22round%22%2C%20%22noClip%22%3A%20false%2C%20%22opacity%22%3A%200.8%2C%20%22smoothFactor%22%3A%201.0%2C%20%22stroke%22%3A%20true%2C%20%22weight%22%3A%205%7D%0A%20%20%20%20%20%20%20%20%20%20%20%20%29.addTo%28map_fc70257bf756458887a660d7709c31b8%29%3B%0A%20%20%20%20%20%20%20%20%0A%3C/script%3E onload=\"this.contentDocument.open();this.contentDocument.write(    decodeURIComponent(this.getAttribute('data-html')));this.contentDocument.close();\" allowfullscreen webkitallowfullscreen mozallowfullscreen></iframe></div></div>"
      ],
      "text/plain": [
       "<folium.folium.Map at 0x1a2c594e5e0>"
      ]
     },
     "execution_count": 113,
     "metadata": {},
     "output_type": "execute_result"
    }
   ],
   "source": [
    "import folium\n",
    "\n",
    "# Example data: lists of prediction and true points (latitude, longitude)\n",
    "predictions = [( 47.643932, -122.706024), (  39.95965 ,  116.33522 ), (  39.976635,  116.324165), (  39.932472,  116.500854)]\n",
    "truths = [(  47.6122233 , -122.1976416 ), (  39.95437  ,   116.35537833), (  39.9755    ,  116.3305283 ), (  39.9267083 ,  116.4712833 )]\n",
    "\n",
    "# Create a map centered at an initial location, you can set any default coordinates\n",
    "mymap = folium.Map(location=[20.0, 0.0], zoom_start=2)\n",
    "\n",
    "# Add markers for the prediction points\n",
    "for i, pred in enumerate(predictions):\n",
    "    folium.Marker(location=pred, popup=f\"Prediction {i+1}\", icon=folium.Icon(color='blue')).add_to(mymap)\n",
    "\n",
    "# Add markers for the true points\n",
    "for i, true in enumerate(truths):\n",
    "    folium.Marker(location=true, popup=f\"True {i+1}\", icon=folium.Icon(color='red')).add_to(mymap)\n",
    "\n",
    "# Draw lines between prediction and true points\n",
    "for pred, true in zip(predictions, truths):\n",
    "    folium.PolyLine(locations=[pred, true], color='green', weight=5, opacity=0.8).add_to(mymap)\n",
    "\n",
    "# Display the map\n",
    "mymap\n"
   ]
  },
  {
   "cell_type": "code",
   "execution_count": 114,
   "id": "de328f69",
   "metadata": {},
   "outputs": [],
   "source": [
    "df.to_excel('C:/Users/z044971/OneDrive - Alliance/vehicle_destination/geolife.xlsx', index=False)"
   ]
  },
  {
   "cell_type": "code",
   "execution_count": 115,
   "id": "8bac5544",
   "metadata": {},
   "outputs": [],
   "source": [
    "tid_count=df['tid'].value_counts()"
   ]
  },
  {
   "cell_type": "code",
   "execution_count": 118,
   "id": "57349508",
   "metadata": {},
   "outputs": [],
   "source": [
    "lis=[]\n",
    "for i in tid_count:\n",
    "    if(i<10):\n",
    "        lis.append(i)"
   ]
  },
  {
   "cell_type": "code",
   "execution_count": 120,
   "id": "e2a5ca21",
   "metadata": {},
   "outputs": [
    {
     "data": {
      "text/plain": [
       "569"
      ]
     },
     "execution_count": 120,
     "metadata": {},
     "output_type": "execute_result"
    }
   ],
   "source": [
    "len(lis)"
   ]
  },
  {
   "cell_type": "code",
   "execution_count": 122,
   "id": "bf276a2b",
   "metadata": {},
   "outputs": [
    {
     "data": {
      "text/plain": [
       "Data\\078_93      6995\n",
       "Data\\126_825     3952\n",
       "Data\\167_1309    3952\n",
       "Data\\084_987     3890\n",
       "Data\\084_980     3744\n",
       "                 ... \n",
       "Data\\021_144        1\n",
       "Data\\115_260        1\n",
       "Data\\115_233        1\n",
       "Data\\115_232        1\n",
       "Data\\128_1197       1\n",
       "Name: tid, Length: 2535, dtype: int64"
      ]
     },
     "execution_count": 122,
     "metadata": {},
     "output_type": "execute_result"
    }
   ],
   "source": [
    "tid_count"
   ]
  },
  {
   "cell_type": "code",
   "execution_count": null,
   "id": "86834d96",
   "metadata": {},
   "outputs": [],
   "source": []
  }
 ],
 "metadata": {
  "kernelspec": {
   "display_name": "Python 3 (ipykernel)",
   "language": "python",
   "name": "python3"
  },
  "language_info": {
   "codemirror_mode": {
    "name": "ipython",
    "version": 3
   },
   "file_extension": ".py",
   "mimetype": "text/x-python",
   "name": "python",
   "nbconvert_exporter": "python",
   "pygments_lexer": "ipython3",
   "version": "3.9.8"
  }
 },
 "nbformat": 4,
 "nbformat_minor": 5
}
