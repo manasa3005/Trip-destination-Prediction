{
 "cells": [
  {
   "cell_type": "code",
   "execution_count": 20,
   "id": "be7c9171",
   "metadata": {},
   "outputs": [],
   "source": [
    "import pandas as pd\n",
    "data=pd.read_csv('/Downloads/Geolife Trajectories 1.3/geolife.csv')"
   ]
  },
  {
   "cell_type": "code",
   "execution_count": 21,
   "id": "02a505a0",
   "metadata": {},
   "outputs": [],
   "source": [
    "import numpy as np\n",
    "from sklearn.preprocessing import StandardScaler\n",
    "import matplotlib.pyplot as plt\n",
    "from sklearn.cluster import KMeans\n",
    "from sklearn.model_selection import train_test_split"
   ]
  },
  {
   "cell_type": "code",
   "execution_count": 22,
   "id": "f951175f",
   "metadata": {},
   "outputs": [
    {
     "data": {
      "text/plain": [
       "Index(['lat', 'lon', 'alt', 'time', 'destination', 'mode_of_transport',\n",
       "       'start_time', 'end_time', 'tid', 'time_diff', 'distance', 'speed',\n",
       "       'acceleration', 'user'],\n",
       "      dtype='object')"
      ]
     },
     "execution_count": 22,
     "metadata": {},
     "output_type": "execute_result"
    }
   ],
   "source": [
    "data.columns"
   ]
  },
  {
   "cell_type": "code",
   "execution_count": 23,
   "id": "28fe8857",
   "metadata": {},
   "outputs": [],
   "source": [
    "filtered_data = data[data['mode_of_transport'].isin([10, 3])]"
   ]
  },
  {
   "cell_type": "code",
   "execution_count": 24,
   "id": "eb046290",
   "metadata": {},
   "outputs": [
    {
     "name": "stderr",
     "output_type": "stream",
     "text": [
      "C:\\Users\\z044971\\AppData\\Local\\Temp/ipykernel_6576/3314771656.py:1: SettingWithCopyWarning: \n",
      "A value is trying to be set on a copy of a slice from a DataFrame.\n",
      "Try using .loc[row_indexer,col_indexer] = value instead\n",
      "\n",
      "See the caveats in the documentation: https://pandas.pydata.org/pandas-docs/stable/user_guide/indexing.html#returning-a-view-versus-a-copy\n",
      "  filtered_data[['lat_destination', 'lon_destination']] = pd.DataFrame(filtered_data['destination'].apply(eval).tolist(), index=filtered_data.index)\n",
      "C:\\Users\\z044971\\AppData\\Local\\Temp/ipykernel_6576/3314771656.py:1: SettingWithCopyWarning: \n",
      "A value is trying to be set on a copy of a slice from a DataFrame.\n",
      "Try using .loc[row_indexer,col_indexer] = value instead\n",
      "\n",
      "See the caveats in the documentation: https://pandas.pydata.org/pandas-docs/stable/user_guide/indexing.html#returning-a-view-versus-a-copy\n",
      "  filtered_data[['lat_destination', 'lon_destination']] = pd.DataFrame(filtered_data['destination'].apply(eval).tolist(), index=filtered_data.index)\n"
     ]
    }
   ],
   "source": [
    "filtered_data[['lat_destination', 'lon_destination']] = pd.DataFrame(filtered_data['destination'].apply(eval).tolist(), index=filtered_data.index)"
   ]
  },
  {
   "cell_type": "code",
   "execution_count": 25,
   "id": "57d5ed41",
   "metadata": {},
   "outputs": [
    {
     "name": "stderr",
     "output_type": "stream",
     "text": [
      "C:\\Users\\z044971\\AppData\\Local\\Temp/ipykernel_6576/2729726634.py:2: SettingWithCopyWarning: \n",
      "A value is trying to be set on a copy of a slice from a DataFrame.\n",
      "Try using .loc[row_indexer,col_indexer] = value instead\n",
      "\n",
      "See the caveats in the documentation: https://pandas.pydata.org/pandas-docs/stable/user_guide/indexing.html#returning-a-view-versus-a-copy\n",
      "  filtered_data['time'] = pd.to_datetime(filtered_data['time'])\n",
      "C:\\Users\\z044971\\AppData\\Local\\Temp/ipykernel_6576/2729726634.py:5: SettingWithCopyWarning: \n",
      "A value is trying to be set on a copy of a slice from a DataFrame.\n",
      "Try using .loc[row_indexer,col_indexer] = value instead\n",
      "\n",
      "See the caveats in the documentation: https://pandas.pydata.org/pandas-docs/stable/user_guide/indexing.html#returning-a-view-versus-a-copy\n",
      "  filtered_data['hour'] = filtered_data['time'].dt.hour\n",
      "C:\\Users\\z044971\\AppData\\Local\\Temp/ipykernel_6576/2729726634.py:6: SettingWithCopyWarning: \n",
      "A value is trying to be set on a copy of a slice from a DataFrame.\n",
      "Try using .loc[row_indexer,col_indexer] = value instead\n",
      "\n",
      "See the caveats in the documentation: https://pandas.pydata.org/pandas-docs/stable/user_guide/indexing.html#returning-a-view-versus-a-copy\n",
      "  filtered_data['day'] = filtered_data['time'].dt.day  # Day of the month\n",
      "C:\\Users\\z044971\\AppData\\Local\\Temp/ipykernel_6576/2729726634.py:7: SettingWithCopyWarning: \n",
      "A value is trying to be set on a copy of a slice from a DataFrame.\n",
      "Try using .loc[row_indexer,col_indexer] = value instead\n",
      "\n",
      "See the caveats in the documentation: https://pandas.pydata.org/pandas-docs/stable/user_guide/indexing.html#returning-a-view-versus-a-copy\n",
      "  filtered_data['week'] = filtered_data['time'].dt.isocalendar().week  # ISO week number\n"
     ]
    }
   ],
   "source": [
    "# Convert the time column to datetime\n",
    "filtered_data['time'] = pd.to_datetime(filtered_data['time'])\n",
    "\n",
    "# Extract hour, day, weekday, and week number\n",
    "filtered_data['hour'] = filtered_data['time'].dt.hour\n",
    "filtered_data['day'] = filtered_data['time'].dt.day  # Day of the month\n",
    "filtered_data['week'] = filtered_data['time'].dt.isocalendar().week  # ISO week number\n"
   ]
  },
  {
   "cell_type": "code",
   "execution_count": 26,
   "id": "fe925fad",
   "metadata": {},
   "outputs": [],
   "source": [
    "# Group by 'user' and 'tid', then take the first 'lat' and 'lon' for each trip as the departure coordinates\n",
    "df_departure = filtered_data.groupby(['user', 'tid']).first().reset_index()\n",
    "\n",
    "# Merge the departure coordinates back into the original dataframe\n",
    "filtered_data = filtered_data.merge(df_departure[['user', 'tid', 'lat', 'lon']], on=['user', 'tid'], suffixes=('', '_departure'))\n",
    "\n",
    "# Rename the columns for clarity\n",
    "filtered_data.rename(columns={'lat_departure': 'departure_lat', 'lon_departure': 'departure_lon'}, inplace=True)"
   ]
  },
  {
   "cell_type": "code",
   "execution_count": 27,
   "id": "ad3b8899",
   "metadata": {},
   "outputs": [],
   "source": [
    "##partial data"
   ]
  },
  {
   "cell_type": "code",
   "execution_count": 32,
   "id": "31d33e7d",
   "metadata": {},
   "outputs": [
    {
     "data": {
      "text/html": [
       "<div>\n",
       "<style scoped>\n",
       "    .dataframe tbody tr th:only-of-type {\n",
       "        vertical-align: middle;\n",
       "    }\n",
       "\n",
       "    .dataframe tbody tr th {\n",
       "        vertical-align: top;\n",
       "    }\n",
       "\n",
       "    .dataframe thead th {\n",
       "        text-align: right;\n",
       "    }\n",
       "</style>\n",
       "<table border=\"1\" class=\"dataframe\">\n",
       "  <thead>\n",
       "    <tr style=\"text-align: right;\">\n",
       "      <th></th>\n",
       "      <th>lat</th>\n",
       "      <th>lon</th>\n",
       "      <th>alt</th>\n",
       "      <th>time</th>\n",
       "      <th>destination</th>\n",
       "      <th>mode_of_transport</th>\n",
       "      <th>start_time</th>\n",
       "      <th>end_time</th>\n",
       "      <th>tid</th>\n",
       "      <th>time_diff</th>\n",
       "      <th>...</th>\n",
       "      <th>user</th>\n",
       "      <th>lat_destination</th>\n",
       "      <th>lon_destination</th>\n",
       "      <th>hour</th>\n",
       "      <th>day</th>\n",
       "      <th>week</th>\n",
       "      <th>departure_lat</th>\n",
       "      <th>departure_lon</th>\n",
       "      <th>cluster</th>\n",
       "      <th>partial</th>\n",
       "    </tr>\n",
       "  </thead>\n",
       "  <tbody>\n",
       "    <tr>\n",
       "      <th>0</th>\n",
       "      <td>39.995196</td>\n",
       "      <td>116.327816</td>\n",
       "      <td>181.0512</td>\n",
       "      <td>2008-09-27 11:42:13</td>\n",
       "      <td>(39.135816, 117.216816)</td>\n",
       "      <td>3</td>\n",
       "      <td>2008-09-27 11:42:13</td>\n",
       "      <td>2008-09-27 12:29:29</td>\n",
       "      <td>Data\\010_207</td>\n",
       "      <td>-6136872.0</td>\n",
       "      <td>...</td>\n",
       "      <td>10</td>\n",
       "      <td>39.135816</td>\n",
       "      <td>117.216816</td>\n",
       "      <td>11</td>\n",
       "      <td>27</td>\n",
       "      <td>39</td>\n",
       "      <td>39.995196</td>\n",
       "      <td>116.327816</td>\n",
       "      <td>0</td>\n",
       "      <td>0</td>\n",
       "    </tr>\n",
       "    <tr>\n",
       "      <th>1</th>\n",
       "      <td>39.995223</td>\n",
       "      <td>116.327865</td>\n",
       "      <td>181.0512</td>\n",
       "      <td>2008-09-27 11:42:14</td>\n",
       "      <td>(39.135816, 117.216816)</td>\n",
       "      <td>3</td>\n",
       "      <td>2008-09-27 11:42:13</td>\n",
       "      <td>2008-09-27 12:29:29</td>\n",
       "      <td>Data\\010_207</td>\n",
       "      <td>1.0</td>\n",
       "      <td>...</td>\n",
       "      <td>10</td>\n",
       "      <td>39.135816</td>\n",
       "      <td>117.216816</td>\n",
       "      <td>11</td>\n",
       "      <td>27</td>\n",
       "      <td>39</td>\n",
       "      <td>39.995196</td>\n",
       "      <td>116.327816</td>\n",
       "      <td>0</td>\n",
       "      <td>0</td>\n",
       "    </tr>\n",
       "    <tr>\n",
       "      <th>2</th>\n",
       "      <td>39.995258</td>\n",
       "      <td>116.327906</td>\n",
       "      <td>181.9656</td>\n",
       "      <td>2008-09-27 11:42:15</td>\n",
       "      <td>(39.135816, 117.216816)</td>\n",
       "      <td>3</td>\n",
       "      <td>2008-09-27 11:42:13</td>\n",
       "      <td>2008-09-27 12:29:29</td>\n",
       "      <td>Data\\010_207</td>\n",
       "      <td>1.0</td>\n",
       "      <td>...</td>\n",
       "      <td>10</td>\n",
       "      <td>39.135816</td>\n",
       "      <td>117.216816</td>\n",
       "      <td>11</td>\n",
       "      <td>27</td>\n",
       "      <td>39</td>\n",
       "      <td>39.995196</td>\n",
       "      <td>116.327816</td>\n",
       "      <td>0</td>\n",
       "      <td>0</td>\n",
       "    </tr>\n",
       "    <tr>\n",
       "      <th>3</th>\n",
       "      <td>39.995293</td>\n",
       "      <td>116.327940</td>\n",
       "      <td>181.9656</td>\n",
       "      <td>2008-09-27 11:42:16</td>\n",
       "      <td>(39.135816, 117.216816)</td>\n",
       "      <td>3</td>\n",
       "      <td>2008-09-27 11:42:13</td>\n",
       "      <td>2008-09-27 12:29:29</td>\n",
       "      <td>Data\\010_207</td>\n",
       "      <td>1.0</td>\n",
       "      <td>...</td>\n",
       "      <td>10</td>\n",
       "      <td>39.135816</td>\n",
       "      <td>117.216816</td>\n",
       "      <td>11</td>\n",
       "      <td>27</td>\n",
       "      <td>39</td>\n",
       "      <td>39.995196</td>\n",
       "      <td>116.327816</td>\n",
       "      <td>0</td>\n",
       "      <td>0</td>\n",
       "    </tr>\n",
       "    <tr>\n",
       "      <th>4</th>\n",
       "      <td>39.995334</td>\n",
       "      <td>116.327954</td>\n",
       "      <td>181.9656</td>\n",
       "      <td>2008-09-27 11:42:17</td>\n",
       "      <td>(39.135816, 117.216816)</td>\n",
       "      <td>3</td>\n",
       "      <td>2008-09-27 11:42:13</td>\n",
       "      <td>2008-09-27 12:29:29</td>\n",
       "      <td>Data\\010_207</td>\n",
       "      <td>1.0</td>\n",
       "      <td>...</td>\n",
       "      <td>10</td>\n",
       "      <td>39.135816</td>\n",
       "      <td>117.216816</td>\n",
       "      <td>11</td>\n",
       "      <td>27</td>\n",
       "      <td>39</td>\n",
       "      <td>39.995196</td>\n",
       "      <td>116.327816</td>\n",
       "      <td>0</td>\n",
       "      <td>0</td>\n",
       "    </tr>\n",
       "    <tr>\n",
       "      <th>...</th>\n",
       "      <td>...</td>\n",
       "      <td>...</td>\n",
       "      <td>...</td>\n",
       "      <td>...</td>\n",
       "      <td>...</td>\n",
       "      <td>...</td>\n",
       "      <td>...</td>\n",
       "      <td>...</td>\n",
       "      <td>...</td>\n",
       "      <td>...</td>\n",
       "      <td>...</td>\n",
       "      <td>...</td>\n",
       "      <td>...</td>\n",
       "      <td>...</td>\n",
       "      <td>...</td>\n",
       "      <td>...</td>\n",
       "      <td>...</td>\n",
       "      <td>...</td>\n",
       "      <td>...</td>\n",
       "      <td>...</td>\n",
       "      <td>...</td>\n",
       "    </tr>\n",
       "    <tr>\n",
       "      <th>715049</th>\n",
       "      <td>39.992520</td>\n",
       "      <td>116.326051</td>\n",
       "      <td>55.7784</td>\n",
       "      <td>2008-11-07 10:21:56</td>\n",
       "      <td>(40.08931, 116.298673)</td>\n",
       "      <td>10</td>\n",
       "      <td>2008-11-07 09:11:06</td>\n",
       "      <td>2008-11-07 10:22:06</td>\n",
       "      <td>Data\\179_478</td>\n",
       "      <td>2.0</td>\n",
       "      <td>...</td>\n",
       "      <td>179</td>\n",
       "      <td>40.089310</td>\n",
       "      <td>116.298673</td>\n",
       "      <td>10</td>\n",
       "      <td>7</td>\n",
       "      <td>45</td>\n",
       "      <td>39.996471</td>\n",
       "      <td>116.308879</td>\n",
       "      <td>0</td>\n",
       "      <td>[39.996471, 116.308879, 39.996368, 116.308919,...</td>\n",
       "    </tr>\n",
       "    <tr>\n",
       "      <th>715050</th>\n",
       "      <td>39.992491</td>\n",
       "      <td>116.325979</td>\n",
       "      <td>55.1688</td>\n",
       "      <td>2008-11-07 10:21:58</td>\n",
       "      <td>(40.08931, 116.298673)</td>\n",
       "      <td>10</td>\n",
       "      <td>2008-11-07 09:11:06</td>\n",
       "      <td>2008-11-07 10:22:06</td>\n",
       "      <td>Data\\179_478</td>\n",
       "      <td>2.0</td>\n",
       "      <td>...</td>\n",
       "      <td>179</td>\n",
       "      <td>40.089310</td>\n",
       "      <td>116.298673</td>\n",
       "      <td>10</td>\n",
       "      <td>7</td>\n",
       "      <td>45</td>\n",
       "      <td>39.996471</td>\n",
       "      <td>116.308879</td>\n",
       "      <td>0</td>\n",
       "      <td>[39.996471, 116.308879, 39.996368, 116.308919,...</td>\n",
       "    </tr>\n",
       "    <tr>\n",
       "      <th>715051</th>\n",
       "      <td>39.992405</td>\n",
       "      <td>116.325812</td>\n",
       "      <td>55.1688</td>\n",
       "      <td>2008-11-07 10:22:00</td>\n",
       "      <td>(40.08931, 116.298673)</td>\n",
       "      <td>10</td>\n",
       "      <td>2008-11-07 09:11:06</td>\n",
       "      <td>2008-11-07 10:22:06</td>\n",
       "      <td>Data\\179_478</td>\n",
       "      <td>2.0</td>\n",
       "      <td>...</td>\n",
       "      <td>179</td>\n",
       "      <td>40.089310</td>\n",
       "      <td>116.298673</td>\n",
       "      <td>10</td>\n",
       "      <td>7</td>\n",
       "      <td>45</td>\n",
       "      <td>39.996471</td>\n",
       "      <td>116.308879</td>\n",
       "      <td>0</td>\n",
       "      <td>[39.996471, 116.308879, 39.996368, 116.308919,...</td>\n",
       "    </tr>\n",
       "    <tr>\n",
       "      <th>715052</th>\n",
       "      <td>39.992402</td>\n",
       "      <td>116.325784</td>\n",
       "      <td>55.1688</td>\n",
       "      <td>2008-11-07 10:22:02</td>\n",
       "      <td>(40.08931, 116.298673)</td>\n",
       "      <td>10</td>\n",
       "      <td>2008-11-07 09:11:06</td>\n",
       "      <td>2008-11-07 10:22:06</td>\n",
       "      <td>Data\\179_478</td>\n",
       "      <td>2.0</td>\n",
       "      <td>...</td>\n",
       "      <td>179</td>\n",
       "      <td>40.089310</td>\n",
       "      <td>116.298673</td>\n",
       "      <td>10</td>\n",
       "      <td>7</td>\n",
       "      <td>45</td>\n",
       "      <td>39.996471</td>\n",
       "      <td>116.308879</td>\n",
       "      <td>0</td>\n",
       "      <td>[39.996471, 116.308879, 39.996368, 116.308919,...</td>\n",
       "    </tr>\n",
       "    <tr>\n",
       "      <th>715053</th>\n",
       "      <td>39.992363</td>\n",
       "      <td>116.325729</td>\n",
       "      <td>54.8640</td>\n",
       "      <td>2008-11-07 10:22:04</td>\n",
       "      <td>(40.08931, 116.298673)</td>\n",
       "      <td>10</td>\n",
       "      <td>2008-11-07 09:11:06</td>\n",
       "      <td>2008-11-07 10:22:06</td>\n",
       "      <td>Data\\179_478</td>\n",
       "      <td>2.0</td>\n",
       "      <td>...</td>\n",
       "      <td>179</td>\n",
       "      <td>40.089310</td>\n",
       "      <td>116.298673</td>\n",
       "      <td>10</td>\n",
       "      <td>7</td>\n",
       "      <td>45</td>\n",
       "      <td>39.996471</td>\n",
       "      <td>116.308879</td>\n",
       "      <td>0</td>\n",
       "      <td>[39.996471, 116.308879, 39.996368, 116.308919,...</td>\n",
       "    </tr>\n",
       "  </tbody>\n",
       "</table>\n",
       "<p>715054 rows × 23 columns</p>\n",
       "</div>"
      ],
      "text/plain": [
       "              lat         lon       alt                time  \\\n",
       "0       39.995196  116.327816  181.0512 2008-09-27 11:42:13   \n",
       "1       39.995223  116.327865  181.0512 2008-09-27 11:42:14   \n",
       "2       39.995258  116.327906  181.9656 2008-09-27 11:42:15   \n",
       "3       39.995293  116.327940  181.9656 2008-09-27 11:42:16   \n",
       "4       39.995334  116.327954  181.9656 2008-09-27 11:42:17   \n",
       "...           ...         ...       ...                 ...   \n",
       "715049  39.992520  116.326051   55.7784 2008-11-07 10:21:56   \n",
       "715050  39.992491  116.325979   55.1688 2008-11-07 10:21:58   \n",
       "715051  39.992405  116.325812   55.1688 2008-11-07 10:22:00   \n",
       "715052  39.992402  116.325784   55.1688 2008-11-07 10:22:02   \n",
       "715053  39.992363  116.325729   54.8640 2008-11-07 10:22:04   \n",
       "\n",
       "                    destination  mode_of_transport           start_time  \\\n",
       "0       (39.135816, 117.216816)                  3  2008-09-27 11:42:13   \n",
       "1       (39.135816, 117.216816)                  3  2008-09-27 11:42:13   \n",
       "2       (39.135816, 117.216816)                  3  2008-09-27 11:42:13   \n",
       "3       (39.135816, 117.216816)                  3  2008-09-27 11:42:13   \n",
       "4       (39.135816, 117.216816)                  3  2008-09-27 11:42:13   \n",
       "...                         ...                ...                  ...   \n",
       "715049   (40.08931, 116.298673)                 10  2008-11-07 09:11:06   \n",
       "715050   (40.08931, 116.298673)                 10  2008-11-07 09:11:06   \n",
       "715051   (40.08931, 116.298673)                 10  2008-11-07 09:11:06   \n",
       "715052   (40.08931, 116.298673)                 10  2008-11-07 09:11:06   \n",
       "715053   (40.08931, 116.298673)                 10  2008-11-07 09:11:06   \n",
       "\n",
       "                   end_time           tid  time_diff  ...  user  \\\n",
       "0       2008-09-27 12:29:29  Data\\010_207 -6136872.0  ...    10   \n",
       "1       2008-09-27 12:29:29  Data\\010_207        1.0  ...    10   \n",
       "2       2008-09-27 12:29:29  Data\\010_207        1.0  ...    10   \n",
       "3       2008-09-27 12:29:29  Data\\010_207        1.0  ...    10   \n",
       "4       2008-09-27 12:29:29  Data\\010_207        1.0  ...    10   \n",
       "...                     ...           ...        ...  ...   ...   \n",
       "715049  2008-11-07 10:22:06  Data\\179_478        2.0  ...   179   \n",
       "715050  2008-11-07 10:22:06  Data\\179_478        2.0  ...   179   \n",
       "715051  2008-11-07 10:22:06  Data\\179_478        2.0  ...   179   \n",
       "715052  2008-11-07 10:22:06  Data\\179_478        2.0  ...   179   \n",
       "715053  2008-11-07 10:22:06  Data\\179_478        2.0  ...   179   \n",
       "\n",
       "        lat_destination  lon_destination  hour  day  week  departure_lat  \\\n",
       "0             39.135816       117.216816    11   27    39      39.995196   \n",
       "1             39.135816       117.216816    11   27    39      39.995196   \n",
       "2             39.135816       117.216816    11   27    39      39.995196   \n",
       "3             39.135816       117.216816    11   27    39      39.995196   \n",
       "4             39.135816       117.216816    11   27    39      39.995196   \n",
       "...                 ...              ...   ...  ...   ...            ...   \n",
       "715049        40.089310       116.298673    10    7    45      39.996471   \n",
       "715050        40.089310       116.298673    10    7    45      39.996471   \n",
       "715051        40.089310       116.298673    10    7    45      39.996471   \n",
       "715052        40.089310       116.298673    10    7    45      39.996471   \n",
       "715053        40.089310       116.298673    10    7    45      39.996471   \n",
       "\n",
       "        departure_lon  cluster  \\\n",
       "0          116.327816        0   \n",
       "1          116.327816        0   \n",
       "2          116.327816        0   \n",
       "3          116.327816        0   \n",
       "4          116.327816        0   \n",
       "...               ...      ...   \n",
       "715049     116.308879        0   \n",
       "715050     116.308879        0   \n",
       "715051     116.308879        0   \n",
       "715052     116.308879        0   \n",
       "715053     116.308879        0   \n",
       "\n",
       "                                                  partial  \n",
       "0                                                       0  \n",
       "1                                                       0  \n",
       "2                                                       0  \n",
       "3                                                       0  \n",
       "4                                                       0  \n",
       "...                                                   ...  \n",
       "715049  [39.996471, 116.308879, 39.996368, 116.308919,...  \n",
       "715050  [39.996471, 116.308879, 39.996368, 116.308919,...  \n",
       "715051  [39.996471, 116.308879, 39.996368, 116.308919,...  \n",
       "715052  [39.996471, 116.308879, 39.996368, 116.308919,...  \n",
       "715053  [39.996471, 116.308879, 39.996368, 116.308919,...  \n",
       "\n",
       "[715054 rows x 23 columns]"
      ]
     },
     "execution_count": 32,
     "metadata": {},
     "output_type": "execute_result"
    }
   ],
   "source": [
    "def first_prediction(gps_data):\n",
    "    partial_data_list = []\n",
    "    \n",
    "    if len(gps_data) < 10:\n",
    "        # If there are less than 10 points, return partial data list filled with 0s\n",
    "        partial_data_list = [0] * len(gps_data)\n",
    "    else:\n",
    "        # For the first 10 points, partial data is set to 0\n",
    "        partial_data_list = [0] * 10\n",
    "    \n",
    "    return partial_data_list\n",
    "\n",
    "# Function to get 5 first points + 5 points up to the current position\n",
    "def current_position_prediction(gps_data, current_index):\n",
    "    # First 5 points from the start\n",
    "    first_5_points = gps_data.iloc[:5]\n",
    "    \n",
    "    # Last 5 points from the current position\n",
    "    current_5_points = gps_data.iloc[current_index-5:current_index]\n",
    "    \n",
    "    # Combine both sets into a flat list\n",
    "    partial_list = first_5_points[['lat', 'lon']].values.flatten().tolist() + \\\n",
    "                   current_5_points[['lat', 'lon']].values.flatten().tolist()\n",
    "    \n",
    "    return partial_list\n",
    "\n",
    "# Main function to generate partial data column for the whole trip\n",
    "def generate_partial_data(gps_data):\n",
    "    # First 10 points get partial data set to 0\n",
    "    partial_data_list = first_prediction(gps_data)\n",
    "    \n",
    "    # Loop through data starting from position 10 to calculate partial data\n",
    "    for current_index in range(10, len(gps_data)):\n",
    "        partial_list = current_position_prediction(gps_data, current_index)\n",
    "        partial_data_list.append(partial_list)\n",
    "    \n",
    "    return partial_data_list\n",
    "\n",
    "# Main function to process all trips and update the original filtered_data with the 'partial' column\n",
    "def process_trips(filtered_data):\n",
    "    # Group data by trip id 'tid'\n",
    "    grouped = filtered_data.groupby('tid')\n",
    "\n",
    "    # Initialize an empty list to store partial data for all trips\n",
    "    partial_data_all_trips = []\n",
    "\n",
    "    # Iterate over each trip group\n",
    "    for tid, trip_data in grouped:\n",
    "        #print(f\"Processing trip {tid}...\")\n",
    "\n",
    "        # Extract the lat, lon columns for this trip\n",
    "        gps_data = trip_data[['lat', 'lon']]\n",
    "\n",
    "        # Generate partial data for this trip\n",
    "        partial_data_list = generate_partial_data(gps_data)\n",
    "\n",
    "        # Append the partial data list to the partial_data_all_trips list\n",
    "        partial_data_all_trips.extend(partial_data_list)\n",
    "\n",
    "    # Assign the complete list of partial data as a new column in the filtered_data DataFrame\n",
    "    filtered_data['partial'] = partial_data_all_trips\n",
    "\n",
    "    return filtered_data\n",
    "process_trips(filtered_data)"
   ]
  },
  {
   "cell_type": "code",
   "execution_count": 19,
   "id": "14191c58",
   "metadata": {},
   "outputs": [],
   "source": [
    "##historical data grouped by departure zone"
   ]
  },
  {
   "cell_type": "code",
   "execution_count": 33,
   "id": "24042de6",
   "metadata": {},
   "outputs": [],
   "source": [
    "import pandas as pd\n",
    "from sklearn.cluster import DBSCAN\n",
    "from sklearn.preprocessing import StandardScaler\n",
    "scaler = StandardScaler()\n",
    "# Deduplicate the DataFrame to unique coordinates\n",
    "unique_coords = filtered_data[['departure_lat', 'departure_lon']].drop_duplicates()\n",
    "\n",
    "# Apply DBSCAN to unique coordinates\n",
    "dbscan = DBSCAN(eps=0.5, min_samples=5)\n",
    "unique_coords['cluster'] = dbscan.fit_predict(scaler.fit_transform(unique_coords))\n",
    "\n",
    "# Now, you can map back the cluster labels to the original DataFrame if needed\n",
    "filtered_data = filtered_data.merge(unique_coords[['departure_lat', 'departure_lon', 'cluster']], \n",
    "                          on=['departure_lat', 'departure_lon'], \n",
    "                          how='left', \n",
    "                          suffixes=('', '_unique'))"
   ]
  },
  {
   "cell_type": "code",
   "execution_count": 34,
   "id": "29d6e25f",
   "metadata": {},
   "outputs": [
    {
     "data": {
      "text/plain": [
       " 0    666443\n",
       " 3     17486\n",
       " 4     17103\n",
       "-1      5562\n",
       " 1      5490\n",
       " 2      2020\n",
       " 5       950\n",
       "Name: cluster, dtype: int64"
      ]
     },
     "execution_count": 34,
     "metadata": {},
     "output_type": "execute_result"
    }
   ],
   "source": [
    "filtered_data['cluster'].value_counts()"
   ]
  },
  {
   "cell_type": "code",
   "execution_count": 35,
   "id": "d2742e39",
   "metadata": {},
   "outputs": [
    {
     "name": "stdout",
     "output_type": "stream",
     "text": [
      "Silhouette Score: 0.652354671814542\n"
     ]
    }
   ],
   "source": [
    "from sklearn.metrics import silhouette_score\n",
    "\n",
    "# Ensure that noise points (label -1) are excluded for Silhouette calculation\n",
    "non_noise_coords = unique_coords[unique_coords['cluster'] != -1]\n",
    "\n",
    "# Silhouette score calculation (excluding noise)\n",
    "if non_noise_coords['cluster'].nunique() > 1:  # Only calculate if there's more than one cluster\n",
    "    score = silhouette_score(scaler.fit_transform(non_noise_coords[['departure_lat', 'departure_lon']]), non_noise_coords['cluster'])\n",
    "    print(f'Silhouette Score: {score}')\n",
    "else:\n",
    "    print('Silhouette Score cannot be calculated because there is only one cluster.')\n",
    "\n"
   ]
  },
  {
   "cell_type": "code",
   "execution_count": 55,
   "id": "0069ecd4",
   "metadata": {},
   "outputs": [
    {
     "name": "stdout",
     "output_type": "stream",
     "text": [
      "  Historic data 1: [43.847158, 125.289116]\n",
      "  Historic data 2: [18.292739, 109.200128]\n",
      "  Historic data 3: [18.292739, 109.200128]\n",
      "  Historic data 4: [18.292739, 109.200128]\n",
      "  Historic data 5: [18.292739, 109.200128]\n",
      "  Historic data 6: [None, None]\n",
      "  Historic data 7: [None, None]\n",
      "  Historic data 8: [None, None]\n",
      "  Historic data 9: [None, None]\n",
      "  Historic data 10: [None, None]\n",
      "  Historic data 1: [39.135816, 117.216816]\n",
      "  Historic data 2: [39.137299, 117.220753]\n",
      "  Historic data 3: [39.991323, 116.317309]\n",
      "  Historic data 4: [39.136366, 117.218021]\n",
      "  Historic data 5: [39.136366, 117.218021]\n",
      "  Historic data 6: [39.114293, 117.187586]\n",
      "  Historic data 7: [39.114293, 117.187586]\n",
      "  Historic data 8: [39.136106, 117.218443]\n",
      "  Historic data 9: [39.137413, 117.219833]\n",
      "  Historic data 10: [39.137413, 117.219833]\n",
      "  Historic data 1: [39.473507, 76.000835]\n",
      "  Historic data 2: [39.473507, 76.000835]\n",
      "  Historic data 3: [39.473507, 76.000835]\n",
      "  Historic data 4: [39.473507, 76.000835]\n",
      "  Historic data 5: [39.493373, 76.045505]\n",
      "  Historic data 6: [41.764992, 83.344457]\n",
      "  Historic data 7: [41.764992, 83.344457]\n",
      "  Historic data 8: [41.132568, 95.468302]\n",
      "  Historic data 9: [41.132568, 95.468302]\n",
      "  Historic data 10: [41.7962583, 86.2171699]\n",
      "  Historic data 1: [29.65274, 91.103326]\n",
      "  Historic data 2: [29.65274, 91.103326]\n",
      "  Historic data 3: [29.65274, 91.103326]\n",
      "  Historic data 4: [29.65274, 91.103326]\n",
      "  Historic data 5: [37.298966, 95.790848]\n",
      "  Historic data 6: [None, None]\n",
      "  Historic data 7: [None, None]\n",
      "  Historic data 8: [None, None]\n",
      "  Historic data 9: [None, None]\n",
      "  Historic data 10: [None, None]\n",
      "  Historic data 1: [47.629315, -122.136816]\n",
      "  Historic data 2: [47.6297149, -122.1372249]\n",
      "  Historic data 3: [47.6727599, -122.1216733]\n",
      "  Historic data 4: [47.6302783, -122.1363516]\n",
      "  Historic data 5: [47.6310749, -122.1383866]\n",
      "  Historic data 6: [47.6310749, -122.1383866]\n",
      "  Historic data 7: [47.6310749, -122.1383866]\n",
      "  Historic data 8: [47.6310749, -122.1383866]\n",
      "  Historic data 9: [47.6310749, -122.1383866]\n",
      "  Historic data 10: [47.6310749, -122.1383866]\n",
      "  Historic data 1: [49.5877216, 117.4384466]\n",
      "  Historic data 2: [49.5877216, 117.4384466]\n",
      "  Historic data 3: [49.5877216, 117.4384466]\n",
      "  Historic data 4: [49.5877216, 117.4384466]\n",
      "  Historic data 5: [49.5877216, 117.4384466]\n",
      "  Historic data 6: [49.5877216, 117.4384466]\n",
      "  Historic data 7: [49.5877216, 117.4384466]\n",
      "  Historic data 8: [49.5877216, 117.4384466]\n",
      "  Historic data 9: [49.5877216, 117.4384466]\n",
      "  Historic data 10: [49.5877216, 117.4384466]\n",
      "  Historic data 1: [22.6085766, 114.0181299]\n",
      "  Historic data 2: [22.6085766, 114.0181299]\n",
      "  Historic data 3: [22.6085766, 114.0181299]\n",
      "  Historic data 4: [22.6085766, 114.0181299]\n",
      "  Historic data 5: [22.5720266, 113.8821333]\n",
      "  Historic data 6: [22.5589066, 113.9029166]\n",
      "  Historic data 7: [22.5589066, 113.9029166]\n",
      "  Historic data 8: [22.5589066, 113.9029166]\n",
      "  Historic data 9: [23.1483466, 113.3166616]\n",
      "  Historic data 10: [23.1483466, 113.3166616]\n"
     ]
    }
   ],
   "source": [
    "def extract_factors(trip_data):\n",
    "    departure_area = trip_data['cluster'].iloc[0]\n",
    "    hour = trip_data['hour'].iloc[0]\n",
    "    week = trip_data['week'].iloc[0]\n",
    "    day = trip_data['day'].iloc[0]\n",
    "    return departure_area, hour, week, day\n",
    "\n",
    "# Function to query historical trajectories based on conditions\n",
    "def query_historical_data(trajectory, historical_data, K=10):\n",
    "    H = []  # Initialize historical information\n",
    "    \n",
    "    # Extract factors for the input trajectory\n",
    "    t_departure_area, t_hour, t_week, t_day = extract_factors(trajectory)\n",
    "    \n",
    "    # Iterate over each historical trip in historical_data\n",
    "    for idx, hist_trip in historical_data.groupby('tid'):\n",
    "        # Extract factors for the historical trajectory\n",
    "        h_departure_area, h_hour, h_week, h_day = extract_factors(hist_trip)\n",
    "        \n",
    "        # Check if the historical trip matches based on departure area, hour, day, and week\n",
    "        if (t_departure_area == h_departure_area and\n",
    "            abs(t_hour-h_hour)<=4 and\n",
    "            t_week == h_week and\n",
    "            abs(t_day - h_day)<=1):\n",
    "            \n",
    "            # Append the destination lat, lon from the historical trip\n",
    "            destination = hist_trip.iloc[-1][['lat_destination', 'lon_destination']].values.tolist()\n",
    "            H.append(destination)\n",
    "        \n",
    "        # Stop if we've collected K destinations\n",
    "        if len(H) >= K:\n",
    "            break\n",
    "    \n",
    "    # Ensure H has exactly K items, filled with [None, None] if necessary\n",
    "    while len(H) < K:\n",
    "        H.append([None, None])\n",
    "    \n",
    "    return H\n",
    "\n",
    "# Main function to generate historical data for all trajectories\n",
    "def generate_historical_data(filtered_data):\n",
    "    grouped = filtered_data.groupby('cluster')\n",
    "    filtered_data_copy = filtered_data.copy()\n",
    "    historical_data_column = []\n",
    "    \n",
    "    for zone, trip_data in grouped:\n",
    "        #print(f\"Processing departure zone {zone}...\")\n",
    "        \n",
    "        # Query historical data for the current trajectory\n",
    "        H = query_historical_data(trip_data, filtered_data, K=10)\n",
    "        for idx, hist in enumerate(H):\n",
    "            print(f\"  Historic data {idx + 1}: {hist}\")\n",
    "#         # Print the historical data collected for each trajectory\n",
    "#         for idx, hist in enumerate(H):\n",
    "#             print(f\"  Historic data {idx + 1}: {hist}\")\n",
    "        \n",
    "        # Add the historical data to every row in the current trip\n",
    "        historical_data_column.extend([H] * len(trip_data))\n",
    "    \n",
    "    filtered_data_copy['historical_data_departure'] = historical_data_column\n",
    "    return filtered_data_copy\n",
    "\n",
    "filtered_data_with_history = generate_historical_data(filtered_data)\n"
   ]
  },
  {
   "cell_type": "code",
   "execution_count": 56,
   "id": "f21a45ac",
   "metadata": {},
   "outputs": [
    {
     "data": {
      "text/plain": [
       "0         [[43.847158, 125.289116], [18.292739, 109.2001...\n",
       "1         [[43.847158, 125.289116], [18.292739, 109.2001...\n",
       "2         [[43.847158, 125.289116], [18.292739, 109.2001...\n",
       "3         [[43.847158, 125.289116], [18.292739, 109.2001...\n",
       "4         [[43.847158, 125.289116], [18.292739, 109.2001...\n",
       "                                ...                        \n",
       "715049    [[22.6085766, 114.0181299], [22.6085766, 114.0...\n",
       "715050    [[22.6085766, 114.0181299], [22.6085766, 114.0...\n",
       "715051    [[22.6085766, 114.0181299], [22.6085766, 114.0...\n",
       "715052    [[22.6085766, 114.0181299], [22.6085766, 114.0...\n",
       "715053    [[22.6085766, 114.0181299], [22.6085766, 114.0...\n",
       "Name: historical_data_departure, Length: 715054, dtype: object"
      ]
     },
     "execution_count": 56,
     "metadata": {},
     "output_type": "execute_result"
    }
   ],
   "source": [
    "filtered_data_with_history['historical_data_departure']"
   ]
  },
  {
   "cell_type": "code",
   "execution_count": 58,
   "id": "7e23863f",
   "metadata": {},
   "outputs": [],
   "source": [
    "df = filtered_data_with_history[filtered_data_with_history['partial'] != 0]"
   ]
  },
  {
   "cell_type": "code",
   "execution_count": 59,
   "id": "829beebd",
   "metadata": {},
   "outputs": [],
   "source": [
    "from sklearn.preprocessing import MinMaxScaler\n",
    "time_feature=['hour','day','week']\n",
    "categorical=df[time_feature]\n",
    "sc = MinMaxScaler(feature_range=(-1,1))\n",
    "\n",
    "categorical_scaled = sc.fit_transform(categorical)"
   ]
  },
  {
   "cell_type": "code",
   "execution_count": 60,
   "id": "108bcb88",
   "metadata": {},
   "outputs": [],
   "source": [
    "partial=np.array(df['partial'].tolist())\n",
    "partial_scaled = scaler.fit_transform(partial)"
   ]
  },
  {
   "cell_type": "code",
   "execution_count": 61,
   "id": "a9dc62df",
   "metadata": {},
   "outputs": [
    {
     "name": "stdout",
     "output_type": "stream",
     "text": [
      "[[22.6085766, 114.0181299], [22.6085766, 114.0181299], [22.6085766, 114.0181299], [22.6085766, 114.0181299], [22.5720266, 113.8821333], [22.5589066, 113.9029166], [22.5589066, 113.9029166], [22.5589066, 113.9029166], [23.1483466, 113.3166616], [23.1483466, 113.3166616]]\n"
     ]
    }
   ],
   "source": [
    "print(df['historical_data_departure'].iloc[-1])"
   ]
  },
  {
   "cell_type": "code",
   "execution_count": 62,
   "id": "c9b888c7",
   "metadata": {},
   "outputs": [],
   "source": [
    "historical = df['historical_data_departure'].values\n",
    "\n",
    "# Flatten each row into a single array\n",
    "historical_flattened = [np.array(item).flatten() for item in historical]\n",
    "historical_scaled = scaler.fit_transform(historical_flattened)"
   ]
  },
  {
   "cell_type": "code",
   "execution_count": 63,
   "id": "c67cf329",
   "metadata": {},
   "outputs": [
    {
     "data": {
      "text/plain": [
       "array([[ 1.89806814,  0.38359585, -7.25896715, ...,         nan,\n",
       "                nan,         nan],\n",
       "       [ 1.89806814,  0.38359585, -7.25896715, ...,         nan,\n",
       "                nan,         nan],\n",
       "       [ 1.89806814,  0.38359585, -7.25896715, ...,         nan,\n",
       "                nan,         nan],\n",
       "       ...,\n",
       "       [-7.56921642,  0.08263866, -5.77385253, ...,  0.0611493 ,\n",
       "        -7.6185964 ,  0.06304234],\n",
       "       [-7.56921642,  0.08263866, -5.77385253, ...,  0.0611493 ,\n",
       "        -7.6185964 ,  0.06304234],\n",
       "       [-7.56921642,  0.08263866, -5.77385253, ...,  0.0611493 ,\n",
       "        -7.6185964 ,  0.06304234]])"
      ]
     },
     "execution_count": 63,
     "metadata": {},
     "output_type": "execute_result"
    }
   ],
   "source": [
    "historical_scaled"
   ]
  },
  {
   "cell_type": "code",
   "execution_count": 64,
   "id": "bdafb653",
   "metadata": {},
   "outputs": [],
   "source": [
    "import numpy as np\n",
    "\n",
    "historical_data_filled = np.nan_to_num(historical_scaled, nan=0)\n"
   ]
  },
  {
   "cell_type": "code",
   "execution_count": 65,
   "id": "8621f8a8",
   "metadata": {},
   "outputs": [
    {
     "data": {
      "text/plain": [
       "array([[ 1.89806814,  0.38359585, -7.25896715, ...,  0.        ,\n",
       "         0.        ,  0.        ],\n",
       "       [ 1.89806814,  0.38359585, -7.25896715, ...,  0.        ,\n",
       "         0.        ,  0.        ],\n",
       "       [ 1.89806814,  0.38359585, -7.25896715, ...,  0.        ,\n",
       "         0.        ,  0.        ],\n",
       "       ...,\n",
       "       [-7.56921642,  0.08263866, -5.77385253, ...,  0.0611493 ,\n",
       "        -7.6185964 ,  0.06304234],\n",
       "       [-7.56921642,  0.08263866, -5.77385253, ...,  0.0611493 ,\n",
       "        -7.6185964 ,  0.06304234],\n",
       "       [-7.56921642,  0.08263866, -5.77385253, ...,  0.0611493 ,\n",
       "        -7.6185964 ,  0.06304234]])"
      ]
     },
     "execution_count": 65,
     "metadata": {},
     "output_type": "execute_result"
    }
   ],
   "source": [
    "historical_data_filled"
   ]
  },
  {
   "cell_type": "code",
   "execution_count": 66,
   "id": "982e1484",
   "metadata": {},
   "outputs": [
    {
     "name": "stdout",
     "output_type": "stream",
     "text": [
      "(689634, 3)\n",
      "(689634, 20)\n",
      "(689634, 20)\n"
     ]
    }
   ],
   "source": [
    "print(categorical_scaled.shape)\n",
    "print(partial_scaled.shape)\n",
    "print(historical_data_filled.shape)"
   ]
  },
  {
   "cell_type": "code",
   "execution_count": 67,
   "id": "7c98fab2",
   "metadata": {},
   "outputs": [],
   "source": [
    "scaled_target = scaler.fit_transform(df[['lat_destination', 'lon_destination']])"
   ]
  },
  {
   "cell_type": "code",
   "execution_count": 68,
   "id": "ef07e273",
   "metadata": {},
   "outputs": [],
   "source": [
    "categorical_train, categorical_test, partial_train, partial_test, historic_train, historic_test, y_train, y_test = train_test_split(\n",
    "    categorical_scaled,\n",
    "    partial_scaled,\n",
    "    historical_data_filled,\n",
    "    scaled_target,  \n",
    "    test_size=0.2,  \n",
    "    random_state=42  \n",
    ")"
   ]
  },
  {
   "cell_type": "code",
   "execution_count": 69,
   "id": "616878ee",
   "metadata": {},
   "outputs": [
    {
     "name": "stdout",
     "output_type": "stream",
     "text": [
      "(551707, 3)\n",
      "(551707, 20)\n",
      "(551707, 20)\n",
      "(551707, 2)\n"
     ]
    }
   ],
   "source": [
    "print(categorical_train.shape)\n",
    "print(partial_train.shape)\n",
    "print(historic_train.shape)\n",
    "print(y_train.shape)"
   ]
  },
  {
   "cell_type": "code",
   "execution_count": 70,
   "id": "6baa39a4",
   "metadata": {
    "scrolled": true
   },
   "outputs": [
    {
     "name": "stdout",
     "output_type": "stream",
     "text": [
      "(137927, 3)\n",
      "(137927, 20)\n",
      "(137927, 20)\n",
      "(137927, 2)\n"
     ]
    }
   ],
   "source": [
    "print(categorical_test.shape)\n",
    "print(partial_test.shape)\n",
    "print(historic_test.shape)\n",
    "print(y_test.shape)"
   ]
  },
  {
   "cell_type": "code",
   "execution_count": 71,
   "id": "a579c8dd",
   "metadata": {},
   "outputs": [],
   "source": [
    "categorical_reshape = categorical_train.reshape((551707, 1, 3)) \n",
    "partial_reshape = partial_train.reshape((551707, 1, 20)) \n",
    "historical_reshape = historic_train.reshape((551707, 1, 20))\n",
    "y_reshape=y_train.reshape((551707, 1, 2))"
   ]
  },
  {
   "cell_type": "code",
   "execution_count": 72,
   "id": "510c915a",
   "metadata": {},
   "outputs": [],
   "source": [
    "categorical_test_reshape = categorical_test.reshape((137927, 1, 3)) \n",
    "partial_test_reshape = partial_test.reshape((137927, 1, 20)) \n",
    "historical_test_reshape = historic_test.reshape((137927, 1, 20))\n",
    "y_test_reshape=y_test.reshape((137927, 1, 2))"
   ]
  },
  {
   "cell_type": "code",
   "execution_count": 73,
   "id": "a9b641d1",
   "metadata": {},
   "outputs": [],
   "source": [
    "\n",
    "def haversine_distance(y_true, y_pred):\n",
    "    # Earth's radius in kilometers\n",
    "    R = 6371.0\n",
    "    \n",
    "    # Reshape if necessary to ensure [batch_size, 2]\n",
    "    y_true = tf.reshape(y_true, (-1, 2))\n",
    "    y_pred = tf.reshape(y_pred, (-1, 2))\n",
    "    \n",
    "    # Convert degrees to radians manually\n",
    "    pi_div_180 = tf.constant(np.pi / 180.0, dtype=tf.float32)\n",
    "    \n",
    "    y_true_rad = tf.multiply(y_true, pi_div_180)\n",
    "    y_pred_rad = tf.multiply(y_pred, pi_div_180)\n",
    "    \n",
    "    lat_true, lon_true = tf.split(y_true_rad, num_or_size_splits=2, axis=1)\n",
    "    lat_pred, lon_pred = tf.split(y_pred_rad, num_or_size_splits=2, axis=1)\n",
    "    \n",
    "    # Calculate the differences between true and predicted coordinates\n",
    "    delta_lat = lat_pred - lat_true\n",
    "    delta_lon = lon_pred - lon_true\n",
    "    \n",
    "    # Apply the Haversine formula\n",
    "    a = tf.sin(delta_lat / 2.0) ** 2 + tf.cos(lat_true) * tf.cos(lat_pred) * tf.sin(delta_lon / 2.0) ** 2\n",
    "    c = 2 * tf.atan2(tf.sqrt(a), tf.sqrt(1 - a))\n",
    "    # Calculate distance in kilometers\n",
    "    distance = R * c\n",
    "    \n",
    "    # Return mean distance over the batch\n",
    "    return tf.reduce_mean(distance)"
   ]
  },
  {
   "cell_type": "code",
   "execution_count": 155,
   "id": "9df31b75",
   "metadata": {},
   "outputs": [
    {
     "name": "stderr",
     "output_type": "stream",
     "text": [
      "[I 2024-10-16 19:21:13,772] A new study created in memory with name: no-name-d9dc353c-b71c-41cd-a93f-87ce12ed5fdd\n",
      "C:\\Users\\z044971\\AppData\\Local\\Temp/ipykernel_14468/1162140685.py:26: FutureWarning: suggest_loguniform has been deprecated in v3.0.0. This feature will be removed in v6.0.0. See https://github.com/optuna/optuna/releases/tag/v3.0.0. Use suggest_float(..., log=True) instead.\n",
      "  learning_rate = trial.suggest_loguniform('learning_rate', 1e-5, 1e-3)\n",
      "C:\\Users\\z044971\\AppData\\Local\\Temp/ipykernel_14468/1162140685.py:27: FutureWarning: suggest_loguniform has been deprecated in v3.0.0. This feature will be removed in v6.0.0. See https://github.com/optuna/optuna/releases/tag/v3.0.0. Use suggest_float(..., log=True) instead.\n",
      "  l2_reg = trial.suggest_loguniform('l2_reg', 1e-6, 1e-2)\n",
      "[I 2024-10-16 19:44:34,996] Trial 0 finished with value: 44.695709228515625 and parameters: {'lstm_units_partial': 183, 'lstm_units_historic': 103, 'lstm_units_categorical': 43, 'num_dense_layers': 1, 'num_dropout_layers': 0, 'dense_units_0': 148, 'dropout_rate': 0.19092153806826093, 'recurrent_dropout_rate': 0.4354151742112222, 'learning_rate': 0.0002999079881074129, 'l2_reg': 1.471782094530132e-05}. Best is trial 0 with value: 44.695709228515625.\n",
      "[I 2024-10-16 20:23:26,457] Trial 1 finished with value: 76.21410369873047 and parameters: {'lstm_units_partial': 135, 'lstm_units_historic': 107, 'lstm_units_categorical': 45, 'num_dense_layers': 4, 'num_dropout_layers': 0, 'dense_units_0': 394, 'dense_units_1': 504, 'dense_units_2': 296, 'dense_units_3': 421, 'dropout_rate': 0.4495798369558499, 'recurrent_dropout_rate': 0.10602860846506093, 'learning_rate': 0.00016048882031891102, 'l2_reg': 2.0067348509206064e-06}. Best is trial 0 with value: 44.695709228515625.\n",
      "[I 2024-10-16 21:41:42,177] Trial 2 finished with value: 60.46525573730469 and parameters: {'lstm_units_partial': 234, 'lstm_units_historic': 44, 'lstm_units_categorical': 109, 'num_dense_layers': 3, 'num_dropout_layers': 3, 'dense_units_0': 366, 'dense_units_1': 359, 'dense_units_2': 125, 'dropout_rate': 0.40997301168224487, 'recurrent_dropout_rate': 0.4528013374600427, 'learning_rate': 1.7859317832155766e-05, 'l2_reg': 0.0002826616434231691}. Best is trial 0 with value: 44.695709228515625.\n",
      "[I 2024-10-16 22:22:00,397] Trial 3 finished with value: 50.99494171142578 and parameters: {'lstm_units_partial': 215, 'lstm_units_historic': 111, 'lstm_units_categorical': 59, 'num_dense_layers': 4, 'num_dropout_layers': 3, 'dense_units_0': 117, 'dense_units_1': 288, 'dense_units_2': 254, 'dense_units_3': 424, 'dropout_rate': 0.17547678965473407, 'recurrent_dropout_rate': 0.35562988560563114, 'learning_rate': 3.208191777105394e-05, 'l2_reg': 0.006676418340422022}. Best is trial 0 with value: 44.695709228515625.\n",
      "[I 2024-10-16 23:20:42,417] Trial 4 finished with value: 42.94723892211914 and parameters: {'lstm_units_partial': 250, 'lstm_units_historic': 73, 'lstm_units_categorical': 110, 'num_dense_layers': 1, 'num_dropout_layers': 1, 'dense_units_0': 226, 'dropout_rate': 0.2519013998763123, 'recurrent_dropout_rate': 0.1263829083448853, 'learning_rate': 2.3271146179919736e-05, 'l2_reg': 0.00015287429666533252}. Best is trial 4 with value: 42.94723892211914.\n",
      "[I 2024-10-16 23:41:24,228] Trial 5 finished with value: 67.43571472167969 and parameters: {'lstm_units_partial': 104, 'lstm_units_historic': 41, 'lstm_units_categorical': 62, 'num_dense_layers': 2, 'num_dropout_layers': 2, 'dense_units_0': 252, 'dense_units_1': 474, 'dropout_rate': 0.44899719435309804, 'recurrent_dropout_rate': 0.34709693223215715, 'learning_rate': 0.0004944659335823999, 'l2_reg': 2.2133374550924116e-05}. Best is trial 4 with value: 42.94723892211914.\n",
      "[I 2024-10-17 00:01:51,913] Trial 6 finished with value: 68.76512908935547 and parameters: {'lstm_units_partial': 75, 'lstm_units_historic': 60, 'lstm_units_categorical': 33, 'num_dense_layers': 3, 'num_dropout_layers': 0, 'dense_units_0': 142, 'dense_units_1': 244, 'dense_units_2': 123, 'dropout_rate': 0.4460646293562536, 'recurrent_dropout_rate': 0.2166009722693775, 'learning_rate': 0.0004783199593590405, 'l2_reg': 0.0005877571199621211}. Best is trial 4 with value: 42.94723892211914.\n",
      "[I 2024-10-17 00:27:41,247] Trial 7 finished with value: 47.2110710144043 and parameters: {'lstm_units_partial': 169, 'lstm_units_historic': 114, 'lstm_units_categorical': 128, 'num_dense_layers': 1, 'num_dropout_layers': 1, 'dense_units_0': 53, 'dropout_rate': 0.41888907894449345, 'recurrent_dropout_rate': 0.4414312153255001, 'learning_rate': 0.00017516119182615816, 'l2_reg': 8.323877115902133e-06}. Best is trial 4 with value: 42.94723892211914.\n",
      "[I 2024-10-17 00:51:20,727] Trial 8 finished with value: 49.89344024658203 and parameters: {'lstm_units_partial': 155, 'lstm_units_historic': 128, 'lstm_units_categorical': 105, 'num_dense_layers': 1, 'num_dropout_layers': 0, 'dense_units_0': 355, 'dropout_rate': 0.2499878032085614, 'recurrent_dropout_rate': 0.30511204163080896, 'learning_rate': 0.00027829808492301123, 'l2_reg': 0.0006511129525149801}. Best is trial 4 with value: 42.94723892211914.\n",
      "[I 2024-10-17 01:32:40,663] Trial 9 finished with value: 59.503578186035156 and parameters: {'lstm_units_partial': 255, 'lstm_units_historic': 85, 'lstm_units_categorical': 36, 'num_dense_layers': 4, 'num_dropout_layers': 3, 'dense_units_0': 340, 'dense_units_1': 146, 'dense_units_2': 55, 'dense_units_3': 75, 'dropout_rate': 0.29214898990266014, 'recurrent_dropout_rate': 0.43435440348593024, 'learning_rate': 0.00010989568759795895, 'l2_reg': 2.4593731034095346e-05}. Best is trial 4 with value: 42.94723892211914.\n",
      "[I 2024-10-17 02:53:01,093] Trial 10 finished with value: 35.2011833190918 and parameters: {'lstm_units_partial': 207, 'lstm_units_historic': 68, 'lstm_units_categorical': 90, 'num_dense_layers': 2, 'num_dropout_layers': 1, 'dense_units_0': 506, 'dense_units_1': 93, 'dropout_rate': 0.120584052732887, 'recurrent_dropout_rate': 0.10300751507638663, 'learning_rate': 4.338899658244554e-05, 'l2_reg': 0.0058937769602453284}. Best is trial 10 with value: 35.2011833190918.\n",
      "[I 2024-10-17 03:55:18,781] Trial 11 finished with value: 33.149593353271484 and parameters: {'lstm_units_partial': 208, 'lstm_units_historic': 72, 'lstm_units_categorical': 90, 'num_dense_layers': 2, 'num_dropout_layers': 1, 'dense_units_0': 511, 'dense_units_1': 50, 'dropout_rate': 0.10120499221665732, 'recurrent_dropout_rate': 0.11244555093285882, 'learning_rate': 4.290488095803417e-05, 'l2_reg': 0.006947227128036421}. Best is trial 11 with value: 33.149593353271484.\n",
      "[I 2024-10-17 05:05:09,667] Trial 12 finished with value: 35.125160217285156 and parameters: {'lstm_units_partial': 203, 'lstm_units_historic': 72, 'lstm_units_categorical': 86, 'num_dense_layers': 2, 'num_dropout_layers': 1, 'dense_units_0': 496, 'dense_units_1': 57, 'dropout_rate': 0.10290385137374541, 'recurrent_dropout_rate': 0.17201338694900084, 'learning_rate': 4.115997265937823e-05, 'l2_reg': 0.007642345754772037}. Best is trial 11 with value: 33.149593353271484.\n",
      "[I 2024-10-17 07:09:34,726] Trial 13 finished with value: 31.546024322509766 and parameters: {'lstm_units_partial': 201, 'lstm_units_historic': 86, 'lstm_units_categorical': 82, 'num_dense_layers': 2, 'num_dropout_layers': 1, 'dense_units_0': 504, 'dense_units_1': 33, 'dropout_rate': 0.10229704053690594, 'recurrent_dropout_rate': 0.1982443380785452, 'learning_rate': 1.0190797945910089e-05, 'l2_reg': 0.0019196761230913198}. Best is trial 13 with value: 31.546024322509766.\n",
      "[I 2024-10-17 08:35:26,364] Trial 14 finished with value: 40.49540710449219 and parameters: {'lstm_units_partial': 189, 'lstm_units_historic': 87, 'lstm_units_categorical': 70, 'num_dense_layers': 3, 'num_dropout_layers': 2, 'dense_units_0': 430, 'dense_units_1': 41, 'dense_units_2': 500, 'dropout_rate': 0.161476200384657, 'recurrent_dropout_rate': 0.22944026895396985, 'learning_rate': 1.0726477787536664e-05, 'l2_reg': 0.0017575573902581312}. Best is trial 13 with value: 31.546024322509766.\n"
     ]
    },
    {
     "name": "stdout",
     "output_type": "stream",
     "text": [
      "Best hyperparameters:  {'lstm_units_partial': 201, 'lstm_units_historic': 86, 'lstm_units_categorical': 82, 'num_dense_layers': 2, 'num_dropout_layers': 1, 'dense_units_0': 504, 'dense_units_1': 33, 'dropout_rate': 0.10229704053690594, 'recurrent_dropout_rate': 0.1982443380785452, 'learning_rate': 1.0190797945910089e-05, 'l2_reg': 0.0019196761230913198}\n"
     ]
    }
   ],
   "source": [
    "import optuna\n",
    "import numpy as np\n",
    "import tensorflow as tf\n",
    "from tensorflow.keras.models import Model\n",
    "from tensorflow.keras.layers import Input, LSTM, Dense, Concatenate, Masking, Dropout, BatchNormalization\n",
    "from tensorflow.keras.optimizers import Adam\n",
    "from tensorflow.keras import regularizers\n",
    "from tensorflow.keras.callbacks import EarlyStopping, ReduceLROnPlateau\n",
    "\n",
    "# Define the Optuna objective function\n",
    "def objective(trial):\n",
    "\n",
    "    # Suggest hyperparameters for LSTM layers\n",
    "    lstm_units_partial = trial.suggest_int('lstm_units_partial', 64, 256)\n",
    "    lstm_units_historic = trial.suggest_int('lstm_units_historic', 32, 128)\n",
    "    lstm_units_categorical = trial.suggest_int('lstm_units_categorical', 32, 128)\n",
    "    \n",
    "    # Suggest hyperparameters for dense layers\n",
    "    num_dense_layers = trial.suggest_int('num_dense_layers', 1, 4)  # Decide number of dense layers\n",
    "    num_dropout_layers = trial.suggest_int('num_dropout_layers', 0, num_dense_layers)  # Decide number of dropout layers\n",
    "    dense_units = [trial.suggest_int(f'dense_units_{i}', 32, 512) for i in range(num_dense_layers)]\n",
    "    \n",
    "    # Suggest dropout rate, recurrent dropout, learning rate, and L2 regularization\n",
    "    dropout_rate = trial.suggest_float('dropout_rate', 0.1, 0.5)\n",
    "    recurrent_dropout_rate = trial.suggest_float('recurrent_dropout_rate', 0.1, 0.5)\n",
    "    learning_rate = trial.suggest_loguniform('learning_rate', 1e-5, 1e-3)\n",
    "    l2_reg = trial.suggest_loguniform('l2_reg', 1e-6, 1e-2)\n",
    "\n",
    "    # Define input shapes\n",
    "    input_partial = Input(shape=(None, 20), name=\"partial_input\")\n",
    "    input_historic = Input(shape=(None, 20), name=\"historic_input\")\n",
    "    input_categorical = Input(shape=(None, 3), name=\"categorical_input\")\n",
    "\n",
    "    # Masking for variable-length sequences\n",
    "    masked_partial = Masking()(input_partial)\n",
    "    masked_historic = Masking()(input_historic)\n",
    "    masked_categorical = Masking()(input_categorical)\n",
    "\n",
    "    # LSTM layers with Dropout and L2 regularization\n",
    "    lstm_partial = LSTM(lstm_units_partial, return_sequences=False, \n",
    "                        dropout=dropout_rate, recurrent_dropout=recurrent_dropout_rate, \n",
    "                        kernel_regularizer=regularizers.l2(l2_reg))(masked_partial)\n",
    "    \n",
    "    lstm_historic = LSTM(lstm_units_historic, return_sequences=False, \n",
    "                         dropout=dropout_rate, recurrent_dropout=recurrent_dropout_rate, \n",
    "                         kernel_regularizer=regularizers.l2(l2_reg))(masked_historic)\n",
    "    \n",
    "    lstm_categorical = LSTM(lstm_units_categorical, return_sequences=False, \n",
    "                            dropout=dropout_rate, recurrent_dropout=recurrent_dropout_rate, \n",
    "                            kernel_regularizer=regularizers.l2(l2_reg))(masked_categorical)\n",
    "\n",
    "    # Concatenate the outputs of the three branches\n",
    "    concatenated = Concatenate()([lstm_partial, lstm_historic, lstm_categorical])\n",
    "\n",
    "    # Dynamically add Dense and Dropout layers\n",
    "    x = concatenated\n",
    "    for i in range(num_dense_layers):\n",
    "        x = Dense(dense_units[i], activation='relu', kernel_regularizer=regularizers.l2(l2_reg))(x)\n",
    "        x = BatchNormalization()(x)\n",
    "        if i < num_dropout_layers:  # Apply dropout layers only where applicable\n",
    "            x = Dropout(dropout_rate)(x)\n",
    "\n",
    "    # Output layer for lat_destination and lon_destination\n",
    "    output = Dense(2, activation='linear')(x)\n",
    "\n",
    "    # Create the model\n",
    "    model = Model(inputs=[input_partial, input_historic, input_categorical], outputs=output)\n",
    "\n",
    "    # Compile the model with Adam optimizer and haversine_distance loss\n",
    "    optimizer = Adam(learning_rate=learning_rate)\n",
    "    model.compile(optimizer=optimizer, loss=haversine_distance)\n",
    "\n",
    "    # Early stopping and learning rate reduction\n",
    "    early_stopping = EarlyStopping(monitor='val_loss', patience=10, restore_best_weights=True)\n",
    "    reduce_lr = ReduceLROnPlateau(monitor='val_loss', factor=0.2, patience=5)\n",
    "\n",
    "    # Train the model\n",
    "    history = model.fit([partial_reshape, historical_reshape, categorical_reshape], y_reshape,\n",
    "                        validation_data=([partial_test_reshape, historical_test_reshape, categorical_test_reshape], y_test_reshape),\n",
    "                        epochs=50,\n",
    "                        batch_size=32,\n",
    "                        callbacks=[early_stopping, reduce_lr],\n",
    "                        verbose=0)\n",
    "\n",
    "    # Get the validation loss at the last epoch\n",
    "    val_loss = history.history['val_loss'][-1]\n",
    "    \n",
    "    return val_loss\n",
    "\n",
    "# Create the Optuna study and optimize it\n",
    "study = optuna.create_study(direction='minimize')\n",
    "study.optimize(objective, n_trials=15)\n",
    "\n",
    "# Best hyperparameters\n",
    "print(\"Best hyperparameters: \", study.best_params)\n"
   ]
  },
  {
   "cell_type": "code",
   "execution_count": 161,
   "id": "fed601f0",
   "metadata": {},
   "outputs": [
    {
     "data": {
      "text/plain": [
       "31.546024322509766"
      ]
     },
     "execution_count": 161,
     "metadata": {},
     "output_type": "execute_result"
    }
   ],
   "source": [
    "study.best_value"
   ]
  },
  {
   "cell_type": "code",
   "execution_count": 75,
   "id": "c98aa10c",
   "metadata": {},
   "outputs": [
    {
     "data": {
      "text/html": [
       "<pre style=\"white-space:pre;overflow-x:auto;line-height:normal;font-family:Menlo,'DejaVu Sans Mono',consolas,'Courier New',monospace\"><span style=\"font-weight: bold\">Model: \"functional\"</span>\n",
       "</pre>\n"
      ],
      "text/plain": [
       "\u001b[1mModel: \"functional\"\u001b[0m\n"
      ]
     },
     "metadata": {},
     "output_type": "display_data"
    },
    {
     "data": {
      "text/html": [
       "<pre style=\"white-space:pre;overflow-x:auto;line-height:normal;font-family:Menlo,'DejaVu Sans Mono',consolas,'Courier New',monospace\">┏━━━━━━━━━━━━━━━━━━━━━━━━━━━━━━━┳━━━━━━━━━━━━━━━━━━━━━━━━━━━┳━━━━━━━━━━━━━━━━━┳━━━━━━━━━━━━━━━━━━━━━━━━━━━━┓\n",
       "┃<span style=\"font-weight: bold\"> Layer (type)                  </span>┃<span style=\"font-weight: bold\"> Output Shape              </span>┃<span style=\"font-weight: bold\">         Param # </span>┃<span style=\"font-weight: bold\"> Connected to               </span>┃\n",
       "┡━━━━━━━━━━━━━━━━━━━━━━━━━━━━━━━╇━━━━━━━━━━━━━━━━━━━━━━━━━━━╇━━━━━━━━━━━━━━━━━╇━━━━━━━━━━━━━━━━━━━━━━━━━━━━┩\n",
       "│ partial_input (<span style=\"color: #0087ff; text-decoration-color: #0087ff\">InputLayer</span>)    │ (<span style=\"color: #00d7ff; text-decoration-color: #00d7ff\">None</span>, <span style=\"color: #00d7ff; text-decoration-color: #00d7ff\">None</span>, <span style=\"color: #00af00; text-decoration-color: #00af00\">20</span>)          │               <span style=\"color: #00af00; text-decoration-color: #00af00\">0</span> │ -                          │\n",
       "├───────────────────────────────┼───────────────────────────┼─────────────────┼────────────────────────────┤\n",
       "│ historical_input (<span style=\"color: #0087ff; text-decoration-color: #0087ff\">InputLayer</span>) │ (<span style=\"color: #00d7ff; text-decoration-color: #00d7ff\">None</span>, <span style=\"color: #00d7ff; text-decoration-color: #00d7ff\">None</span>, <span style=\"color: #00af00; text-decoration-color: #00af00\">20</span>)          │               <span style=\"color: #00af00; text-decoration-color: #00af00\">0</span> │ -                          │\n",
       "├───────────────────────────────┼───────────────────────────┼─────────────────┼────────────────────────────┤\n",
       "│ categorical_input             │ (<span style=\"color: #00d7ff; text-decoration-color: #00d7ff\">None</span>, <span style=\"color: #00d7ff; text-decoration-color: #00d7ff\">None</span>, <span style=\"color: #00af00; text-decoration-color: #00af00\">3</span>)           │               <span style=\"color: #00af00; text-decoration-color: #00af00\">0</span> │ -                          │\n",
       "│ (<span style=\"color: #0087ff; text-decoration-color: #0087ff\">InputLayer</span>)                  │                           │                 │                            │\n",
       "├───────────────────────────────┼───────────────────────────┼─────────────────┼────────────────────────────┤\n",
       "│ lstm_3 (<span style=\"color: #0087ff; text-decoration-color: #0087ff\">LSTM</span>)                 │ (<span style=\"color: #00d7ff; text-decoration-color: #00d7ff\">None</span>, <span style=\"color: #00af00; text-decoration-color: #00af00\">201</span>)               │         <span style=\"color: #00af00; text-decoration-color: #00af00\">178,488</span> │ partial_input[<span style=\"color: #00af00; text-decoration-color: #00af00\">0</span>][<span style=\"color: #00af00; text-decoration-color: #00af00\">0</span>]        │\n",
       "├───────────────────────────────┼───────────────────────────┼─────────────────┼────────────────────────────┤\n",
       "│ lstm_4 (<span style=\"color: #0087ff; text-decoration-color: #0087ff\">LSTM</span>)                 │ (<span style=\"color: #00d7ff; text-decoration-color: #00d7ff\">None</span>, <span style=\"color: #00af00; text-decoration-color: #00af00\">86</span>)                │          <span style=\"color: #00af00; text-decoration-color: #00af00\">36,808</span> │ historical_input[<span style=\"color: #00af00; text-decoration-color: #00af00\">0</span>][<span style=\"color: #00af00; text-decoration-color: #00af00\">0</span>]     │\n",
       "├───────────────────────────────┼───────────────────────────┼─────────────────┼────────────────────────────┤\n",
       "│ lstm_5 (<span style=\"color: #0087ff; text-decoration-color: #0087ff\">LSTM</span>)                 │ (<span style=\"color: #00d7ff; text-decoration-color: #00d7ff\">None</span>, <span style=\"color: #00af00; text-decoration-color: #00af00\">82</span>)                │          <span style=\"color: #00af00; text-decoration-color: #00af00\">28,208</span> │ categorical_input[<span style=\"color: #00af00; text-decoration-color: #00af00\">0</span>][<span style=\"color: #00af00; text-decoration-color: #00af00\">0</span>]    │\n",
       "├───────────────────────────────┼───────────────────────────┼─────────────────┼────────────────────────────┤\n",
       "│ concatenate (<span style=\"color: #0087ff; text-decoration-color: #0087ff\">Concatenate</span>)     │ (<span style=\"color: #00d7ff; text-decoration-color: #00d7ff\">None</span>, <span style=\"color: #00af00; text-decoration-color: #00af00\">369</span>)               │               <span style=\"color: #00af00; text-decoration-color: #00af00\">0</span> │ lstm_3[<span style=\"color: #00af00; text-decoration-color: #00af00\">0</span>][<span style=\"color: #00af00; text-decoration-color: #00af00\">0</span>],              │\n",
       "│                               │                           │                 │ lstm_4[<span style=\"color: #00af00; text-decoration-color: #00af00\">0</span>][<span style=\"color: #00af00; text-decoration-color: #00af00\">0</span>], lstm_5[<span style=\"color: #00af00; text-decoration-color: #00af00\">0</span>][<span style=\"color: #00af00; text-decoration-color: #00af00\">0</span>] │\n",
       "├───────────────────────────────┼───────────────────────────┼─────────────────┼────────────────────────────┤\n",
       "│ dense (<span style=\"color: #0087ff; text-decoration-color: #0087ff\">Dense</span>)                 │ (<span style=\"color: #00d7ff; text-decoration-color: #00d7ff\">None</span>, <span style=\"color: #00af00; text-decoration-color: #00af00\">504</span>)               │         <span style=\"color: #00af00; text-decoration-color: #00af00\">186,480</span> │ concatenate[<span style=\"color: #00af00; text-decoration-color: #00af00\">0</span>][<span style=\"color: #00af00; text-decoration-color: #00af00\">0</span>]          │\n",
       "├───────────────────────────────┼───────────────────────────┼─────────────────┼────────────────────────────┤\n",
       "│ dense_1 (<span style=\"color: #0087ff; text-decoration-color: #0087ff\">Dense</span>)               │ (<span style=\"color: #00d7ff; text-decoration-color: #00d7ff\">None</span>, <span style=\"color: #00af00; text-decoration-color: #00af00\">33</span>)                │          <span style=\"color: #00af00; text-decoration-color: #00af00\">16,665</span> │ dense[<span style=\"color: #00af00; text-decoration-color: #00af00\">0</span>][<span style=\"color: #00af00; text-decoration-color: #00af00\">0</span>]                │\n",
       "├───────────────────────────────┼───────────────────────────┼─────────────────┼────────────────────────────┤\n",
       "│ dropout (<span style=\"color: #0087ff; text-decoration-color: #0087ff\">Dropout</span>)             │ (<span style=\"color: #00d7ff; text-decoration-color: #00d7ff\">None</span>, <span style=\"color: #00af00; text-decoration-color: #00af00\">33</span>)                │               <span style=\"color: #00af00; text-decoration-color: #00af00\">0</span> │ dense_1[<span style=\"color: #00af00; text-decoration-color: #00af00\">0</span>][<span style=\"color: #00af00; text-decoration-color: #00af00\">0</span>]              │\n",
       "├───────────────────────────────┼───────────────────────────┼─────────────────┼────────────────────────────┤\n",
       "│ dense_2 (<span style=\"color: #0087ff; text-decoration-color: #0087ff\">Dense</span>)               │ (<span style=\"color: #00d7ff; text-decoration-color: #00d7ff\">None</span>, <span style=\"color: #00af00; text-decoration-color: #00af00\">2</span>)                 │              <span style=\"color: #00af00; text-decoration-color: #00af00\">68</span> │ dropout[<span style=\"color: #00af00; text-decoration-color: #00af00\">0</span>][<span style=\"color: #00af00; text-decoration-color: #00af00\">0</span>]              │\n",
       "└───────────────────────────────┴───────────────────────────┴─────────────────┴────────────────────────────┘\n",
       "</pre>\n"
      ],
      "text/plain": [
       "┏━━━━━━━━━━━━━━━━━━━━━━━━━━━━━━━┳━━━━━━━━━━━━━━━━━━━━━━━━━━━┳━━━━━━━━━━━━━━━━━┳━━━━━━━━━━━━━━━━━━━━━━━━━━━━┓\n",
       "┃\u001b[1m \u001b[0m\u001b[1mLayer (type)                 \u001b[0m\u001b[1m \u001b[0m┃\u001b[1m \u001b[0m\u001b[1mOutput Shape             \u001b[0m\u001b[1m \u001b[0m┃\u001b[1m \u001b[0m\u001b[1m        Param #\u001b[0m\u001b[1m \u001b[0m┃\u001b[1m \u001b[0m\u001b[1mConnected to              \u001b[0m\u001b[1m \u001b[0m┃\n",
       "┡━━━━━━━━━━━━━━━━━━━━━━━━━━━━━━━╇━━━━━━━━━━━━━━━━━━━━━━━━━━━╇━━━━━━━━━━━━━━━━━╇━━━━━━━━━━━━━━━━━━━━━━━━━━━━┩\n",
       "│ partial_input (\u001b[38;5;33mInputLayer\u001b[0m)    │ (\u001b[38;5;45mNone\u001b[0m, \u001b[38;5;45mNone\u001b[0m, \u001b[38;5;34m20\u001b[0m)          │               \u001b[38;5;34m0\u001b[0m │ -                          │\n",
       "├───────────────────────────────┼───────────────────────────┼─────────────────┼────────────────────────────┤\n",
       "│ historical_input (\u001b[38;5;33mInputLayer\u001b[0m) │ (\u001b[38;5;45mNone\u001b[0m, \u001b[38;5;45mNone\u001b[0m, \u001b[38;5;34m20\u001b[0m)          │               \u001b[38;5;34m0\u001b[0m │ -                          │\n",
       "├───────────────────────────────┼───────────────────────────┼─────────────────┼────────────────────────────┤\n",
       "│ categorical_input             │ (\u001b[38;5;45mNone\u001b[0m, \u001b[38;5;45mNone\u001b[0m, \u001b[38;5;34m3\u001b[0m)           │               \u001b[38;5;34m0\u001b[0m │ -                          │\n",
       "│ (\u001b[38;5;33mInputLayer\u001b[0m)                  │                           │                 │                            │\n",
       "├───────────────────────────────┼───────────────────────────┼─────────────────┼────────────────────────────┤\n",
       "│ lstm_3 (\u001b[38;5;33mLSTM\u001b[0m)                 │ (\u001b[38;5;45mNone\u001b[0m, \u001b[38;5;34m201\u001b[0m)               │         \u001b[38;5;34m178,488\u001b[0m │ partial_input[\u001b[38;5;34m0\u001b[0m][\u001b[38;5;34m0\u001b[0m]        │\n",
       "├───────────────────────────────┼───────────────────────────┼─────────────────┼────────────────────────────┤\n",
       "│ lstm_4 (\u001b[38;5;33mLSTM\u001b[0m)                 │ (\u001b[38;5;45mNone\u001b[0m, \u001b[38;5;34m86\u001b[0m)                │          \u001b[38;5;34m36,808\u001b[0m │ historical_input[\u001b[38;5;34m0\u001b[0m][\u001b[38;5;34m0\u001b[0m]     │\n",
       "├───────────────────────────────┼───────────────────────────┼─────────────────┼────────────────────────────┤\n",
       "│ lstm_5 (\u001b[38;5;33mLSTM\u001b[0m)                 │ (\u001b[38;5;45mNone\u001b[0m, \u001b[38;5;34m82\u001b[0m)                │          \u001b[38;5;34m28,208\u001b[0m │ categorical_input[\u001b[38;5;34m0\u001b[0m][\u001b[38;5;34m0\u001b[0m]    │\n",
       "├───────────────────────────────┼───────────────────────────┼─────────────────┼────────────────────────────┤\n",
       "│ concatenate (\u001b[38;5;33mConcatenate\u001b[0m)     │ (\u001b[38;5;45mNone\u001b[0m, \u001b[38;5;34m369\u001b[0m)               │               \u001b[38;5;34m0\u001b[0m │ lstm_3[\u001b[38;5;34m0\u001b[0m][\u001b[38;5;34m0\u001b[0m],              │\n",
       "│                               │                           │                 │ lstm_4[\u001b[38;5;34m0\u001b[0m][\u001b[38;5;34m0\u001b[0m], lstm_5[\u001b[38;5;34m0\u001b[0m][\u001b[38;5;34m0\u001b[0m] │\n",
       "├───────────────────────────────┼───────────────────────────┼─────────────────┼────────────────────────────┤\n",
       "│ dense (\u001b[38;5;33mDense\u001b[0m)                 │ (\u001b[38;5;45mNone\u001b[0m, \u001b[38;5;34m504\u001b[0m)               │         \u001b[38;5;34m186,480\u001b[0m │ concatenate[\u001b[38;5;34m0\u001b[0m][\u001b[38;5;34m0\u001b[0m]          │\n",
       "├───────────────────────────────┼───────────────────────────┼─────────────────┼────────────────────────────┤\n",
       "│ dense_1 (\u001b[38;5;33mDense\u001b[0m)               │ (\u001b[38;5;45mNone\u001b[0m, \u001b[38;5;34m33\u001b[0m)                │          \u001b[38;5;34m16,665\u001b[0m │ dense[\u001b[38;5;34m0\u001b[0m][\u001b[38;5;34m0\u001b[0m]                │\n",
       "├───────────────────────────────┼───────────────────────────┼─────────────────┼────────────────────────────┤\n",
       "│ dropout (\u001b[38;5;33mDropout\u001b[0m)             │ (\u001b[38;5;45mNone\u001b[0m, \u001b[38;5;34m33\u001b[0m)                │               \u001b[38;5;34m0\u001b[0m │ dense_1[\u001b[38;5;34m0\u001b[0m][\u001b[38;5;34m0\u001b[0m]              │\n",
       "├───────────────────────────────┼───────────────────────────┼─────────────────┼────────────────────────────┤\n",
       "│ dense_2 (\u001b[38;5;33mDense\u001b[0m)               │ (\u001b[38;5;45mNone\u001b[0m, \u001b[38;5;34m2\u001b[0m)                 │              \u001b[38;5;34m68\u001b[0m │ dropout[\u001b[38;5;34m0\u001b[0m][\u001b[38;5;34m0\u001b[0m]              │\n",
       "└───────────────────────────────┴───────────────────────────┴─────────────────┴────────────────────────────┘\n"
      ]
     },
     "metadata": {},
     "output_type": "display_data"
    },
    {
     "data": {
      "text/html": [
       "<pre style=\"white-space:pre;overflow-x:auto;line-height:normal;font-family:Menlo,'DejaVu Sans Mono',consolas,'Courier New',monospace\"><span style=\"font-weight: bold\"> Total params: </span><span style=\"color: #00af00; text-decoration-color: #00af00\">446,717</span> (1.70 MB)\n",
       "</pre>\n"
      ],
      "text/plain": [
       "\u001b[1m Total params: \u001b[0m\u001b[38;5;34m446,717\u001b[0m (1.70 MB)\n"
      ]
     },
     "metadata": {},
     "output_type": "display_data"
    },
    {
     "data": {
      "text/html": [
       "<pre style=\"white-space:pre;overflow-x:auto;line-height:normal;font-family:Menlo,'DejaVu Sans Mono',consolas,'Courier New',monospace\"><span style=\"font-weight: bold\"> Trainable params: </span><span style=\"color: #00af00; text-decoration-color: #00af00\">446,717</span> (1.70 MB)\n",
       "</pre>\n"
      ],
      "text/plain": [
       "\u001b[1m Trainable params: \u001b[0m\u001b[38;5;34m446,717\u001b[0m (1.70 MB)\n"
      ]
     },
     "metadata": {},
     "output_type": "display_data"
    },
    {
     "data": {
      "text/html": [
       "<pre style=\"white-space:pre;overflow-x:auto;line-height:normal;font-family:Menlo,'DejaVu Sans Mono',consolas,'Courier New',monospace\"><span style=\"font-weight: bold\"> Non-trainable params: </span><span style=\"color: #00af00; text-decoration-color: #00af00\">0</span> (0.00 B)\n",
       "</pre>\n"
      ],
      "text/plain": [
       "\u001b[1m Non-trainable params: \u001b[0m\u001b[38;5;34m0\u001b[0m (0.00 B)\n"
      ]
     },
     "metadata": {},
     "output_type": "display_data"
    }
   ],
   "source": [
    "import tensorflow as tf\n",
    "from tensorflow.keras.models import Model\n",
    "from tensorflow.keras.layers import Input, LSTM, Dense, Dropout\n",
    "from tensorflow.keras.regularizers import l2\n",
    "from tensorflow.keras.optimizers import Adam\n",
    "\n",
    "# Hyperparameters\n",
    "lstm_units_partial = 201\n",
    "lstm_units_historic = 86\n",
    "lstm_units_categorical = 82\n",
    "num_dense_layers = 2\n",
    "dense_units_0 = 504\n",
    "dense_units_1 = 33\n",
    "dropout_rate = 0.10229704053690594\n",
    "recurrent_dropout_rate = 0.1982443380785452\n",
    "learning_rate = 1.0190797945910089e-05\n",
    "l2_reg = 0.0019196761230913198\n",
    "\n",
    "# Inputs\n",
    "partial_input = Input(shape=(None, 20), name=\"partial_input\")\n",
    "historical_input = Input(shape=(None, 20), name=\"historical_input\")\n",
    "categorical_input = Input(shape=(None, 3), name=\"categorical_input\")\n",
    "\n",
    "# LSTM layers\n",
    "partial_lstm = LSTM(lstm_units_partial, \n",
    "                    recurrent_dropout=recurrent_dropout_rate, \n",
    "                    kernel_regularizer=l2(l2_reg))(partial_input)\n",
    "\n",
    "historical_lstm = LSTM(lstm_units_historic, \n",
    "                       recurrent_dropout=recurrent_dropout_rate, \n",
    "                       kernel_regularizer=l2(l2_reg))(historical_input)\n",
    "\n",
    "categorical_lstm = LSTM(lstm_units_categorical, \n",
    "                        recurrent_dropout=recurrent_dropout_rate, \n",
    "                        kernel_regularizer=l2(l2_reg))(categorical_input)\n",
    "\n",
    "# Concatenate LSTM outputs\n",
    "concatenated = tf.keras.layers.concatenate([partial_lstm, historical_lstm, categorical_lstm])\n",
    "\n",
    "# Dense layers\n",
    "x = Dense(dense_units_0, activation='relu', kernel_regularizer=l2(l2_reg))(concatenated)\n",
    "\n",
    "if num_dense_layers > 1:\n",
    "    x = Dense(dense_units_1, activation='relu', kernel_regularizer=l2(l2_reg))(x)\n",
    "\n",
    "# Dropout layer (if specified)\n",
    "if dropout_rate > 0:\n",
    "    x = Dropout(dropout_rate)(x)\n",
    "\n",
    "# Output layer (adjust as needed for your task, e.g., regression or classification)\n",
    "output = Dense(2, activation='linear')(x)  # 2 outputs for latitude and longitude\n",
    "\n",
    "# Compile the model\n",
    "model = Model(inputs=[partial_input, historical_input, categorical_input], outputs=output)\n",
    "model.compile(optimizer=Adam(learning_rate=learning_rate), loss=haversine_distance)\n",
    "\n",
    "# Summary\n",
    "model.summary()\n"
   ]
  },
  {
   "cell_type": "code",
   "execution_count": 82,
   "id": "2d5e6613",
   "metadata": {},
   "outputs": [
    {
     "name": "stdout",
     "output_type": "stream",
     "text": [
      "Epoch 1/10\n",
      "\u001b[1m17241/17241\u001b[0m \u001b[32m━━━━━━━━━━━━━━━━━━━━\u001b[0m\u001b[37m\u001b[0m \u001b[1m100s\u001b[0m 6ms/step - loss: 18.6542 - val_loss: 17.5848 - learning_rate: 1.0191e-05\n",
      "Epoch 2/10\n",
      "\u001b[1m17241/17241\u001b[0m \u001b[32m━━━━━━━━━━━━━━━━━━━━\u001b[0m\u001b[37m\u001b[0m \u001b[1m100s\u001b[0m 6ms/step - loss: 18.4270 - val_loss: 17.1486 - learning_rate: 1.0191e-05\n",
      "Epoch 3/10\n",
      "\u001b[1m17241/17241\u001b[0m \u001b[32m━━━━━━━━━━━━━━━━━━━━\u001b[0m\u001b[37m\u001b[0m \u001b[1m100s\u001b[0m 6ms/step - loss: 18.1802 - val_loss: 16.9819 - learning_rate: 1.0191e-05\n",
      "Epoch 4/10\n",
      "\u001b[1m17241/17241\u001b[0m \u001b[32m━━━━━━━━━━━━━━━━━━━━\u001b[0m\u001b[37m\u001b[0m \u001b[1m106s\u001b[0m 6ms/step - loss: 17.9637 - val_loss: 16.3903 - learning_rate: 1.0191e-05\n",
      "Epoch 5/10\n",
      "\u001b[1m17241/17241\u001b[0m \u001b[32m━━━━━━━━━━━━━━━━━━━━\u001b[0m\u001b[37m\u001b[0m \u001b[1m101s\u001b[0m 6ms/step - loss: 17.6768 - val_loss: 16.6097 - learning_rate: 1.0191e-05\n",
      "Epoch 6/10\n",
      "\u001b[1m17241/17241\u001b[0m \u001b[32m━━━━━━━━━━━━━━━━━━━━\u001b[0m\u001b[37m\u001b[0m \u001b[1m108s\u001b[0m 6ms/step - loss: 17.6162 - val_loss: 16.1027 - learning_rate: 1.0191e-05\n",
      "Epoch 7/10\n",
      "\u001b[1m17241/17241\u001b[0m \u001b[32m━━━━━━━━━━━━━━━━━━━━\u001b[0m\u001b[37m\u001b[0m \u001b[1m101s\u001b[0m 6ms/step - loss: 17.4912 - val_loss: 15.4496 - learning_rate: 1.0191e-05\n",
      "Epoch 8/10\n",
      "\u001b[1m17241/17241\u001b[0m \u001b[32m━━━━━━━━━━━━━━━━━━━━\u001b[0m\u001b[37m\u001b[0m \u001b[1m99s\u001b[0m 6ms/step - loss: 17.3147 - val_loss: 16.0936 - learning_rate: 1.0191e-05\n",
      "Epoch 9/10\n",
      "\u001b[1m17241/17241\u001b[0m \u001b[32m━━━━━━━━━━━━━━━━━━━━\u001b[0m\u001b[37m\u001b[0m \u001b[1m98s\u001b[0m 6ms/step - loss: 16.9703 - val_loss: 15.3573 - learning_rate: 1.0191e-05\n",
      "Epoch 10/10\n",
      "\u001b[1m17241/17241\u001b[0m \u001b[32m━━━━━━━━━━━━━━━━━━━━\u001b[0m\u001b[37m\u001b[0m \u001b[1m100s\u001b[0m 6ms/step - loss: 16.6629 - val_loss: 14.8038 - learning_rate: 1.0191e-05\n"
     ]
    }
   ],
   "source": [
    "from keras.callbacks import EarlyStopping\n",
    "from keras.callbacks import ReduceLROnPlateau\n",
    "# Callbacks: EarlyStopping and ReduceLROnPlateau\n",
    "early_stopping = EarlyStopping(monitor='val_loss', patience=10, restore_best_weights=True)\n",
    "reduce_lr = ReduceLROnPlateau(monitor='val_loss', factor=0.2, patience=5, min_lr=1e-6)\n",
    "\n",
    "# Train the model\n",
    "history = model.fit(\n",
    "    x=[partial_reshape, historical_reshape, categorical_reshape],\n",
    "    y=y_reshape,\n",
    "    validation_data=([partial_test_reshape, historical_test_reshape, categorical_test_reshape], y_test_reshape),\n",
    "    epochs=10,  # Adjust based on your needs\n",
    "    batch_size=32,  # Adjust based on your dataset and hardware\n",
    "    callbacks=[early_stopping, reduce_lr],  # Apply both callbacks\n",
    "    verbose=1\n",
    ")\n"
   ]
  },
  {
   "cell_type": "code",
   "execution_count": 210,
   "id": "8b9f43d3",
   "metadata": {},
   "outputs": [
    {
     "data": {
      "image/png": "[encoded data removed]",
      "text/plain": [
       "<Figure size 432x288 with 1 Axes>"
      ]
     },
     "metadata": {
      "needs_background": "light"
     },
     "output_type": "display_data"
    }
   ],
   "source": [
    "plt.plot(history.history['loss'])\n",
    "plt.plot(history.history['val_loss'])\n",
    "plt.title('Model Loss')\n",
    "plt.ylabel('Loss')\n",
    "plt.xlabel('Epoch')\n",
    "plt.legend(['Train', 'Validation'], loc='upper right')\n",
    "plt.show()"
   ]
  },
  {
   "cell_type": "code",
   "execution_count": 211,
   "id": "8c0d78ee",
   "metadata": {},
   "outputs": [
    {
     "name": "stdout",
     "output_type": "stream",
     "text": [
      "\u001b[1m4311/4311\u001b[0m \u001b[32m━━━━━━━━━━━━━━━━━━━━\u001b[0m\u001b[37m\u001b[0m \u001b[1m8s\u001b[0m 2ms/step - loss: 13.7210\n",
      "Test Loss (Haversine Distance): 13.600610733032227\n"
     ]
    }
   ],
   "source": [
    "loss = model.evaluate([partial_test_reshape,historical_test_reshape, categorical_test_reshape], y_test_reshape)\n",
    "print(f\"Test Loss (Haversine Distance): {loss}\")\n"
   ]
  },
  {
   "cell_type": "code",
   "execution_count": 213,
   "id": "8467e5f0",
   "metadata": {},
   "outputs": [
    {
     "name": "stdout",
     "output_type": "stream",
     "text": [
      "\u001b[1m4311/4311\u001b[0m \u001b[32m━━━━━━━━━━━━━━━━━━━━\u001b[0m\u001b[37m\u001b[0m \u001b[1m10s\u001b[0m 2ms/step\n",
      "[[ 2.2566206  -6.1507974 ]\n",
      " [ 0.01061103  0.16307856]\n",
      " [ 0.02365507  0.16096142]\n",
      " ...\n",
      " [ 0.0370772   0.14860938]\n",
      " [ 0.01298288  0.16248001]\n",
      " [ 0.0116689   0.16315109]]\n"
     ]
    }
   ],
   "source": [
    "predictions = model.predict([partial_test_reshape, historical_test_reshape,categorical_test_reshape])\n",
    "print(predictions)\n"
   ]
  },
  {
   "cell_type": "code",
   "execution_count": 214,
   "id": "b86efa12",
   "metadata": {},
   "outputs": [],
   "source": [
    "y_predicted=scaler.inverse_transform(predictions)"
   ]
  },
  {
   "cell_type": "code",
   "execution_count": 215,
   "id": "89b0683b",
   "metadata": {},
   "outputs": [
    {
     "data": {
      "text/plain": [
       "array([[  47.51476 , -116.82875 ],\n",
       "       [  39.931335,  116.40997 ],\n",
       "       [  39.975376,  116.331764],\n",
       "       ...,\n",
       "       [  40.020695,  115.87547 ],\n",
       "       [  39.939342,  116.38786 ],\n",
       "       [  39.934906,  116.41265 ]], dtype=float32)"
      ]
     },
     "execution_count": 215,
     "metadata": {},
     "output_type": "execute_result"
    }
   ],
   "source": [
    "y_predicted"
   ]
  },
  {
   "cell_type": "code",
   "execution_count": 216,
   "id": "cc52b2e4",
   "metadata": {},
   "outputs": [
    {
     "name": "stdout",
     "output_type": "stream",
     "text": [
      "[[  47.6122233  -122.1976416 ]\n",
      " [  39.95437     116.35537833]\n",
      " [  39.9755      116.3305283 ]\n",
      " ...\n",
      " [  40.0759083   116.3233049 ]\n",
      " [  40.01193     116.5614783 ]\n",
      " [  39.9267083   116.4712833 ]]\n"
     ]
    }
   ],
   "source": [
    "y_actual=scaler.inverse_transform(y_test)\n",
    "print(y_actual)"
   ]
  },
  {
   "cell_type": "code",
   "execution_count": 217,
   "id": "9883a570",
   "metadata": {},
   "outputs": [
    {
     "name": "stdout",
     "output_type": "stream",
     "text": [
      "The Haversine distance is: 0.11 km\n"
     ]
    }
   ],
   "source": [
    "import numpy as np\n",
    "\n",
    "def haversine(coord1, coord2):\n",
    "    # Radius of the Earth in kilometers\n",
    "    R = 6371.0  \n",
    "    \n",
    "    # Convert latitude and longitude from degrees to radians\n",
    "    lat1, lon1 = np.radians(coord1)\n",
    "    lat2, lon2 = np.radians(coord2)\n",
    "    \n",
    "    # Compute differences between coordinates\n",
    "    dlat = lat2 - lat1\n",
    "    dlon = lon2 - lon1\n",
    "    \n",
    "    # Haversine formula\n",
    "    a = np.sin(dlat / 2)**2 + np.cos(lat1) * np.cos(lat2) * np.sin(dlon / 2)**2\n",
    "    c = 2 * np.arctan2(np.sqrt(a), np.sqrt(1 - a))\n",
    "    \n",
    "    # Distance in kilometers\n",
    "    distance = R * c\n",
    "    return distance\n",
    "\n",
    "prediction=[  39.975376,  116.331764]\n",
    "true=[  39.9755     , 116.3305283 ]\n",
    "\n",
    "# Calculate Haversine distance\n",
    "distance = haversine(prediction, true)\n",
    "print(f\"The Haversine distance is: {distance:.2f} km\")\n"
   ]
  },
  {
   "cell_type": "code",
   "execution_count": 218,
   "id": "c354e232",
   "metadata": {
    "scrolled": true
   },
   "outputs": [
    {
     "data": {
      "text/html": [
       "<div style=\"width:100%;\"><div style=\"position:relative;width:100%;height:0;padding-bottom:60%;\"><span style=\"color:#565656\">Make this Notebook Trusted to load map: File -> Trust Notebook</span><iframe src=\"about:blank\" style=\"position:absolute;width:100%;height:100%;left:0;top:0;border:none !important;\" data-html=%3C%21DOCTYPE%20html%3E%0A%3Chead%3E%20%20%20%20%0A%20%20%20%20%3Cmeta%20http-equiv%3D%22content-type%22%20content%3D%22text/html%3B%20charset%3DUTF-8%22%20/%3E%0A%20%20%20%20%0A%20%20%20%20%20%20%20%20%3Cscript%3E%0A%20%20%20%20%20%20%20%20%20%20%20%20L_NO_TOUCH%20%3D%20false%3B%0A%20%20%20%20%20%20%20%20%20%20%20%20L_DISABLE_3D%20%3D%20false%3B%0A%20%20%20%20%20%20%20%20%3C/script%3E%0A%20%20%20%20%0A%20%20%20%20%3Cstyle%3Ehtml%2C%20body%20%7Bwidth%3A%20100%25%3Bheight%3A%20100%25%3Bmargin%3A%200%3Bpadding%3A%200%3B%7D%3C/style%3E%0A%20%20%20%20%3Cstyle%3E%23map%20%7Bposition%3Aabsolute%3Btop%3A0%3Bbottom%3A0%3Bright%3A0%3Bleft%3A0%3B%7D%3C/style%3E%0A%20%20%20%20%3Cscript%20src%3D%22https%3A//cdn.jsdelivr.net/npm/leaflet%401.6.0/dist/leaflet.js%22%3E%3C/script%3E%0A%20%20%20%20%3Cscript%20src%3D%22https%3A//code.jquery.com/jquery-1.12.4.min.js%22%3E%3C/script%3E%0A%20%20%20%20%3Cscript%20src%3D%22https%3A//maxcdn.bootstrapcdn.com/bootstrap/3.2.0/js/bootstrap.min.js%22%3E%3C/script%3E%0A%20%20%20%20%3Cscript%20src%3D%22https%3A//cdnjs.cloudflare.com/ajax/libs/Leaflet.awesome-markers/2.0.2/leaflet.awesome-markers.js%22%3E%3C/script%3E%0A%20%20%20%20%3Clink%20rel%3D%22stylesheet%22%20href%3D%22https%3A//cdn.jsdelivr.net/npm/leaflet%401.6.0/dist/leaflet.css%22/%3E%0A%20%20%20%20%3Clink%20rel%3D%22stylesheet%22%20href%3D%22https%3A//maxcdn.bootstrapcdn.com/bootstrap/3.2.0/css/bootstrap.min.css%22/%3E%0A%20%20%20%20%3Clink%20rel%3D%22stylesheet%22%20href%3D%22https%3A//maxcdn.bootstrapcdn.com/bootstrap/3.2.0/css/bootstrap-theme.min.css%22/%3E%0A%20%20%20%20%3Clink%20rel%3D%22stylesheet%22%20href%3D%22https%3A//maxcdn.bootstrapcdn.com/font-awesome/4.6.3/css/font-awesome.min.css%22/%3E%0A%20%20%20%20%3Clink%20rel%3D%22stylesheet%22%20href%3D%22https%3A//cdnjs.cloudflare.com/ajax/libs/Leaflet.awesome-markers/2.0.2/leaflet.awesome-markers.css%22/%3E%0A%20%20%20%20%3Clink%20rel%3D%22stylesheet%22%20href%3D%22https%3A//cdn.jsdelivr.net/gh/python-visualization/folium/folium/templates/leaflet.awesome.rotate.min.css%22/%3E%0A%20%20%20%20%0A%20%20%20%20%20%20%20%20%20%20%20%20%3Cmeta%20name%3D%22viewport%22%20content%3D%22width%3Ddevice-width%2C%0A%20%20%20%20%20%20%20%20%20%20%20%20%20%20%20%20initial-scale%3D1.0%2C%20maximum-scale%3D1.0%2C%20user-scalable%3Dno%22%20/%3E%0A%20%20%20%20%20%20%20%20%20%20%20%20%3Cstyle%3E%0A%20%20%20%20%20%20%20%20%20%20%20%20%20%20%20%20%23map_f596fa24fcc0412c8223bb926d35a0c7%20%7B%0A%20%20%20%20%20%20%20%20%20%20%20%20%20%20%20%20%20%20%20%20position%3A%20relative%3B%0A%20%20%20%20%20%20%20%20%20%20%20%20%20%20%20%20%20%20%20%20width%3A%20100.0%25%3B%0A%20%20%20%20%20%20%20%20%20%20%20%20%20%20%20%20%20%20%20%20height%3A%20100.0%25%3B%0A%20%20%20%20%20%20%20%20%20%20%20%20%20%20%20%20%20%20%20%20left%3A%200.0%25%3B%0A%20%20%20%20%20%20%20%20%20%20%20%20%20%20%20%20%20%20%20%20top%3A%200.0%25%3B%0A%20%20%20%20%20%20%20%20%20%20%20%20%20%20%20%20%7D%0A%20%20%20%20%20%20%20%20%20%20%20%20%3C/style%3E%0A%20%20%20%20%20%20%20%20%0A%3C/head%3E%0A%3Cbody%3E%20%20%20%20%0A%20%20%20%20%0A%20%20%20%20%20%20%20%20%20%20%20%20%3Cdiv%20class%3D%22folium-map%22%20id%3D%22map_f596fa24fcc0412c8223bb926d35a0c7%22%20%3E%3C/div%3E%0A%20%20%20%20%20%20%20%20%0A%3C/body%3E%0A%3Cscript%3E%20%20%20%20%0A%20%20%20%20%0A%20%20%20%20%20%20%20%20%20%20%20%20var%20map_f596fa24fcc0412c8223bb926d35a0c7%20%3D%20L.map%28%0A%20%20%20%20%20%20%20%20%20%20%20%20%20%20%20%20%22map_f596fa24fcc0412c8223bb926d35a0c7%22%2C%0A%20%20%20%20%20%20%20%20%20%20%20%20%20%20%20%20%7B%0A%20%20%20%20%20%20%20%20%20%20%20%20%20%20%20%20%20%20%20%20center%3A%20%5B39.975438%2C%20116.33114615%5D%2C%0A%20%20%20%20%20%20%20%20%20%20%20%20%20%20%20%20%20%20%20%20crs%3A%20L.CRS.EPSG3857%2C%0A%20%20%20%20%20%20%20%20%20%20%20%20%20%20%20%20%20%20%20%20zoom%3A%206%2C%0A%20%20%20%20%20%20%20%20%20%20%20%20%20%20%20%20%20%20%20%20zoomControl%3A%20true%2C%0A%20%20%20%20%20%20%20%20%20%20%20%20%20%20%20%20%20%20%20%20preferCanvas%3A%20false%2C%0A%20%20%20%20%20%20%20%20%20%20%20%20%20%20%20%20%7D%0A%20%20%20%20%20%20%20%20%20%20%20%20%29%3B%0A%0A%20%20%20%20%20%20%20%20%20%20%20%20%0A%0A%20%20%20%20%20%20%20%20%0A%20%20%20%20%0A%20%20%20%20%20%20%20%20%20%20%20%20var%20tile_layer_2da49e42935b4c798484509f5909a964%20%3D%20L.tileLayer%28%0A%20%20%20%20%20%20%20%20%20%20%20%20%20%20%20%20%22https%3A//%7Bs%7D.tile.openstreetmap.org/%7Bz%7D/%7Bx%7D/%7By%7D.png%22%2C%0A%20%20%20%20%20%20%20%20%20%20%20%20%20%20%20%20%7B%22attribution%22%3A%20%22Data%20by%20%5Cu0026copy%3B%20%5Cu003ca%20href%3D%5C%22http%3A//openstreetmap.org%5C%22%5Cu003eOpenStreetMap%5Cu003c/a%5Cu003e%2C%20under%20%5Cu003ca%20href%3D%5C%22http%3A//www.openstreetmap.org/copyright%5C%22%5Cu003eODbL%5Cu003c/a%5Cu003e.%22%2C%20%22detectRetina%22%3A%20false%2C%20%22maxNativeZoom%22%3A%2018%2C%20%22maxZoom%22%3A%2018%2C%20%22minZoom%22%3A%200%2C%20%22noWrap%22%3A%20false%2C%20%22opacity%22%3A%201%2C%20%22subdomains%22%3A%20%22abc%22%2C%20%22tms%22%3A%20false%7D%0A%20%20%20%20%20%20%20%20%20%20%20%20%29.addTo%28map_f596fa24fcc0412c8223bb926d35a0c7%29%3B%0A%20%20%20%20%20%20%20%20%0A%20%20%20%20%0A%20%20%20%20%20%20%20%20%20%20%20%20var%20marker_5150a250cc9c4b6a8c0e78125422bcb3%20%3D%20L.marker%28%0A%20%20%20%20%20%20%20%20%20%20%20%20%20%20%20%20%5B39.975376%2C%20116.331764%5D%2C%0A%20%20%20%20%20%20%20%20%20%20%20%20%20%20%20%20%7B%7D%0A%20%20%20%20%20%20%20%20%20%20%20%20%29.addTo%28map_f596fa24fcc0412c8223bb926d35a0c7%29%3B%0A%20%20%20%20%20%20%20%20%0A%20%20%20%20%0A%20%20%20%20%20%20%20%20%20%20%20%20var%20icon_5856dd4ed26e4eaab5020dc44260be63%20%3D%20L.AwesomeMarkers.icon%28%0A%20%20%20%20%20%20%20%20%20%20%20%20%20%20%20%20%7B%22extraClasses%22%3A%20%22fa-rotate-0%22%2C%20%22icon%22%3A%20%22info-sign%22%2C%20%22iconColor%22%3A%20%22white%22%2C%20%22markerColor%22%3A%20%22blue%22%2C%20%22prefix%22%3A%20%22glyphicon%22%7D%0A%20%20%20%20%20%20%20%20%20%20%20%20%29%3B%0A%20%20%20%20%20%20%20%20%20%20%20%20marker_5150a250cc9c4b6a8c0e78125422bcb3.setIcon%28icon_5856dd4ed26e4eaab5020dc44260be63%29%3B%0A%20%20%20%20%20%20%20%20%0A%20%20%20%20%0A%20%20%20%20%20%20%20%20var%20popup_03a071cfa7b143929343f5036f0d82b7%20%3D%20L.popup%28%7B%22maxWidth%22%3A%20%22100%25%22%7D%29%3B%0A%0A%20%20%20%20%20%20%20%20%0A%20%20%20%20%20%20%20%20%20%20%20%20var%20html_2bae72845e4c4116af9ea01805fd9220%20%3D%20%24%28%60%3Cdiv%20id%3D%22html_2bae72845e4c4116af9ea01805fd9220%22%20style%3D%22width%3A%20100.0%25%3B%20height%3A%20100.0%25%3B%22%3Eprediction%3C/div%3E%60%29%5B0%5D%3B%0A%20%20%20%20%20%20%20%20%20%20%20%20popup_03a071cfa7b143929343f5036f0d82b7.setContent%28html_2bae72845e4c4116af9ea01805fd9220%29%3B%0A%20%20%20%20%20%20%20%20%0A%0A%20%20%20%20%20%20%20%20marker_5150a250cc9c4b6a8c0e78125422bcb3.bindPopup%28popup_03a071cfa7b143929343f5036f0d82b7%29%0A%20%20%20%20%20%20%20%20%3B%0A%0A%20%20%20%20%20%20%20%20%0A%20%20%20%20%0A%20%20%20%20%0A%20%20%20%20%20%20%20%20%20%20%20%20var%20marker_7267ad68bf5c4b44a6186602078b7465%20%3D%20L.marker%28%0A%20%20%20%20%20%20%20%20%20%20%20%20%20%20%20%20%5B39.9755%2C%20116.3305283%5D%2C%0A%20%20%20%20%20%20%20%20%20%20%20%20%20%20%20%20%7B%7D%0A%20%20%20%20%20%20%20%20%20%20%20%20%29.addTo%28map_f596fa24fcc0412c8223bb926d35a0c7%29%3B%0A%20%20%20%20%20%20%20%20%0A%20%20%20%20%0A%20%20%20%20%20%20%20%20%20%20%20%20var%20icon_0bd895bbebdf441d9e1c5ac853455505%20%3D%20L.AwesomeMarkers.icon%28%0A%20%20%20%20%20%20%20%20%20%20%20%20%20%20%20%20%7B%22extraClasses%22%3A%20%22fa-rotate-0%22%2C%20%22icon%22%3A%20%22info-sign%22%2C%20%22iconColor%22%3A%20%22white%22%2C%20%22markerColor%22%3A%20%22red%22%2C%20%22prefix%22%3A%20%22glyphicon%22%7D%0A%20%20%20%20%20%20%20%20%20%20%20%20%29%3B%0A%20%20%20%20%20%20%20%20%20%20%20%20marker_7267ad68bf5c4b44a6186602078b7465.setIcon%28icon_0bd895bbebdf441d9e1c5ac853455505%29%3B%0A%20%20%20%20%20%20%20%20%0A%20%20%20%20%0A%20%20%20%20%20%20%20%20var%20popup_dfd25b55bb964f12b06eac88e60fd35e%20%3D%20L.popup%28%7B%22maxWidth%22%3A%20%22100%25%22%7D%29%3B%0A%0A%20%20%20%20%20%20%20%20%0A%20%20%20%20%20%20%20%20%20%20%20%20var%20html_b515ef363df04d83863e70554c2ace9f%20%3D%20%24%28%60%3Cdiv%20id%3D%22html_b515ef363df04d83863e70554c2ace9f%22%20style%3D%22width%3A%20100.0%25%3B%20height%3A%20100.0%25%3B%22%3Etrue%3C/div%3E%60%29%5B0%5D%3B%0A%20%20%20%20%20%20%20%20%20%20%20%20popup_dfd25b55bb964f12b06eac88e60fd35e.setContent%28html_b515ef363df04d83863e70554c2ace9f%29%3B%0A%20%20%20%20%20%20%20%20%0A%0A%20%20%20%20%20%20%20%20marker_7267ad68bf5c4b44a6186602078b7465.bindPopup%28popup_dfd25b55bb964f12b06eac88e60fd35e%29%0A%20%20%20%20%20%20%20%20%3B%0A%0A%20%20%20%20%20%20%20%20%0A%20%20%20%20%0A%20%20%20%20%0A%20%20%20%20%20%20%20%20%20%20%20%20var%20poly_line_03c5cd2d4f2f4a6cbf5ddb9210add5a1%20%3D%20L.polyline%28%0A%20%20%20%20%20%20%20%20%20%20%20%20%20%20%20%20%5B%5B39.975376%2C%20116.331764%5D%2C%20%5B39.9755%2C%20116.3305283%5D%5D%2C%0A%20%20%20%20%20%20%20%20%20%20%20%20%20%20%20%20%7B%22bubblingMouseEvents%22%3A%20true%2C%20%22color%22%3A%20%22green%22%2C%20%22dashArray%22%3A%20null%2C%20%22dashOffset%22%3A%20null%2C%20%22fill%22%3A%20false%2C%20%22fillColor%22%3A%20%22green%22%2C%20%22fillOpacity%22%3A%200.2%2C%20%22fillRule%22%3A%20%22evenodd%22%2C%20%22lineCap%22%3A%20%22round%22%2C%20%22lineJoin%22%3A%20%22round%22%2C%20%22noClip%22%3A%20false%2C%20%22opacity%22%3A%200.8%2C%20%22smoothFactor%22%3A%201.0%2C%20%22stroke%22%3A%20true%2C%20%22weight%22%3A%205%7D%0A%20%20%20%20%20%20%20%20%20%20%20%20%29.addTo%28map_f596fa24fcc0412c8223bb926d35a0c7%29%3B%0A%20%20%20%20%20%20%20%20%0A%3C/script%3E onload=\"this.contentDocument.open();this.contentDocument.write(    decodeURIComponent(this.getAttribute('data-html')));this.contentDocument.close();\" allowfullscreen webkitallowfullscreen mozallowfullscreen></iframe></div></div>"
      ],
      "text/plain": [
       "<folium.folium.Map at 0x131fcb43be0>"
      ]
     },
     "execution_count": 218,
     "metadata": {},
     "output_type": "execute_result"
    }
   ],
   "source": [
    "import folium\n",
    "\n",
    "\n",
    "# Create a map centered around the midpoint of the two points\n",
    "midpoint = [(prediction[0] + true[0]) / 2, (prediction[1] + true[1]) / 2]\n",
    "mymap = folium.Map(location=midpoint, zoom_start=6)\n",
    "\n",
    "# Add markers for the two points\n",
    "folium.Marker(location=prediction, popup=\"prediction\", icon=folium.Icon(color='blue')).add_to(mymap)\n",
    "folium.Marker(location=true, popup=\"true\", icon=folium.Icon(color='red')).add_to(mymap)\n",
    "\n",
    "# Draw a line between the two points\n",
    "folium.PolyLine(locations=[prediction, true], color='green', weight=5, opacity=0.8).add_to(mymap)\n",
    "\n",
    "# Display the map\n",
    "mymap"
   ]
  },
  {
   "cell_type": "code",
   "execution_count": null,
   "id": "6496a82b",
   "metadata": {},
   "outputs": [],
   "source": []
  }
 ],
 "metadata": {
  "kernelspec": {
   "display_name": "Python 3 (ipykernel)",
   "language": "python",
   "name": "python3"
  },
  "language_info": {
   "codemirror_mode": {
    "name": "ipython",
    "version": 3
   },
   "file_extension": ".py",
   "mimetype": "text/x-python",
   "name": "python",
   "nbconvert_exporter": "python",
   "pygments_lexer": "ipython3",
   "version": "3.9.8"
  }
 },
 "nbformat": 4,
 "nbformat_minor": 5
}
